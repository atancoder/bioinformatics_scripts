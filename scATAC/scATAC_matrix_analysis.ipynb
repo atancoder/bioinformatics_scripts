{
 "cells": [
  {
   "cell_type": "code",
   "execution_count": 1,
   "id": "0840a2e1",
   "metadata": {},
   "outputs": [],
   "source": [
    "import bioframe as bf\n",
    "import click\n",
    "import pandas as pd\n",
    "import time\n",
    "from collections import defaultdict\n",
    "import warnings\n",
    "warnings.filterwarnings(\"ignore\")\n",
    "import matplotlib.pyplot as plt\n",
    "import numpy as np"
   ]
  },
  {
   "cell_type": "code",
   "execution_count": 2,
   "id": "06ceddf8",
   "metadata": {},
   "outputs": [],
   "source": [
    "GENE = \"MYC\"\n",
    "CHROM_NUM = \"chr8\"\n",
    "CRISPR_FILENAME = \"/oak/stanford/groups/engreitz/Projects/Benchmarking/CRISPR_data/EPCrisprBenchmark_ensemble_data_GRCh38.tsv.gz\"\n",
    "fragment_file = \"/oak/stanford/groups/engreitz/Users/atan5133/data/scATAC/xu_et_al_chrx_fragments.tsv\"\n",
    "TSS_FILE = \"/oak/stanford/groups/engreitz/Users/atan5133/ABC-Enhancer-Gene-Prediction/reference/hg38/CollapsedGeneBounds.hg38.TSS500bp.bed\""
   ]
  },
  {
   "cell_type": "code",
   "execution_count": 3,
   "id": "0130cee7",
   "metadata": {},
   "outputs": [],
   "source": [
    "def does_overlap(start1, end1, start2, end2):\n",
    "    if end1 <= start2 or end2 <= start1:\n",
    "        return False\n",
    "    else:\n",
    "        return True\n",
    "\n",
    "def find_region_idx(candidate_regions_df, coord):\n",
    "    matching_elements = [idx for idx, row in candidate_regions_df.iterrows() if does_overlap(row[\"start\"], row[\"end\"], coord[0], coord[1])]\n",
    "    if matching_elements:\n",
    "        return matching_elements[0]\n",
    "    raise Exception(f\"Cannot find {coord} in enhancer list\")\n",
    "\n",
    "def get_crispr_record(region_idx, enh_df, enh_crispr_df):\n",
    "    return enh_crispr_df[enh_crispr_df[\"start\"] == enh_df.loc[region_idx, \"start\"]].iloc[0]"
   ]
  },
  {
   "cell_type": "code",
   "execution_count": 4,
   "id": "54a5f7ae",
   "metadata": {},
   "outputs": [],
   "source": [
    "tss_df = pd.read_csv(TSS_FILE, sep=\"\\t\")\n",
    "tss_df = tss_df.rename(columns={\"#chr\": \"chrom\"})\n",
    "promoter_TSS = tss_df[tss_df[\"name\"] == GENE].iloc[0][[\"start\", \"end\"]].values"
   ]
  },
  {
   "cell_type": "code",
   "execution_count": 5,
   "id": "f602ad76",
   "metadata": {},
   "outputs": [
    {
     "data": {
      "text/plain": [
       "chrom                    chr8\n",
       "start               127735818\n",
       "end                 127736318\n",
       "name                      MYC\n",
       "score                       0\n",
       "strand                      +\n",
       "Ensembl_ID    ENSG00000136997\n",
       "gene_type      protein_coding\n",
       "Name: 8932, dtype: object"
      ]
     },
     "execution_count": 5,
     "metadata": {},
     "output_type": "execute_result"
    }
   ],
   "source": [
    "tss_df[tss_df[\"name\"] == GENE].iloc[0]"
   ]
  },
  {
   "cell_type": "code",
   "execution_count": 6,
   "id": "3b5adc63",
   "metadata": {},
   "outputs": [],
   "source": [
    "crispr_df = pd.read_csv(CRISPR_FILENAME, sep=\"\\t\").rename(columns={\"chromStart\": \"start\", \"chromEnd\": \"end\"})\n",
    "crispr_df = crispr_df[crispr_df['measuredGeneSymbol'] == GENE].reset_index(drop=True)\n",
    "\n",
    "\n",
    "# enh_tss_df = bf.overlap(enh_df, tss_df, how='inner', return_index=True)\n",
    "# promoter_indexes = list(enh_tss_df[\"index\"])"
   ]
  },
  {
   "cell_type": "code",
   "execution_count": 7,
   "id": "0189a54b",
   "metadata": {},
   "outputs": [
    {
     "data": {
      "text/html": [
       "<div>\n",
       "<style scoped>\n",
       "    .dataframe tbody tr th:only-of-type {\n",
       "        vertical-align: middle;\n",
       "    }\n",
       "\n",
       "    .dataframe tbody tr th {\n",
       "        vertical-align: top;\n",
       "    }\n",
       "\n",
       "    .dataframe thead th {\n",
       "        text-align: right;\n",
       "    }\n",
       "</style>\n",
       "<table border=\"1\" class=\"dataframe\">\n",
       "  <thead>\n",
       "    <tr style=\"text-align: right;\">\n",
       "      <th></th>\n",
       "      <th>dataset</th>\n",
       "      <th>chrom</th>\n",
       "      <th>start</th>\n",
       "      <th>end</th>\n",
       "      <th>name</th>\n",
       "      <th>EffectSize</th>\n",
       "      <th>chrTSS</th>\n",
       "      <th>startTSS</th>\n",
       "      <th>endTSS</th>\n",
       "      <th>measuredGeneSymbol</th>\n",
       "      <th>...</th>\n",
       "      <th>Reference</th>\n",
       "      <th>Regulated</th>\n",
       "      <th>PowerAtEffectSize10</th>\n",
       "      <th>PowerAtEffectSize15</th>\n",
       "      <th>PowerAtEffectSize20</th>\n",
       "      <th>PowerAtEffectSize50</th>\n",
       "      <th>pair_uid</th>\n",
       "      <th>merged_uid</th>\n",
       "      <th>merged_start</th>\n",
       "      <th>merged_end</th>\n",
       "    </tr>\n",
       "  </thead>\n",
       "  <tbody>\n",
       "    <tr>\n",
       "      <th>19</th>\n",
       "      <td>FlowFISH_K562</td>\n",
       "      <td>chr8</td>\n",
       "      <td>127898896</td>\n",
       "      <td>127898963</td>\n",
       "      <td>MYC|chr8:128911142-128911209:*</td>\n",
       "      <td>-0.358840</td>\n",
       "      <td>chr8</td>\n",
       "      <td>127735434.0</td>\n",
       "      <td>127735435.0</td>\n",
       "      <td>MYC</td>\n",
       "      <td>...</td>\n",
       "      <td>Fulco2019</td>\n",
       "      <td>True</td>\n",
       "      <td>NaN</td>\n",
       "      <td>NaN</td>\n",
       "      <td>NaN</td>\n",
       "      <td>NaN</td>\n",
       "      <td>FlowFISH_K562|MYC|chr8:128911142-128911209:*</td>\n",
       "      <td>9250</td>\n",
       "      <td>127898896</td>\n",
       "      <td>127898963</td>\n",
       "    </tr>\n",
       "    <tr>\n",
       "      <th>25</th>\n",
       "      <td>FlowFISH_K562</td>\n",
       "      <td>chr8</td>\n",
       "      <td>127957679</td>\n",
       "      <td>127960199</td>\n",
       "      <td>MYC|chr8:128969925-128972445:*</td>\n",
       "      <td>-0.084605</td>\n",
       "      <td>chr8</td>\n",
       "      <td>127735434.0</td>\n",
       "      <td>127735435.0</td>\n",
       "      <td>MYC</td>\n",
       "      <td>...</td>\n",
       "      <td>Fulco2016</td>\n",
       "      <td>True</td>\n",
       "      <td>NaN</td>\n",
       "      <td>NaN</td>\n",
       "      <td>NaN</td>\n",
       "      <td>NaN</td>\n",
       "      <td>FlowFISH_K562|MYC|chr8:128969925-128972445:*</td>\n",
       "      <td>9256</td>\n",
       "      <td>127957679</td>\n",
       "      <td>127960199</td>\n",
       "    </tr>\n",
       "    <tr>\n",
       "      <th>26</th>\n",
       "      <td>FlowFISH_K562</td>\n",
       "      <td>chr8</td>\n",
       "      <td>127960391</td>\n",
       "      <td>127960502</td>\n",
       "      <td>MYC|chr8:128972637-128972748:*</td>\n",
       "      <td>-0.635930</td>\n",
       "      <td>chr8</td>\n",
       "      <td>127735434.0</td>\n",
       "      <td>127735435.0</td>\n",
       "      <td>MYC</td>\n",
       "      <td>...</td>\n",
       "      <td>Fulco2019</td>\n",
       "      <td>True</td>\n",
       "      <td>NaN</td>\n",
       "      <td>NaN</td>\n",
       "      <td>NaN</td>\n",
       "      <td>NaN</td>\n",
       "      <td>FlowFISH_K562|MYC|chr8:128972637-128972748:*</td>\n",
       "      <td>9257</td>\n",
       "      <td>127960391</td>\n",
       "      <td>127960502</td>\n",
       "    </tr>\n",
       "    <tr>\n",
       "      <th>27</th>\n",
       "      <td>FlowFISH_K562</td>\n",
       "      <td>chr8</td>\n",
       "      <td>127961319</td>\n",
       "      <td>127963819</td>\n",
       "      <td>MYC|chr8:128973565-128976065:*</td>\n",
       "      <td>-0.113047</td>\n",
       "      <td>chr8</td>\n",
       "      <td>127735434.0</td>\n",
       "      <td>127735435.0</td>\n",
       "      <td>MYC</td>\n",
       "      <td>...</td>\n",
       "      <td>Fulco2016</td>\n",
       "      <td>True</td>\n",
       "      <td>NaN</td>\n",
       "      <td>NaN</td>\n",
       "      <td>NaN</td>\n",
       "      <td>NaN</td>\n",
       "      <td>FlowFISH_K562|MYC|chr8:128973565-128976065:*</td>\n",
       "      <td>9258</td>\n",
       "      <td>127961319</td>\n",
       "      <td>127963819</td>\n",
       "    </tr>\n",
       "    <tr>\n",
       "      <th>89</th>\n",
       "      <td>FlowFISH_K562</td>\n",
       "      <td>chr8</td>\n",
       "      <td>129581780</td>\n",
       "      <td>129582461</td>\n",
       "      <td>MYC|chr8:130594026-130594707:*</td>\n",
       "      <td>-0.190130</td>\n",
       "      <td>chr8</td>\n",
       "      <td>127735434.0</td>\n",
       "      <td>127735435.0</td>\n",
       "      <td>MYC</td>\n",
       "      <td>...</td>\n",
       "      <td>Fulco2019</td>\n",
       "      <td>True</td>\n",
       "      <td>NaN</td>\n",
       "      <td>NaN</td>\n",
       "      <td>NaN</td>\n",
       "      <td>NaN</td>\n",
       "      <td>FlowFISH_K562|MYC|chr8:130594026-130594707:*</td>\n",
       "      <td>9320</td>\n",
       "      <td>129581780</td>\n",
       "      <td>129582461</td>\n",
       "    </tr>\n",
       "    <tr>\n",
       "      <th>97</th>\n",
       "      <td>FlowFISH_K562</td>\n",
       "      <td>chr8</td>\n",
       "      <td>129689360</td>\n",
       "      <td>129689694</td>\n",
       "      <td>MYC|chr8:130701606-130701940:*</td>\n",
       "      <td>-0.251250</td>\n",
       "      <td>chr8</td>\n",
       "      <td>127735434.0</td>\n",
       "      <td>127735435.0</td>\n",
       "      <td>MYC</td>\n",
       "      <td>...</td>\n",
       "      <td>Fulco2019</td>\n",
       "      <td>True</td>\n",
       "      <td>NaN</td>\n",
       "      <td>NaN</td>\n",
       "      <td>NaN</td>\n",
       "      <td>NaN</td>\n",
       "      <td>FlowFISH_K562|MYC|chr8:130701606-130701940:*</td>\n",
       "      <td>9328</td>\n",
       "      <td>129689360</td>\n",
       "      <td>129689694</td>\n",
       "    </tr>\n",
       "    <tr>\n",
       "      <th>98</th>\n",
       "      <td>FlowFISH_K562</td>\n",
       "      <td>chr8</td>\n",
       "      <td>129689879</td>\n",
       "      <td>129692379</td>\n",
       "      <td>MYC|chr8:130702125-130704625:*</td>\n",
       "      <td>-0.092625</td>\n",
       "      <td>chr8</td>\n",
       "      <td>127735434.0</td>\n",
       "      <td>127735435.0</td>\n",
       "      <td>MYC</td>\n",
       "      <td>...</td>\n",
       "      <td>Fulco2016</td>\n",
       "      <td>True</td>\n",
       "      <td>NaN</td>\n",
       "      <td>NaN</td>\n",
       "      <td>NaN</td>\n",
       "      <td>NaN</td>\n",
       "      <td>FlowFISH_K562|MYC|chr8:130702125-130704625:*</td>\n",
       "      <td>9329</td>\n",
       "      <td>129689879</td>\n",
       "      <td>129692379</td>\n",
       "    </tr>\n",
       "    <tr>\n",
       "      <th>99</th>\n",
       "      <td>FlowFISH_K562</td>\n",
       "      <td>chr8</td>\n",
       "      <td>129692458</td>\n",
       "      <td>129693217</td>\n",
       "      <td>MYC|chr8:130704704-130705463:*</td>\n",
       "      <td>-0.223050</td>\n",
       "      <td>chr8</td>\n",
       "      <td>127735434.0</td>\n",
       "      <td>127735435.0</td>\n",
       "      <td>MYC</td>\n",
       "      <td>...</td>\n",
       "      <td>Fulco2019</td>\n",
       "      <td>True</td>\n",
       "      <td>NaN</td>\n",
       "      <td>NaN</td>\n",
       "      <td>NaN</td>\n",
       "      <td>NaN</td>\n",
       "      <td>FlowFISH_K562|MYC|chr8:130704704-130705463:*</td>\n",
       "      <td>9330</td>\n",
       "      <td>129692458</td>\n",
       "      <td>129693217</td>\n",
       "    </tr>\n",
       "    <tr>\n",
       "      <th>100</th>\n",
       "      <td>FlowFISH_K562</td>\n",
       "      <td>chr8</td>\n",
       "      <td>129696899</td>\n",
       "      <td>129699399</td>\n",
       "      <td>MYC|chr8:130709145-130711645:*</td>\n",
       "      <td>-0.047932</td>\n",
       "      <td>chr8</td>\n",
       "      <td>127735434.0</td>\n",
       "      <td>127735435.0</td>\n",
       "      <td>MYC</td>\n",
       "      <td>...</td>\n",
       "      <td>Fulco2016</td>\n",
       "      <td>True</td>\n",
       "      <td>NaN</td>\n",
       "      <td>NaN</td>\n",
       "      <td>NaN</td>\n",
       "      <td>NaN</td>\n",
       "      <td>FlowFISH_K562|MYC|chr8:130709145-130711645:*</td>\n",
       "      <td>9331</td>\n",
       "      <td>129693639</td>\n",
       "      <td>129699399</td>\n",
       "    </tr>\n",
       "  </tbody>\n",
       "</table>\n",
       "<p>9 rows × 25 columns</p>\n",
       "</div>"
      ],
      "text/plain": [
       "           dataset chrom      start        end  \\\n",
       "19   FlowFISH_K562  chr8  127898896  127898963   \n",
       "25   FlowFISH_K562  chr8  127957679  127960199   \n",
       "26   FlowFISH_K562  chr8  127960391  127960502   \n",
       "27   FlowFISH_K562  chr8  127961319  127963819   \n",
       "89   FlowFISH_K562  chr8  129581780  129582461   \n",
       "97   FlowFISH_K562  chr8  129689360  129689694   \n",
       "98   FlowFISH_K562  chr8  129689879  129692379   \n",
       "99   FlowFISH_K562  chr8  129692458  129693217   \n",
       "100  FlowFISH_K562  chr8  129696899  129699399   \n",
       "\n",
       "                               name  EffectSize chrTSS     startTSS  \\\n",
       "19   MYC|chr8:128911142-128911209:*   -0.358840   chr8  127735434.0   \n",
       "25   MYC|chr8:128969925-128972445:*   -0.084605   chr8  127735434.0   \n",
       "26   MYC|chr8:128972637-128972748:*   -0.635930   chr8  127735434.0   \n",
       "27   MYC|chr8:128973565-128976065:*   -0.113047   chr8  127735434.0   \n",
       "89   MYC|chr8:130594026-130594707:*   -0.190130   chr8  127735434.0   \n",
       "97   MYC|chr8:130701606-130701940:*   -0.251250   chr8  127735434.0   \n",
       "98   MYC|chr8:130702125-130704625:*   -0.092625   chr8  127735434.0   \n",
       "99   MYC|chr8:130704704-130705463:*   -0.223050   chr8  127735434.0   \n",
       "100  MYC|chr8:130709145-130711645:*   -0.047932   chr8  127735434.0   \n",
       "\n",
       "          endTSS measuredGeneSymbol  ...  Reference  Regulated  \\\n",
       "19   127735435.0                MYC  ...  Fulco2019       True   \n",
       "25   127735435.0                MYC  ...  Fulco2016       True   \n",
       "26   127735435.0                MYC  ...  Fulco2019       True   \n",
       "27   127735435.0                MYC  ...  Fulco2016       True   \n",
       "89   127735435.0                MYC  ...  Fulco2019       True   \n",
       "97   127735435.0                MYC  ...  Fulco2019       True   \n",
       "98   127735435.0                MYC  ...  Fulco2016       True   \n",
       "99   127735435.0                MYC  ...  Fulco2019       True   \n",
       "100  127735435.0                MYC  ...  Fulco2016       True   \n",
       "\n",
       "     PowerAtEffectSize10  PowerAtEffectSize15 PowerAtEffectSize20  \\\n",
       "19                   NaN                  NaN                 NaN   \n",
       "25                   NaN                  NaN                 NaN   \n",
       "26                   NaN                  NaN                 NaN   \n",
       "27                   NaN                  NaN                 NaN   \n",
       "89                   NaN                  NaN                 NaN   \n",
       "97                   NaN                  NaN                 NaN   \n",
       "98                   NaN                  NaN                 NaN   \n",
       "99                   NaN                  NaN                 NaN   \n",
       "100                  NaN                  NaN                 NaN   \n",
       "\n",
       "    PowerAtEffectSize50                                      pair_uid  \\\n",
       "19                  NaN  FlowFISH_K562|MYC|chr8:128911142-128911209:*   \n",
       "25                  NaN  FlowFISH_K562|MYC|chr8:128969925-128972445:*   \n",
       "26                  NaN  FlowFISH_K562|MYC|chr8:128972637-128972748:*   \n",
       "27                  NaN  FlowFISH_K562|MYC|chr8:128973565-128976065:*   \n",
       "89                  NaN  FlowFISH_K562|MYC|chr8:130594026-130594707:*   \n",
       "97                  NaN  FlowFISH_K562|MYC|chr8:130701606-130701940:*   \n",
       "98                  NaN  FlowFISH_K562|MYC|chr8:130702125-130704625:*   \n",
       "99                  NaN  FlowFISH_K562|MYC|chr8:130704704-130705463:*   \n",
       "100                 NaN  FlowFISH_K562|MYC|chr8:130709145-130711645:*   \n",
       "\n",
       "     merged_uid  merged_start  merged_end  \n",
       "19         9250     127898896   127898963  \n",
       "25         9256     127957679   127960199  \n",
       "26         9257     127960391   127960502  \n",
       "27         9258     127961319   127963819  \n",
       "89         9320     129581780   129582461  \n",
       "97         9328     129689360   129689694  \n",
       "98         9329     129689879   129692379  \n",
       "99         9330     129692458   129693217  \n",
       "100        9331     129693639   129699399  \n",
       "\n",
       "[9 rows x 25 columns]"
      ]
     },
     "execution_count": 7,
     "metadata": {},
     "output_type": "execute_result"
    }
   ],
   "source": [
    "crispr_df[crispr_df['Regulated']]"
   ]
  },
  {
   "cell_type": "code",
   "execution_count": 8,
   "id": "7f737d85",
   "metadata": {},
   "outputs": [],
   "source": [
    "# # Experimental\n",
    "\n",
    "# ATAC_ENH_FILENAME = '/oak/stanford/groups/engreitz/Users/atan5133/abc_run_comparisons/results_10_26_dev_atac_k562_hic/Neighborhoods/EnhancerList.txt'\n",
    "# atac_enh_df = pd.read_csv(ATAC_ENH_FILENAME, sep='\\t').rename(columns={\"chr\": \"chrom\"})\n",
    "# atac_enh_df = atac_enh_df[(atac_enh_df[\"chrom\"] == CHROM_NUM)].reset_index(drop=True)\n",
    "# crispr_enhancers = atac_enh_df[[\"chrom\", \"start\", \"end\", \"name\"]]"
   ]
  },
  {
   "cell_type": "code",
   "execution_count": 9,
   "id": "8f10f842",
   "metadata": {},
   "outputs": [],
   "source": [
    "crispr_enhancers = crispr_df.copy()[[\"chrom\", \"start\", \"end\", \"name\"]]\n",
    "\n",
    "# insert the promoter the list of enhancers in the right loci\n",
    "promoter = tss_df[tss_df[\"name\"] == GENE].iloc[0][[\"chrom\", \"start\", \"end\", \"name\"]]\n",
    "split_idx = (crispr_enhancers[\"start\"] < promoter[\"start\"]).sum()\n",
    "crispr_enhancers = pd.concat([crispr_enhancers.loc[:split_idx - 1], pd.DataFrame([promoter.to_dict()]), crispr_enhancers.loc[split_idx:]])\n",
    "crispr_enhancers = crispr_enhancers.drop_duplicates(subset=[\"chrom\", \"start\", \"end\"]).reset_index(drop=True)\n"
   ]
  },
  {
   "cell_type": "code",
   "execution_count": 10,
   "id": "b1c84b26",
   "metadata": {},
   "outputs": [],
   "source": [
    "promoter = tss_df[tss_df[\"name\"] == GENE].iloc[0][[\"chrom\", \"start\", \"end\", \"name\"]]\n",
    "PROMOTER_IDX = find_region_idx(crispr_enhancers, promoter[[\"start\", \"end\"]])"
   ]
  },
  {
   "cell_type": "code",
   "execution_count": 11,
   "id": "226f66f3",
   "metadata": {
    "scrolled": true
   },
   "outputs": [],
   "source": [
    "atac_df = pd.read_csv(\n",
    "    fragment_file,\n",
    "    sep=\"\\t\",\n",
    "    names=[\"chrom\", \"start\", \"end\", \"barcode\", \"readSupport\"],\n",
    ")"
   ]
  },
  {
   "cell_type": "code",
   "execution_count": 12,
   "id": "0653f8d4",
   "metadata": {},
   "outputs": [],
   "source": [
    "overlap_df = bf.overlap(crispr_enhancers, atac_df, how=\"inner\")"
   ]
  },
  {
   "cell_type": "code",
   "execution_count": 13,
   "id": "42c25ba4",
   "metadata": {},
   "outputs": [],
   "source": [
    "region_idx_map = {}\n",
    "idx_region_map = {}\n",
    "for idx, row in crispr_enhancers.iterrows():\n",
    "    coordinates = (row[\"start\"], row[\"end\"])\n",
    "    region_idx_map[coordinates] = idx\n",
    "    idx_region_map[idx] = coordinates"
   ]
  },
  {
   "cell_type": "code",
   "execution_count": 14,
   "id": "0b749393",
   "metadata": {},
   "outputs": [],
   "source": [
    "barcode_map = defaultdict(list)  # enhancer indices associated with the barcode\n",
    "for _, row in overlap_df.iterrows():\n",
    "    coordinates = (row[\"start\"], row[\"end\"])\n",
    "    idx = region_idx_map[coordinates]\n",
    "    barcode_map[row[\"barcode_\"]].append(idx)\n",
    "    \n",
    "TOTAL_CELLS = len(barcode_map)\n",
    "\n",
    "matrix = pd.DataFrame(0,index=barcode_map.keys(), columns=range(len(region_idx_map)))\n",
    "for barcode, indices in barcode_map.items():\n",
    "    matrix.loc[barcode][indices] = 1\n",
    "matrix = matrix.fillna(0).astype(int)\n"
   ]
  },
  {
   "cell_type": "code",
   "execution_count": 15,
   "id": "7901a542",
   "metadata": {},
   "outputs": [],
   "source": [
    "# def qc_matrix(matrix, promoter_indexes):\n",
    "#     \"\"\"\n",
    "#     Remove cells that don't have any active promoter\n",
    "#     \"\"\"\n",
    "#     return matrix[matrix[promoter_indexes].sum(axis=1)>0]\n",
    "\n",
    "# matrix = qc_matrix(matrix, promoter_indexes)\n",
    "# TOTAL_CELLS = len(matrix)"
   ]
  },
  {
   "cell_type": "code",
   "execution_count": 16,
   "id": "913fd0b4",
   "metadata": {},
   "outputs": [
    {
     "name": "stdout",
     "output_type": "stream",
     "text": [
      "0\n",
      "0\n"
     ]
    }
   ],
   "source": [
    "# how many cells express promoter of that gene?\n",
    "promoter_cells = matrix[matrix.loc[:, PROMOTER_IDX] >= 1]\n",
    "non_promoter_cells = matrix[matrix.loc[:, PROMOTER_IDX] == 0]\n",
    "print(len(promoter_cells)) # 2195\n",
    "print(len(non_promoter_cells)) # 3480"
   ]
  },
  {
   "cell_type": "code",
   "execution_count": 17,
   "id": "5ab3d1dd",
   "metadata": {},
   "outputs": [
    {
     "data": {
      "text/plain": [
       "[20, 26, 27, 28, 90, 98, 99, 100, 101]"
      ]
     },
     "execution_count": 17,
     "metadata": {},
     "output_type": "execute_result"
    }
   ],
   "source": [
    "coords = crispr_df[(crispr_df[\"measuredGeneSymbol\"] == GENE) & (crispr_df[\"Regulated\"])][[\"start\", \"end\"]].values\n",
    "crispr_enh_indices = sorted(list({find_region_idx(crispr_enhancers, coord) for coord in coords}))\n",
    "crispr_enh_indices\n"
   ]
  },
  {
   "cell_type": "code",
   "execution_count": 18,
   "id": "427c3cc0",
   "metadata": {},
   "outputs": [
    {
     "data": {
      "text/html": [
       "<div>\n",
       "<style scoped>\n",
       "    .dataframe tbody tr th:only-of-type {\n",
       "        vertical-align: middle;\n",
       "    }\n",
       "\n",
       "    .dataframe tbody tr th {\n",
       "        vertical-align: top;\n",
       "    }\n",
       "\n",
       "    .dataframe thead th {\n",
       "        text-align: right;\n",
       "    }\n",
       "</style>\n",
       "<table border=\"1\" class=\"dataframe\">\n",
       "  <thead>\n",
       "    <tr style=\"text-align: right;\">\n",
       "      <th></th>\n",
       "      <th>20</th>\n",
       "      <th>26</th>\n",
       "      <th>27</th>\n",
       "      <th>28</th>\n",
       "      <th>90</th>\n",
       "      <th>98</th>\n",
       "      <th>99</th>\n",
       "      <th>100</th>\n",
       "      <th>101</th>\n",
       "      <th>5</th>\n",
       "    </tr>\n",
       "  </thead>\n",
       "  <tbody>\n",
       "  </tbody>\n",
       "</table>\n",
       "</div>"
      ],
      "text/plain": [
       "Empty DataFrame\n",
       "Columns: [20, 26, 27, 28, 90, 98, 99, 100, 101, 5]\n",
       "Index: []"
      ]
     },
     "execution_count": 18,
     "metadata": {},
     "output_type": "execute_result"
    }
   ],
   "source": [
    "matrix.loc[:,crispr_enh_indices + [PROMOTER_IDX]][:5]"
   ]
  },
  {
   "cell_type": "code",
   "execution_count": 19,
   "id": "6e8001bd",
   "metadata": {},
   "outputs": [
    {
     "data": {
      "text/html": [
       "<div>\n",
       "<style scoped>\n",
       "    .dataframe tbody tr th:only-of-type {\n",
       "        vertical-align: middle;\n",
       "    }\n",
       "\n",
       "    .dataframe tbody tr th {\n",
       "        vertical-align: top;\n",
       "    }\n",
       "\n",
       "    .dataframe thead th {\n",
       "        text-align: right;\n",
       "    }\n",
       "</style>\n",
       "<table border=\"1\" class=\"dataframe\">\n",
       "  <thead>\n",
       "    <tr style=\"text-align: right;\">\n",
       "      <th></th>\n",
       "      <th>chrom</th>\n",
       "      <th>start</th>\n",
       "      <th>end</th>\n",
       "      <th>name</th>\n",
       "    </tr>\n",
       "  </thead>\n",
       "  <tbody>\n",
       "    <tr>\n",
       "      <th>0</th>\n",
       "      <td>chr8</td>\n",
       "      <td>127177380</td>\n",
       "      <td>127179940</td>\n",
       "      <td>MYC|chr8:128189625-128192185:*</td>\n",
       "    </tr>\n",
       "    <tr>\n",
       "      <th>1</th>\n",
       "      <td>chr8</td>\n",
       "      <td>127565960</td>\n",
       "      <td>127568520</td>\n",
       "      <td>MYC|chr8:128578205-128580765:*</td>\n",
       "    </tr>\n",
       "    <tr>\n",
       "      <th>2</th>\n",
       "      <td>chr8</td>\n",
       "      <td>127615040</td>\n",
       "      <td>127617540</td>\n",
       "      <td>MYC|chr8:128627285-128629785:*</td>\n",
       "    </tr>\n",
       "    <tr>\n",
       "      <th>3</th>\n",
       "      <td>chr8</td>\n",
       "      <td>127724639</td>\n",
       "      <td>127727139</td>\n",
       "      <td>MYC|chr8:128736885-128739385:*</td>\n",
       "    </tr>\n",
       "    <tr>\n",
       "      <th>4</th>\n",
       "      <td>chr8</td>\n",
       "      <td>127727699</td>\n",
       "      <td>127730239</td>\n",
       "      <td>MYC|chr8:128739945-128742485:*</td>\n",
       "    </tr>\n",
       "    <tr>\n",
       "      <th>...</th>\n",
       "      <td>...</td>\n",
       "      <td>...</td>\n",
       "      <td>...</td>\n",
       "      <td>...</td>\n",
       "    </tr>\n",
       "    <tr>\n",
       "      <th>101</th>\n",
       "      <td>chr8</td>\n",
       "      <td>129696899</td>\n",
       "      <td>129699399</td>\n",
       "      <td>MYC|chr8:130709145-130711645:*</td>\n",
       "    </tr>\n",
       "    <tr>\n",
       "      <th>102</th>\n",
       "      <td>chr8</td>\n",
       "      <td>129700499</td>\n",
       "      <td>129703039</td>\n",
       "      <td>MYC|chr8:130712745-130715285:*</td>\n",
       "    </tr>\n",
       "    <tr>\n",
       "      <th>103</th>\n",
       "      <td>chr8</td>\n",
       "      <td>129706899</td>\n",
       "      <td>129709819</td>\n",
       "      <td>MYC|chr8:130719145-130722065:*</td>\n",
       "    </tr>\n",
       "    <tr>\n",
       "      <th>104</th>\n",
       "      <td>chr8</td>\n",
       "      <td>129725239</td>\n",
       "      <td>129727759</td>\n",
       "      <td>MYC|chr8:130737485-130740005:*</td>\n",
       "    </tr>\n",
       "    <tr>\n",
       "      <th>105</th>\n",
       "      <td>chr8</td>\n",
       "      <td>129730679</td>\n",
       "      <td>129733179</td>\n",
       "      <td>MYC|chr8:130742925-130745425:*</td>\n",
       "    </tr>\n",
       "  </tbody>\n",
       "</table>\n",
       "<p>106 rows × 4 columns</p>\n",
       "</div>"
      ],
      "text/plain": [
       "    chrom      start        end                            name\n",
       "0    chr8  127177380  127179940  MYC|chr8:128189625-128192185:*\n",
       "1    chr8  127565960  127568520  MYC|chr8:128578205-128580765:*\n",
       "2    chr8  127615040  127617540  MYC|chr8:128627285-128629785:*\n",
       "3    chr8  127724639  127727139  MYC|chr8:128736885-128739385:*\n",
       "4    chr8  127727699  127730239  MYC|chr8:128739945-128742485:*\n",
       "..    ...        ...        ...                             ...\n",
       "101  chr8  129696899  129699399  MYC|chr8:130709145-130711645:*\n",
       "102  chr8  129700499  129703039  MYC|chr8:130712745-130715285:*\n",
       "103  chr8  129706899  129709819  MYC|chr8:130719145-130722065:*\n",
       "104  chr8  129725239  129727759  MYC|chr8:130737485-130740005:*\n",
       "105  chr8  129730679  129733179  MYC|chr8:130742925-130745425:*\n",
       "\n",
       "[106 rows x 4 columns]"
      ]
     },
     "execution_count": 19,
     "metadata": {},
     "output_type": "execute_result"
    }
   ],
   "source": [
    "crispr_enhancers"
   ]
  },
  {
   "cell_type": "code",
   "execution_count": 20,
   "id": "ce07d76f",
   "metadata": {
    "scrolled": true
   },
   "outputs": [],
   "source": [
    "# # Experimental: Delete later\n",
    "# atac_enhancers = crispr_enhancers\n",
    "# enh_counts = matrix.sum(axis=0)\n",
    "\n",
    "# for idx, row in atac_enhancers.iterrows():\n",
    "#     start, end = row['start'], row['end']\n",
    "#     atac_enhancers.loc[idx,'count'] = enh_counts[idx]\n",
    "    \n",
    "# def merge_multiple_predictions(overlap_df, agg_fn=np.max):\n",
    "#     score_cols = []\n",
    "#     for pattern in [\"count\"]:\n",
    "#         score_cols += list(overlap_df.filter(regex=pattern).columns)\n",
    "#     name_col = \"name\"\n",
    "#     duplicated_names = overlap_df[overlap_df.duplicated(name_col)][name_col]\n",
    "#     new_df = overlap_df.drop_duplicates(subset=[name_col]).reset_index(drop=True)\n",
    "#     for name in duplicated_names:\n",
    "#         entries = overlap_df[overlap_df[name_col] == name]\n",
    "#         for score_col in score_cols:\n",
    "#             new_score = agg_fn(entries[score_col])\n",
    "#             new_entry = new_df[\n",
    "#                 new_df[name_col] == name\n",
    "#             ].index  # Should only be 1 b/c we removed duplicates\n",
    "#             new_df.loc[new_entry, score_col] = new_score\n",
    "#     return new_df\n",
    "\n",
    "# crispr_enh_df = bf.overlap(\n",
    "#     crispr_df,\n",
    "#     atac_enhancers,\n",
    "#     how=\"left\",\n",
    "#     return_index=False\n",
    "# )\n",
    "# crispr_enh_df = merge_multiple_predictions(crispr_enh_df)\n",
    "\n",
    "# # Plot how often an enhancer is on across different cells\n",
    "\n",
    "# X, Y = [], []\n",
    "# crispr_X, crispr_Y = [], []\n",
    "# for idx, row in crispr_enh_df.iterrows():\n",
    "#     counts = row['count_']\n",
    "#     if row['Regulated']:\n",
    "#         crispr_X.append(idx)\n",
    "#         crispr_Y.append(counts)\n",
    "#     else:\n",
    "#         X.append(idx)\n",
    "#         Y.append(counts)\n",
    "\n",
    "# plt.scatter(X,Y)\n",
    "# plt.scatter(crispr_X,crispr_Y, color='red', label=\"CRISPR Enhancers\")\n",
    "# plt.xlabel('enh index')\n",
    "# plt.ylabel('Counts')\n",
    "# plt.legend()\n",
    "# plt.show()"
   ]
  },
  {
   "cell_type": "code",
   "execution_count": 21,
   "id": "150ae733",
   "metadata": {
    "scrolled": false
   },
   "outputs": [
    {
     "data": {
      "image/png": "[encoded data removed]",
      "text/plain": [
       "<Figure size 432x288 with 1 Axes>"
      ]
     },
     "metadata": {
      "needs_background": "light"
     },
     "output_type": "display_data"
    }
   ],
   "source": [
    "# Plot how often an enhancer is on across different cells\n",
    "\n",
    "X, Y = [], []\n",
    "crispr_X, crispr_Y = [], []\n",
    "enh_counts = matrix.sum(axis=0)\n",
    "for idx, count in enumerate(enh_counts):\n",
    "    if idx in crispr_enh_indices:\n",
    "        crispr_X.append(idx)\n",
    "        crispr_Y.append(count)\n",
    "    else:\n",
    "        X.append(idx)\n",
    "        Y.append(count)\n",
    "\n",
    "plt.scatter(X,Y)\n",
    "plt.scatter(crispr_X,crispr_Y, color='red', label=\"CRISPR Enhancers\")\n",
    "plt.axvline(x=PROMOTER_IDX, color=\"black\", linestyle=\"-\", label=f\"Promoter\")\n",
    "plt.xlabel('enh index')\n",
    "plt.ylabel('Counts')\n",
    "plt.legend()\n",
    "plt.show()"
   ]
  },
  {
   "cell_type": "code",
   "execution_count": null,
   "id": "1ce96278",
   "metadata": {},
   "outputs": [],
   "source": []
  },
  {
   "cell_type": "code",
   "execution_count": 22,
   "id": "32b0337c",
   "metadata": {},
   "outputs": [],
   "source": [
    "# create enh accessibility matrix\n",
    "matrices = []\n",
    "for enh_idx in range(len(crispr_enhancers)):  \n",
    "    enh_on_prom_on = promoter_cells[enh_idx].sum()\n",
    "    enh_off_prom_on = len(promoter_cells) - enh_on_prom_on\n",
    "    enh_on_prom_off = non_promoter_cells[enh_idx].sum()\n",
    "    enh_off_prom_off = len(non_promoter_cells) - enh_on_prom_off\n",
    "    enh_matrix = pd.DataFrame(columns=[\"E_on\", \"E_off\"])\n",
    "    enh_matrix.loc[\"P_on\"] = {\"E_on\": enh_on_prom_on, \"E_off\": enh_off_prom_on}\n",
    "    enh_matrix.loc[\"P_off\"] = {\"E_on\": enh_on_prom_off, \"E_off\": enh_off_prom_off}\n",
    "#     enh_matrix.loc[\"E_sum\"] = {\"E_on\": enh_matrix[\"E_on\"].sum(), \"E_off\": enh_matrix[\"E_off\"].sum()}\n",
    "#     enh_matrix[\"P_sum\"] = enh_matrix[\"E_on\"] + enh_matrix[\"E_off\"]\n",
    "    matrices.append(enh_matrix)"
   ]
  },
  {
   "cell_type": "code",
   "execution_count": 23,
   "id": "459ccb04",
   "metadata": {},
   "outputs": [],
   "source": [
    "from IPython.display import display\n",
    "def print_matrices(matrices, only_putative=False):\n",
    "    total_cells = len(matrix)\n",
    "    for idx, enh_mat in enumerate(matrices):\n",
    "        if only_putative and idx not in enh_indexes:\n",
    "            continue\n",
    "        display(enh_mat)\n",
    "        ratio_enh_on = enh_mat.loc[\"P_on\",'E_on'] / enh_mat.loc[\"P_off\",'E_on']\n",
    "        ratio_enh_off = enh_mat.loc[\"P_on\",'E_off'] / enh_mat.loc[\"P_off\",'E_off']\n",
    "        ratio_prom_on = enh_mat.loc[\"P_on\",'E_on'] / enh_mat.loc[\"P_on\",'E_off']\n",
    "        ratio_prom_off = enh_mat.loc[\"P_off\",'E_on'] / enh_mat.loc[\"P_off\",'E_off']\n",
    "        ratio_5 = ratio_enh_on / ratio_enh_off\n",
    "        ratio_6 = ratio_prom_on / ratio_prom_off\n",
    "        print(f\"enh: {idx}\\n\")\n",
    "        print(\"Frequency of enhancer being on:\")\n",
    "        print(\"enh is on {:.2f}%\".format(100*enh_mat['E_on'].sum() / total_cells))\n",
    "        print(\"\\t when prom on {:.2f}%\".format(100*enh_mat.loc[\"P_on\",'E_on'] / enh_mat.loc[\"P_on\"].sum()))\n",
    "        print(\"\\t when prom off {:.2f}%\".format(100*enh_mat.loc[\"P_off\",'E_on'] / enh_mat.loc[\"P_off\"].sum()))\n",
    "        print()\n",
    "        print(\"Frequency of promoter being on:\")\n",
    "        print(\"prom is on {:.2f}%\".format(100*enh_mat.loc[\"P_on\"].sum() / total_cells))\n",
    "        print(\"\\t when enh on {:.2f}%\".format(100*enh_mat.loc[\"P_on\",'E_on'] / enh_mat[\"E_on\"].sum()))\n",
    "        print(\"\\t when enh off {:.2f}%\".format(100*enh_mat.loc[\"P_on\",'E_off'].sum() / enh_mat[\"E_off\"].sum()))\n",
    "        print()\n",
    "        print(\"Ratios (want high): 1={:.2f}, 3={:.2f}, 5={:.2f}, 6={:.2f}\".format(\n",
    "            ratio_enh_on, ratio_prom_on, ratio_5, ratio_6))\n",
    "        print(\"Ratios (want low): 2={:.2f}, 4={:.2f}\".format(\n",
    "            ratio_enh_off, ratio_prom_off))"
   ]
  },
  {
   "cell_type": "code",
   "execution_count": 24,
   "id": "8b5ecb97",
   "metadata": {},
   "outputs": [],
   "source": [
    "# print_matrices(matrices, only_putative=True)"
   ]
  },
  {
   "cell_type": "code",
   "execution_count": 25,
   "id": "707e7a06",
   "metadata": {},
   "outputs": [],
   "source": [
    "# print_matrices(matrices, only_putative=False)"
   ]
  },
  {
   "cell_type": "code",
   "execution_count": 26,
   "id": "d0c974cf",
   "metadata": {},
   "outputs": [],
   "source": [
    "# Plot bayesian probabilities \n",
    "def compute_P_p_e(matrix):\n",
    "    num_e_on = matrix[\"E_on\"].sum()\n",
    "    return matrix.loc[\"P_on\", \"E_on\"] / num_e_on\n",
    "\n",
    "def compute_P_e_p(matrix):\n",
    "    num_p_on = len(promoter_cells)\n",
    "    return matrix.loc[\"P_on\", \"E_on\"] / num_p_on\n",
    "\n",
    "def compute_P_e(matrix):\n",
    "    return matrix[\"E_on\"].sum() / TOTAL_CELLS\n"
   ]
  },
  {
   "cell_type": "code",
   "execution_count": 27,
   "id": "71a01af5",
   "metadata": {},
   "outputs": [
    {
     "ename": "NameError",
     "evalue": "name 'enh_indexes' is not defined",
     "output_type": "error",
     "traceback": [
      "\u001b[0;31m---------------------------------------------------------------------------\u001b[0m",
      "\u001b[0;31mNameError\u001b[0m                                 Traceback (most recent call last)",
      "\u001b[0;32m/tmp/ipykernel_20606/4054300458.py\u001b[0m in \u001b[0;36m<module>\u001b[0;34m\u001b[0m\n\u001b[1;32m      2\u001b[0m \u001b[0mput_X\u001b[0m\u001b[0;34m,\u001b[0m \u001b[0mput_Y\u001b[0m \u001b[0;34m=\u001b[0m \u001b[0;34m[\u001b[0m\u001b[0;34m]\u001b[0m\u001b[0;34m,\u001b[0m \u001b[0;34m[\u001b[0m\u001b[0;34m]\u001b[0m\u001b[0;34m\u001b[0m\u001b[0;34m\u001b[0m\u001b[0m\n\u001b[1;32m      3\u001b[0m \u001b[0;32mfor\u001b[0m \u001b[0midx\u001b[0m\u001b[0;34m,\u001b[0m \u001b[0menh_mat\u001b[0m \u001b[0;32min\u001b[0m \u001b[0menumerate\u001b[0m\u001b[0;34m(\u001b[0m\u001b[0mmatrices\u001b[0m\u001b[0;34m)\u001b[0m\u001b[0;34m:\u001b[0m\u001b[0;34m\u001b[0m\u001b[0;34m\u001b[0m\u001b[0m\n\u001b[0;32m----> 4\u001b[0;31m     \u001b[0;32mif\u001b[0m \u001b[0midx\u001b[0m \u001b[0;32min\u001b[0m \u001b[0menh_indexes\u001b[0m\u001b[0;34m:\u001b[0m\u001b[0;34m\u001b[0m\u001b[0;34m\u001b[0m\u001b[0m\n\u001b[0m\u001b[1;32m      5\u001b[0m         \u001b[0mput_X\u001b[0m\u001b[0;34m.\u001b[0m\u001b[0mappend\u001b[0m\u001b[0;34m(\u001b[0m\u001b[0midx\u001b[0m\u001b[0;34m)\u001b[0m\u001b[0;34m\u001b[0m\u001b[0;34m\u001b[0m\u001b[0m\n\u001b[1;32m      6\u001b[0m         \u001b[0mput_Y\u001b[0m\u001b[0;34m.\u001b[0m\u001b[0mappend\u001b[0m\u001b[0;34m(\u001b[0m\u001b[0mcompute_P_p_e\u001b[0m\u001b[0;34m(\u001b[0m\u001b[0menh_mat\u001b[0m\u001b[0;34m)\u001b[0m\u001b[0;34m)\u001b[0m\u001b[0;34m\u001b[0m\u001b[0;34m\u001b[0m\u001b[0m\n",
      "\u001b[0;31mNameError\u001b[0m: name 'enh_indexes' is not defined"
     ]
    }
   ],
   "source": [
    "X, Y = [], []\n",
    "put_X, put_Y = [], []\n",
    "for idx, enh_mat in enumerate(matrices):\n",
    "    if idx in enh_indexes:\n",
    "        put_X.append(idx)\n",
    "        put_Y.append(compute_P_p_e(enh_mat))\n",
    "    else:\n",
    "        X.append(idx)\n",
    "        Y.append(compute_P_p_e(enh_mat))\n",
    "\n",
    "plt.scatter(X,Y)\n",
    "plt.scatter(put_X,put_Y, color='red', label=\"Putative Enhancers\")\n",
    "plt.axvline(x=PROMOTER_IDX, color=\"black\", linestyle=\"-\", label=f\"Promoter\")\n",
    "plt.xlabel('enh index')\n",
    "plt.ylabel('P(P|E)')\n",
    "plt.legend()\n",
    "plt.show()"
   ]
  },
  {
   "cell_type": "code",
   "execution_count": null,
   "id": "0077e010",
   "metadata": {},
   "outputs": [],
   "source": [
    "X, Y = [], []\n",
    "put_X, put_Y = [], []\n",
    "for idx, enh_mat in enumerate(matrices):\n",
    "    if idx < PROMOTER_IDX:\n",
    "        continue\n",
    "    if idx in enh_indexes:\n",
    "        put_X.append(idx)\n",
    "        put_Y.append(compute_P_e(enh_mat))\n",
    "    else:\n",
    "        X.append(idx)\n",
    "        Y.append(compute_P_e(enh_mat))\n",
    "\n",
    "plt.scatter(X,Y)\n",
    "plt.scatter(put_X,put_Y, color='red', label=\"Putative Enhancers\")\n",
    "plt.axvline(x=PROMOTER_IDX, color=\"black\", linestyle=\"-\", label=f\"Promoter\")\n",
    "plt.xlabel('enh index')\n",
    "plt.ylabel('P(E)')\n",
    "plt.legend()\n",
    "plt.show()"
   ]
  },
  {
   "cell_type": "code",
   "execution_count": null,
   "id": "c3e67f76",
   "metadata": {},
   "outputs": [],
   "source": [
    "X, Y = [], []\n",
    "put_X, put_Y = [], []\n",
    "for idx, enh_mat in enumerate(matrices):\n",
    "    if idx in enh_indexes:\n",
    "        put_X.append(idx)\n",
    "        put_Y.append(compute_P_e_p(enh_mat))\n",
    "    else:\n",
    "        X.append(idx)\n",
    "        Y.append(compute_P_e_p(enh_mat))\n",
    "\n",
    "plt.scatter(X,Y)\n",
    "plt.scatter(put_X,put_Y, color='red', label=\"Putative Enhancers\")\n",
    "plt.axvline(x=PROMOTER_IDX, color=\"black\", linestyle=\"-\", label=f\"Promoter\")\n",
    "plt.xlabel('enh index')\n",
    "plt.ylabel('P(E|P)')\n",
    "plt.legend()\n",
    "plt.show()"
   ]
  },
  {
   "cell_type": "code",
   "execution_count": null,
   "id": "305cbf4a",
   "metadata": {},
   "outputs": [],
   "source": [
    "X, Y = [], []\n",
    "put_X, put_Y = [], []\n",
    "for idx, enh_mat in enumerate(matrices):\n",
    "    if idx in enh_indexes:\n",
    "        put_X.append(idx)\n",
    "        put_Y.append(compute_P_e_p(enh_mat) / compute_P_e(enh_mat))\n",
    "    else:\n",
    "        X.append(idx)\n",
    "        Y.append(compute_P_e_p(enh_mat) / compute_P_e(enh_mat))\n",
    "\n",
    "plt.scatter(X,Y)\n",
    "plt.scatter(put_X,put_Y, color='red', label=\"Putative Enhancers\")\n",
    "plt.axvline(x=PROMOTER_IDX, color=\"black\", linestyle=\"-\", label=f\"Promoter\")\n",
    "plt.xlabel('enh index')\n",
    "plt.ylabel('P(E|P) / P(E)')\n",
    "plt.legend()\n",
    "plt.show()"
   ]
  },
  {
   "cell_type": "code",
   "execution_count": null,
   "id": "1647fe1b",
   "metadata": {},
   "outputs": [],
   "source": [
    "X, Y = [], []\n",
    "put_X, put_Y = [], []\n",
    "for idx, enh_mat in enumerate(matrices):\n",
    "    if idx in enh_indexes:\n",
    "        put_X.append(idx)\n",
    "        put_Y.append(compute_P_e_p(enh_mat) - compute_P_e(enh_mat))\n",
    "    else:\n",
    "        X.append(idx)\n",
    "        Y.append(compute_P_e_p(enh_mat) - compute_P_e(enh_mat))\n",
    "\n",
    "plt.scatter(X,Y)\n",
    "plt.scatter(put_X,put_Y, color='red', label=\"Putative Enhancers\")\n",
    "plt.axvline(x=PROMOTER_IDX, color=\"black\", linestyle=\"-\", label=f\"Promoter\")\n",
    "plt.xlabel('enh index')\n",
    "plt.ylabel('P(E|P) - P(E)')\n",
    "plt.legend()\n",
    "plt.show()"
   ]
  },
  {
   "cell_type": "code",
   "execution_count": null,
   "id": "1ecd8214",
   "metadata": {},
   "outputs": [],
   "source": []
  },
  {
   "cell_type": "code",
   "execution_count": null,
   "id": "0dba23ea",
   "metadata": {},
   "outputs": [],
   "source": []
  },
  {
   "cell_type": "code",
   "execution_count": null,
   "id": "502915cd",
   "metadata": {},
   "outputs": [],
   "source": [
    "# Find strong enhancers by looking at strong ones\n",
    "scores = []\n",
    "for enh_idx in range(len(enh_df)):\n",
    "    score = promoter_cells.loc[:,enh_idx].sum()\n",
    "    scores.append((score, enh_idx))\n",
    "\n",
    "strong_scores = list(reversed(sorted(scores)))\n",
    "print(f\"num promoter cells: {len(promoter_cells)}\")\n",
    "strong_scores\n",
    "    "
   ]
  },
  {
   "cell_type": "code",
   "execution_count": null,
   "id": "bb80a9cf",
   "metadata": {},
   "outputs": [],
   "source": [
    "# Find strong enh by looking at weak ones. Low score => strong\n",
    "scores = []\n",
    "for enh_idx in range(len(enh_df)):\n",
    "    score = non_promoter_cells.loc[:,enh_idx].sum()\n",
    "    scores.append((score, enh_idx))\n",
    "\n",
    "weak_scores = list((sorted(scores)))\n",
    "print(f\"num non promoter cells: {len(non_promoter_cells)}\")\n",
    "weak_scores"
   ]
  },
  {
   "cell_type": "code",
   "execution_count": null,
   "id": "5b711d07",
   "metadata": {},
   "outputs": [],
   "source": [
    "def find_idx_of_enh(score_list, enh_idx):\n",
    "    for i, (score, idx) in enumerate(score_list):\n",
    "        if idx == enh_idx:\n",
    "            return i"
   ]
  },
  {
   "cell_type": "code",
   "execution_count": null,
   "id": "8bc807bb",
   "metadata": {},
   "outputs": [],
   "source": [
    "for i in range(10):\n",
    "    enh_idx = strong_scores[i][1]\n",
    "    print(enh_idx, find_idx_of_enh(strong_scores, enh_idx), find_idx_of_enh(weak_scores, enh_idx))"
   ]
  },
  {
   "cell_type": "code",
   "execution_count": null,
   "id": "dccf3428",
   "metadata": {},
   "outputs": [],
   "source": [
    "# How often is at least 1 putative enh active when promoter is on?\n",
    "enh_counts = promoter_cells.loc[:, enh_indexes].sum(axis=1)\n",
    "num_cells = promoter_cells[enh_counts > 0]\n",
    "print(len(num_cells)/len(promoter_cells))"
   ]
  },
  {
   "cell_type": "code",
   "execution_count": null,
   "id": "5ee52156",
   "metadata": {},
   "outputs": [],
   "source": [
    "# What is the distribution of how many putative enhancers are on for promoter cells?\n",
    "import matplotlib.pyplot as plt\n",
    "plt.hist(enh_counts, color='b', edgecolor='black', bins=6, density=True)\n",
    "plt.xlabel('Value')\n",
    "plt.ylabel('Frequency')\n",
    "plt.title('Histogram of a Distribution')"
   ]
  },
  {
   "cell_type": "code",
   "execution_count": null,
   "id": "c5df94df",
   "metadata": {},
   "outputs": [],
   "source": [
    "# What is the distribution for how many cells are promoters based on # of putative enh turned on?\n",
    "matrix[\"num_put_enh\"] = matrix.loc[:,enh_indexes].sum(axis=1)\n",
    "promoter_cells = matrix[matrix.loc[:, promoter_idx] == 1]\n",
    "non_promoter_cells = matrix[matrix.loc[:, promoter_idx] == 0]"
   ]
  },
  {
   "cell_type": "code",
   "execution_count": null,
   "id": "25139982",
   "metadata": {},
   "outputs": [],
   "source": [
    "data = []\n",
    "for num_indexes in range(len(enh_indexes)):\n",
    "    prom_count = (promoter_cells.loc[:, \"num_put_enh\"] == num_indexes).sum()\n",
    "    non_prom_count = (non_promoter_cells.loc[:, \"num_put_enh\"] == num_indexes).sum()\n",
    "    data.append((num_indexes, prom_count / (prom_count + non_prom_count)))\n",
    "x, y = zip(*data)\n",
    "plt.bar(x,y)\n",
    "plt.xlabel('Num Putative Enhancers')\n",
    "plt.ylabel('Perecentage that are promoters')\n",
    "print(data)"
   ]
  },
  {
   "cell_type": "code",
   "execution_count": null,
   "id": "381b71a1",
   "metadata": {},
   "outputs": [],
   "source": [
    "# When enh 155, why doesn't it cause promoters to be active?\n",
    "# Are there additional enhancers that it works well with? Activation threshold?\n",
    "# Let's see what putative enh it tends to pair with when promoter is active\n",
    "promoter_cells[promoter_cells[155]==1].loc[:,enh_indexes+[\"num_put_enh\"]][:30]"
   ]
  },
  {
   "cell_type": "code",
   "execution_count": null,
   "id": "658948b3",
   "metadata": {},
   "outputs": [],
   "source": [
    "# When enh 155, why doesn't it cause promoters to be active?\n",
    "# Are there additional enhancers that it works well with? Activation threshold?\n",
    "# Let's see what putative enh it tends to pair with when promoter is active\n",
    "non_promoter_cells[non_promoter_cells[155]==1].loc[:,enh_indexes+[\"num_put_enh\"]][:30]"
   ]
  },
  {
   "cell_type": "code",
   "execution_count": null,
   "id": "e5ff5f94",
   "metadata": {},
   "outputs": [],
   "source": [
    "# When enh 155 is on, how often is promoter on? (both on / all enh 155 on)\n",
    "# When enh 155 is off, how often is promoter off? (both off / all enh 155 off)\n",
    "# How do those values differ from the average of promoter on and off rates?\n",
    "enh_idx = 155\n",
    "promoter_on_pct = len(promoter_cells) / len(matrix)\n",
    "promoter_off_pct = len(non_promoter_cells) / len(matrix)\n",
    "print(\"Promoter on/off pct\", promoter_on_pct, promoter_off_pct)\n",
    "\n",
    "enh_155_on = matrix[enh_idx].sum()\n",
    "on_on_count = (promoter_cells[enh_idx] == 1).sum() / enh_155_on\n",
    "enh_155_off = len(matrix) - enh_155_on\n",
    "off_off_count = (non_promoter_cells[enh_idx]==0).sum() / enh_155_off\n",
    "print(\"Enh/Prom on/off pct\", on_on_count, off_off_count)"
   ]
  },
  {
   "cell_type": "code",
   "execution_count": null,
   "id": "724d36ff",
   "metadata": {},
   "outputs": [],
   "source": [
    "prom_enh_counts = promoter_cells[enh_df.index].sum(axis=1)\n",
    "print(prom_enh_counts.mean(), prom_enh_counts.std(), prom_enh_counts.median())"
   ]
  },
  {
   "cell_type": "code",
   "execution_count": null,
   "id": "990cdc01",
   "metadata": {},
   "outputs": [],
   "source": [
    "prom_enh_counts = non_promoter_cells[enh_df.index].sum(axis=1)\n",
    "print(prom_enh_counts.mean(), prom_enh_counts.std(), prom_enh_counts.median())"
   ]
  },
  {
   "cell_type": "code",
   "execution_count": null,
   "id": "eed9b924",
   "metadata": {},
   "outputs": [],
   "source": [
    "genes = tss_df[tss_df[\"chrom\"] == CHROM_NUM][\"name\"].unique()"
   ]
  },
  {
   "cell_type": "code",
   "execution_count": null,
   "id": "305fe13b",
   "metadata": {},
   "outputs": [],
   "source": [
    "crispr_df[(crispr_df[\"measuredGeneSymbol\"].isin(genes)) & crispr_df[\"Regulated\"]].groupby(\"measuredGeneSymbol\").size()"
   ]
  },
  {
   "cell_type": "code",
   "execution_count": null,
   "id": "b4871b48",
   "metadata": {},
   "outputs": [],
   "source": [
    "len(matrix)"
   ]
  },
  {
   "cell_type": "code",
   "execution_count": null,
   "id": "f8267177",
   "metadata": {},
   "outputs": [],
   "source": [
    "crispr_df = crispr_df.rename(columns={\"chromStart\": \"start\", \"chromEnd\": \"end\"})"
   ]
  },
  {
   "cell_type": "code",
   "execution_count": null,
   "id": "8535eea9",
   "metadata": {},
   "outputs": [],
   "source": [
    "crispr_enh_df = crispr_df[[\"chrom\", \"start\", \"end\"]].drop_duplicates().reset_index(drop=True)"
   ]
  },
  {
   "cell_type": "code",
   "execution_count": null,
   "id": "a5298274",
   "metadata": {},
   "outputs": [],
   "source": [
    "overlap_df = bf.overlap(crispr_enh_df, atac_df, how=\"inner\", return_index=True)"
   ]
  },
  {
   "cell_type": "code",
   "execution_count": null,
   "id": "17e2d083",
   "metadata": {},
   "outputs": [],
   "source": [
    "for barcode, df in overlap_df.groupby(\"barcode_\"):\n",
    "    print(barcode)\n",
    "    print(df[\"index\"].unique())\n",
    "    break"
   ]
  },
  {
   "cell_type": "code",
   "execution_count": null,
   "id": "8ce8ca96",
   "metadata": {},
   "outputs": [],
   "source": [
    "start = time.time()\n",
    "m = pd.DataFrame(0, index=overlap_df[\"barcode_\"].unique(), columns=range(overlap_df[\"index\"].max()+1))\n",
    "for barcode, df in overlap_df.groupby(\"barcode_\"):\n",
    "    enh_indices = df[\"index\"]\n",
    "    matrix.loc[barcode] = {idx: 1 for idx in enh_indices}\n",
    "\n",
    "m = matrix.fillna(0).astype(int)\n",
    "print(time.time() - start)"
   ]
  },
  {
   "cell_type": "code",
   "execution_count": null,
   "id": "7165f04d",
   "metadata": {},
   "outputs": [],
   "source": [
    "matrix"
   ]
  },
  {
   "cell_type": "code",
   "execution_count": null,
   "id": "ca087217",
   "metadata": {},
   "outputs": [],
   "source": []
  }
 ],
 "metadata": {
  "kernelspec": {
   "display_name": "error_analysis",
   "language": "python",
   "name": "error_analysis"
  },
  "language_info": {
   "codemirror_mode": {
    "name": "ipython",
    "version": 3
   },
   "file_extension": ".py",
   "mimetype": "text/x-python",
   "name": "python",
   "nbconvert_exporter": "python",
   "pygments_lexer": "ipython3",
   "version": "3.9.18"
  }
 },
 "nbformat": 4,
 "nbformat_minor": 5
}
