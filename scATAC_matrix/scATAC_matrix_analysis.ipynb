{
 "cells": [
  {
   "cell_type": "code",
   "execution_count": 2,
   "id": "0840a2e1",
   "metadata": {},
   "outputs": [],
   "source": [
    "import bioframe as bf\n",
    "import click\n",
    "import pandas as pd\n",
    "import time\n",
    "from collections import defaultdict\n",
    "import warnings\n",
    "warnings.filterwarnings(\"ignore\")\n",
    "import matplotlib.pyplot as plt"
   ]
  },
  {
   "cell_type": "code",
   "execution_count": 3,
   "id": "06ceddf8",
   "metadata": {},
   "outputs": [],
   "source": [
    "GENE = \"MYC\"\n",
    "CRISPR_FILENAME = \"/oak/stanford/groups/engreitz/Projects/Benchmarking/CRISPR_data/EPCrisprBenchmark_ensemble_data_GRCh38.tsv.gz\"\n",
    "fragment_file = \"/oak/stanford/groups/engreitz/Users/atan5133/scATAC_data/fragments_rosa_chr8.tsv\"\n",
    "TSS_FILE = \"/oak/stanford/groups/engreitz/Users/atan5133/abc_run_comparisons/ABC-Enhancer-Gene-Prediction/reference/hg38/CollapsedGeneBounds.hg38.TS500bp.bed\""
   ]
  },
  {
   "cell_type": "code",
   "execution_count": 4,
   "id": "0130cee7",
   "metadata": {},
   "outputs": [],
   "source": [
    "def does_overlap(start1, end1, start2, end2):\n",
    "    if end1 <= start2 or end2 <= start1:\n",
    "        return False\n",
    "    else:\n",
    "        return True\n",
    "\n",
    "def find_region_idx(candidate_regions_df, coord):\n",
    "    matching_elements = [idx for idx, row in candidate_regions_df.iterrows() if does_overlap(row[\"start\"], row[\"end\"], coord[0], coord[1])]\n",
    "    if matching_elements:\n",
    "        return matching_elements[0]\n",
    "    return None\n",
    "\n",
    "def get_crispr_record(region_idx, enh_df, enh_crispr_df):\n",
    "    return enh_crispr_df[enh_crispr_df[\"start\"] == enh_df.loc[region_idx, \"start\"]].iloc[0]"
   ]
  },
  {
   "cell_type": "code",
   "execution_count": 5,
   "id": "54a5f7ae",
   "metadata": {},
   "outputs": [],
   "source": [
    "tss_df = pd.read_csv(TSS_FILE, sep=\"\\t\")\n",
    "tss_df = tss_df.rename(columns={\"#chr\": \"chrom\"})\n",
    "promoter_TSS = tss_df[tss_df[\"name\"] == GENE].iloc[0][[\"start\", \"end\"]].values"
   ]
  },
  {
   "cell_type": "code",
   "execution_count": 6,
   "id": "04d03f63",
   "metadata": {},
   "outputs": [
    {
     "data": {
      "text/plain": [
       "chrom         chr8\n",
       "start    127735818\n",
       "end      127736318\n",
       "name           MYC\n",
       "Name: 8932, dtype: object"
      ]
     },
     "execution_count": 6,
     "metadata": {},
     "output_type": "execute_result"
    }
   ],
   "source": [
    "tss_df[tss_df[\"name\"] == GENE].iloc[0][[\"chrom\", \"start\", \"end\", \"name\"]]"
   ]
  },
  {
   "cell_type": "code",
   "execution_count": 7,
   "id": "3b5adc63",
   "metadata": {},
   "outputs": [],
   "source": [
    "crispr_df = pd.read_csv(CRISPR_FILENAME, sep=\"\\t\").rename(columns={\"chromStart\": \"start\", \"chromEnd\": \"end\"})\n",
    "crispr_df = crispr_df[(crispr_df[\"chrom\"] == \"chr8\")].reset_index(drop=True)\n",
    "\n",
    "\n",
    "# enh_tss_df = bf.overlap(enh_df, tss_df, how='inner', return_index=True)\n",
    "# promoter_indexes = list(enh_tss_df[\"index\"])"
   ]
  },
  {
   "cell_type": "code",
   "execution_count": 49,
   "id": "1ac76bbc",
   "metadata": {},
   "outputs": [
    {
     "data": {
      "text/plain": [
       "dataset                                              Gasperini2019\n",
       "chrom                                                         chr8\n",
       "start                                                     11879271\n",
       "end                                                       11880174\n",
       "name                                 CTSB|chr8:11736780-11737683:.\n",
       "EffectSize                                               -0.072544\n",
       "chrTSS                                                        chr8\n",
       "startTSS                                                11869447.0\n",
       "endTSS                                                  11869448.0\n",
       "measuredGeneSymbol                                            CTSB\n",
       "Significant                                                   True\n",
       "pValueAdjusted                                            0.016785\n",
       "PowerAtEffectSize25                                            0.8\n",
       "ValidConnection                                               True\n",
       "CellType                                                      K562\n",
       "Reference                                   Gasperini et al., 2019\n",
       "Regulated                                                     True\n",
       "PowerAtEffectSize10                                           0.15\n",
       "PowerAtEffectSize15                                           0.35\n",
       "PowerAtEffectSize20                                            0.6\n",
       "PowerAtEffectSize50                                            1.0\n",
       "pair_uid               Gasperini2019|CTSB|chr8:11736780-11737683:.\n",
       "merged_uid                                                    8555\n",
       "merged_start                                              11879271\n",
       "merged_end                                                11880174\n",
       "Name: 0, dtype: object"
      ]
     },
     "execution_count": 49,
     "metadata": {},
     "output_type": "execute_result"
    }
   ],
   "source": [
    "crispr_df.iloc[0]"
   ]
  },
  {
   "cell_type": "code",
   "execution_count": 8,
   "id": "8f10f842",
   "metadata": {},
   "outputs": [],
   "source": [
    "crispr_enhancers = crispr_df.copy()[[\"chrom\", \"start\", \"end\", \"name\"]]\n",
    "promoter = tss_df[tss_df[\"name\"] == GENE].iloc[0][[\"chrom\", \"start\", \"end\", \"name\"]]\n",
    "split_idx = sum(crispr_enhancers[\"start\"] < promoter[\"start\"])\n",
    "crispr_enhancers = pd.concat([crispr_enhancers.loc[:split_idx - 1], pd.DataFrame([promoter.to_dict()]), crispr_enhancers.loc[split_idx:]])\n",
    "crispr_enhancers = crispr_enhancers.drop_duplicates(subset=[\"chrom\", \"start\", \"end\"]).reset_index(drop=True)\n",
    "\n",
    "PROMOTER_IDX = find_region_idx(crispr_enhancers, promoter[[\"start\", \"end\"]])"
   ]
  },
  {
   "cell_type": "code",
   "execution_count": 9,
   "id": "226f66f3",
   "metadata": {
    "scrolled": true
   },
   "outputs": [],
   "source": [
    "atac_df = pd.read_csv(\n",
    "    fragment_file,\n",
    "    sep=\"\\t\",\n",
    "    names=[\"chrom\", \"start\", \"end\", \"barcode\", \"readSupport\"],\n",
    ")"
   ]
  },
  {
   "cell_type": "code",
   "execution_count": 10,
   "id": "0653f8d4",
   "metadata": {},
   "outputs": [],
   "source": [
    "overlap_df = bf.overlap(crispr_enhancers, atac_df, how=\"inner\")"
   ]
  },
  {
   "cell_type": "code",
   "execution_count": 11,
   "id": "42c25ba4",
   "metadata": {},
   "outputs": [],
   "source": [
    "region_idx_map = {}\n",
    "for idx, row in crispr_enhancers.iterrows():\n",
    "    coordinates = (row[\"start\"], row[\"end\"])\n",
    "    region_idx_map[coordinates] = idx"
   ]
  },
  {
   "cell_type": "code",
   "execution_count": 12,
   "id": "ddce7e2a",
   "metadata": {},
   "outputs": [
    {
     "data": {
      "text/html": [
       "<div>\n",
       "<style scoped>\n",
       "    .dataframe tbody tr th:only-of-type {\n",
       "        vertical-align: middle;\n",
       "    }\n",
       "\n",
       "    .dataframe tbody tr th {\n",
       "        vertical-align: top;\n",
       "    }\n",
       "\n",
       "    .dataframe thead th {\n",
       "        text-align: right;\n",
       "    }\n",
       "</style>\n",
       "<table border=\"1\" class=\"dataframe\">\n",
       "  <thead>\n",
       "    <tr style=\"text-align: right;\">\n",
       "      <th></th>\n",
       "      <th>chrom</th>\n",
       "      <th>start</th>\n",
       "      <th>end</th>\n",
       "      <th>name</th>\n",
       "      <th>chrom_</th>\n",
       "      <th>start_</th>\n",
       "      <th>end_</th>\n",
       "      <th>barcode_</th>\n",
       "      <th>readSupport_</th>\n",
       "    </tr>\n",
       "  </thead>\n",
       "  <tbody>\n",
       "    <tr>\n",
       "      <th>0</th>\n",
       "      <td>chr8</td>\n",
       "      <td>11879271</td>\n",
       "      <td>11880174</td>\n",
       "      <td>CTSB|chr8:11736780-11737683:.</td>\n",
       "      <td>chr8</td>\n",
       "      <td>11879323</td>\n",
       "      <td>11879439</td>\n",
       "      <td>CCTATTTAGTGGCGGA-1</td>\n",
       "      <td>1</td>\n",
       "    </tr>\n",
       "    <tr>\n",
       "      <th>1</th>\n",
       "      <td>chr8</td>\n",
       "      <td>11879271</td>\n",
       "      <td>11880174</td>\n",
       "      <td>CTSB|chr8:11736780-11737683:.</td>\n",
       "      <td>chr8</td>\n",
       "      <td>11879327</td>\n",
       "      <td>11879509</td>\n",
       "      <td>AATAGAGGTTTAGCTC-1</td>\n",
       "      <td>1</td>\n",
       "    </tr>\n",
       "    <tr>\n",
       "      <th>2</th>\n",
       "      <td>chr8</td>\n",
       "      <td>11879271</td>\n",
       "      <td>11880174</td>\n",
       "      <td>CTSB|chr8:11736780-11737683:.</td>\n",
       "      <td>chr8</td>\n",
       "      <td>11879328</td>\n",
       "      <td>11879511</td>\n",
       "      <td>CACATACAGGCATTGT-1</td>\n",
       "      <td>3</td>\n",
       "    </tr>\n",
       "    <tr>\n",
       "      <th>3</th>\n",
       "      <td>chr8</td>\n",
       "      <td>11879271</td>\n",
       "      <td>11880174</td>\n",
       "      <td>CTSB|chr8:11736780-11737683:.</td>\n",
       "      <td>chr8</td>\n",
       "      <td>11879330</td>\n",
       "      <td>11879483</td>\n",
       "      <td>TCATGAGGTTGTGATG-1</td>\n",
       "      <td>1</td>\n",
       "    </tr>\n",
       "    <tr>\n",
       "      <th>4</th>\n",
       "      <td>chr8</td>\n",
       "      <td>11879271</td>\n",
       "      <td>11880174</td>\n",
       "      <td>CTSB|chr8:11736780-11737683:.</td>\n",
       "      <td>chr8</td>\n",
       "      <td>11879332</td>\n",
       "      <td>11879374</td>\n",
       "      <td>ACCTGGTCATTGACAT-1</td>\n",
       "      <td>1</td>\n",
       "    </tr>\n",
       "    <tr>\n",
       "      <th>...</th>\n",
       "      <td>...</td>\n",
       "      <td>...</td>\n",
       "      <td>...</td>\n",
       "      <td>...</td>\n",
       "      <td>...</td>\n",
       "      <td>...</td>\n",
       "      <td>...</td>\n",
       "      <td>...</td>\n",
       "      <td>...</td>\n",
       "    </tr>\n",
       "    <tr>\n",
       "      <th>287210</th>\n",
       "      <td>chr8</td>\n",
       "      <td>144691318</td>\n",
       "      <td>144692059</td>\n",
       "      <td>RPL8|chr8:145916703-145917444:.</td>\n",
       "      <td>chr8</td>\n",
       "      <td>144691307</td>\n",
       "      <td>144691505</td>\n",
       "      <td>AATTGTGTCAGCAAAG-1</td>\n",
       "      <td>2</td>\n",
       "    </tr>\n",
       "    <tr>\n",
       "      <th>287211</th>\n",
       "      <td>chr8</td>\n",
       "      <td>144691318</td>\n",
       "      <td>144692059</td>\n",
       "      <td>RPL8|chr8:145916703-145917444:.</td>\n",
       "      <td>chr8</td>\n",
       "      <td>144691307</td>\n",
       "      <td>144691559</td>\n",
       "      <td>CTCATTGTCCACCCTG-1</td>\n",
       "      <td>1</td>\n",
       "    </tr>\n",
       "    <tr>\n",
       "      <th>287212</th>\n",
       "      <td>chr8</td>\n",
       "      <td>144691318</td>\n",
       "      <td>144692059</td>\n",
       "      <td>RPL8|chr8:145916703-145917444:.</td>\n",
       "      <td>chr8</td>\n",
       "      <td>144691307</td>\n",
       "      <td>144691691</td>\n",
       "      <td>AGTGGACAGTTTGGTA-1</td>\n",
       "      <td>2</td>\n",
       "    </tr>\n",
       "    <tr>\n",
       "      <th>287213</th>\n",
       "      <td>chr8</td>\n",
       "      <td>144691318</td>\n",
       "      <td>144692059</td>\n",
       "      <td>RPL8|chr8:145916703-145917444:.</td>\n",
       "      <td>chr8</td>\n",
       "      <td>144691310</td>\n",
       "      <td>144691451</td>\n",
       "      <td>TGCTCTCAGTGTTGCG-1</td>\n",
       "      <td>1</td>\n",
       "    </tr>\n",
       "    <tr>\n",
       "      <th>287214</th>\n",
       "      <td>chr8</td>\n",
       "      <td>144691318</td>\n",
       "      <td>144692059</td>\n",
       "      <td>RPL8|chr8:145916703-145917444:.</td>\n",
       "      <td>chr8</td>\n",
       "      <td>144691314</td>\n",
       "      <td>144691708</td>\n",
       "      <td>AAACATGCAGGGAGCT-1</td>\n",
       "      <td>1</td>\n",
       "    </tr>\n",
       "  </tbody>\n",
       "</table>\n",
       "<p>287215 rows × 9 columns</p>\n",
       "</div>"
      ],
      "text/plain": [
       "       chrom      start        end                             name chrom_  \\\n",
       "0       chr8   11879271   11880174    CTSB|chr8:11736780-11737683:.   chr8   \n",
       "1       chr8   11879271   11880174    CTSB|chr8:11736780-11737683:.   chr8   \n",
       "2       chr8   11879271   11880174    CTSB|chr8:11736780-11737683:.   chr8   \n",
       "3       chr8   11879271   11880174    CTSB|chr8:11736780-11737683:.   chr8   \n",
       "4       chr8   11879271   11880174    CTSB|chr8:11736780-11737683:.   chr8   \n",
       "...      ...        ...        ...                              ...    ...   \n",
       "287210  chr8  144691318  144692059  RPL8|chr8:145916703-145917444:.   chr8   \n",
       "287211  chr8  144691318  144692059  RPL8|chr8:145916703-145917444:.   chr8   \n",
       "287212  chr8  144691318  144692059  RPL8|chr8:145916703-145917444:.   chr8   \n",
       "287213  chr8  144691318  144692059  RPL8|chr8:145916703-145917444:.   chr8   \n",
       "287214  chr8  144691318  144692059  RPL8|chr8:145916703-145917444:.   chr8   \n",
       "\n",
       "           start_       end_            barcode_  readSupport_  \n",
       "0        11879323   11879439  CCTATTTAGTGGCGGA-1             1  \n",
       "1        11879327   11879509  AATAGAGGTTTAGCTC-1             1  \n",
       "2        11879328   11879511  CACATACAGGCATTGT-1             3  \n",
       "3        11879330   11879483  TCATGAGGTTGTGATG-1             1  \n",
       "4        11879332   11879374  ACCTGGTCATTGACAT-1             1  \n",
       "...           ...        ...                 ...           ...  \n",
       "287210  144691307  144691505  AATTGTGTCAGCAAAG-1             2  \n",
       "287211  144691307  144691559  CTCATTGTCCACCCTG-1             1  \n",
       "287212  144691307  144691691  AGTGGACAGTTTGGTA-1             2  \n",
       "287213  144691310  144691451  TGCTCTCAGTGTTGCG-1             1  \n",
       "287214  144691314  144691708  AAACATGCAGGGAGCT-1             1  \n",
       "\n",
       "[287215 rows x 9 columns]"
      ]
     },
     "execution_count": 12,
     "metadata": {},
     "output_type": "execute_result"
    }
   ],
   "source": [
    "overlap_df"
   ]
  },
  {
   "cell_type": "code",
   "execution_count": 13,
   "id": "0b749393",
   "metadata": {},
   "outputs": [],
   "source": [
    "barcode_map = defaultdict(dict)  # indexes associated with the barcode\n",
    "for _, row in overlap_df.iterrows():\n",
    "    coordinates = (row[\"start\"], row[\"end\"])\n",
    "    idx = region_idx_map[coordinates]\n",
    "    barcode_map[row[\"barcode_\"]][idx] = row[\"readSupport_\"]\n",
    "    \n",
    "TOTAL_CELLS = len(barcode_map)\n",
    "\n",
    "matrix = pd.DataFrame(0,index=barcode_map.keys(), columns=range(len(region_idx_map)))\n",
    "for barcode, indexes in barcode_map.items():\n",
    "    matrix.loc[barcode] = indexes\n",
    "matrix = matrix.fillna(0).astype(int)\n"
   ]
  },
  {
   "cell_type": "code",
   "execution_count": 14,
   "id": "7901a542",
   "metadata": {},
   "outputs": [],
   "source": [
    "# def qc_matrix(matrix, promoter_indexes):\n",
    "#     \"\"\"\n",
    "#     Remove cells that don't have any active promoter\n",
    "#     \"\"\"\n",
    "#     return matrix[matrix[promoter_indexes].sum(axis=1)>0]\n",
    "\n",
    "# matrix = qc_matrix(matrix, promoter_indexes)\n",
    "# TOTAL_CELLS = len(matrix)"
   ]
  },
  {
   "cell_type": "code",
   "execution_count": 15,
   "id": "913fd0b4",
   "metadata": {},
   "outputs": [
    {
     "data": {
      "text/plain": [
       "2195"
      ]
     },
     "execution_count": 15,
     "metadata": {},
     "output_type": "execute_result"
    }
   ],
   "source": [
    "# how many cells express promoter of that gene?\n",
    "promoter_cells = matrix[matrix.loc[:, PROMOTER_IDX] >= 1]\n",
    "non_promoter_cells = matrix[matrix.loc[:, PROMOTER_IDX] == 0]\n",
    "len(promoter_cells) # 3090"
   ]
  },
  {
   "cell_type": "code",
   "execution_count": 16,
   "id": "5ab3d1dd",
   "metadata": {},
   "outputs": [
    {
     "data": {
      "text/plain": [
       "[449, 455, 456, 457, 519, 491, 527, 528, 529, 530]"
      ]
     },
     "execution_count": 16,
     "metadata": {},
     "output_type": "execute_result"
    }
   ],
   "source": [
    "# enh_indexes\n",
    "coords = crispr_df[(crispr_df[\"measuredGeneSymbol\"] == GENE) & (crispr_df[\"Significant\"])][[\"start\", \"end\"]].values\n",
    "enh_indexes = list({find_region_idx(crispr_enhancers, coord) for coord in coords})\n",
    "enh_indexes"
   ]
  },
  {
   "cell_type": "code",
   "execution_count": 17,
   "id": "427c3cc0",
   "metadata": {},
   "outputs": [
    {
     "data": {
      "text/html": [
       "<div>\n",
       "<style scoped>\n",
       "    .dataframe tbody tr th:only-of-type {\n",
       "        vertical-align: middle;\n",
       "    }\n",
       "\n",
       "    .dataframe tbody tr th {\n",
       "        vertical-align: top;\n",
       "    }\n",
       "\n",
       "    .dataframe thead th {\n",
       "        text-align: right;\n",
       "    }\n",
       "</style>\n",
       "<table border=\"1\" class=\"dataframe\">\n",
       "  <thead>\n",
       "    <tr style=\"text-align: right;\">\n",
       "      <th></th>\n",
       "      <th>449</th>\n",
       "      <th>455</th>\n",
       "      <th>456</th>\n",
       "      <th>457</th>\n",
       "      <th>519</th>\n",
       "      <th>491</th>\n",
       "      <th>527</th>\n",
       "      <th>528</th>\n",
       "      <th>529</th>\n",
       "      <th>530</th>\n",
       "      <th>434</th>\n",
       "    </tr>\n",
       "  </thead>\n",
       "  <tbody>\n",
       "    <tr>\n",
       "      <th>CCTATTTAGTGGCGGA-1</th>\n",
       "      <td>0</td>\n",
       "      <td>0</td>\n",
       "      <td>0</td>\n",
       "      <td>0</td>\n",
       "      <td>0</td>\n",
       "      <td>0</td>\n",
       "      <td>0</td>\n",
       "      <td>1</td>\n",
       "      <td>0</td>\n",
       "      <td>0</td>\n",
       "      <td>2</td>\n",
       "    </tr>\n",
       "    <tr>\n",
       "      <th>AATAGAGGTTTAGCTC-1</th>\n",
       "      <td>0</td>\n",
       "      <td>0</td>\n",
       "      <td>0</td>\n",
       "      <td>0</td>\n",
       "      <td>0</td>\n",
       "      <td>0</td>\n",
       "      <td>0</td>\n",
       "      <td>0</td>\n",
       "      <td>0</td>\n",
       "      <td>0</td>\n",
       "      <td>0</td>\n",
       "    </tr>\n",
       "    <tr>\n",
       "      <th>CACATACAGGCATTGT-1</th>\n",
       "      <td>0</td>\n",
       "      <td>0</td>\n",
       "      <td>1</td>\n",
       "      <td>0</td>\n",
       "      <td>0</td>\n",
       "      <td>0</td>\n",
       "      <td>0</td>\n",
       "      <td>0</td>\n",
       "      <td>4</td>\n",
       "      <td>0</td>\n",
       "      <td>0</td>\n",
       "    </tr>\n",
       "    <tr>\n",
       "      <th>TCATGAGGTTGTGATG-1</th>\n",
       "      <td>0</td>\n",
       "      <td>1</td>\n",
       "      <td>0</td>\n",
       "      <td>0</td>\n",
       "      <td>1</td>\n",
       "      <td>0</td>\n",
       "      <td>0</td>\n",
       "      <td>0</td>\n",
       "      <td>0</td>\n",
       "      <td>0</td>\n",
       "      <td>0</td>\n",
       "    </tr>\n",
       "    <tr>\n",
       "      <th>ACCTGGTCATTGACAT-1</th>\n",
       "      <td>0</td>\n",
       "      <td>0</td>\n",
       "      <td>0</td>\n",
       "      <td>2</td>\n",
       "      <td>0</td>\n",
       "      <td>0</td>\n",
       "      <td>0</td>\n",
       "      <td>0</td>\n",
       "      <td>0</td>\n",
       "      <td>0</td>\n",
       "      <td>1</td>\n",
       "    </tr>\n",
       "  </tbody>\n",
       "</table>\n",
       "</div>"
      ],
      "text/plain": [
       "                    449  455  456  457  519  491  527  528  529  530  434\n",
       "CCTATTTAGTGGCGGA-1    0    0    0    0    0    0    0    1    0    0    2\n",
       "AATAGAGGTTTAGCTC-1    0    0    0    0    0    0    0    0    0    0    0\n",
       "CACATACAGGCATTGT-1    0    0    1    0    0    0    0    0    4    0    0\n",
       "TCATGAGGTTGTGATG-1    0    1    0    0    1    0    0    0    0    0    0\n",
       "ACCTGGTCATTGACAT-1    0    0    0    2    0    0    0    0    0    0    1"
      ]
     },
     "execution_count": 17,
     "metadata": {},
     "output_type": "execute_result"
    }
   ],
   "source": [
    "matrix.loc[:,enh_indexes + [PROMOTER_IDX]][:5]"
   ]
  },
  {
   "cell_type": "code",
   "execution_count": 18,
   "id": "c2c277ca",
   "metadata": {},
   "outputs": [
    {
     "data": {
      "text/html": [
       "<div>\n",
       "<style scoped>\n",
       "    .dataframe tbody tr th:only-of-type {\n",
       "        vertical-align: middle;\n",
       "    }\n",
       "\n",
       "    .dataframe tbody tr th {\n",
       "        vertical-align: top;\n",
       "    }\n",
       "\n",
       "    .dataframe thead th {\n",
       "        text-align: right;\n",
       "    }\n",
       "</style>\n",
       "<table border=\"1\" class=\"dataframe\">\n",
       "  <thead>\n",
       "    <tr style=\"text-align: right;\">\n",
       "      <th></th>\n",
       "      <th>chrom</th>\n",
       "      <th>start</th>\n",
       "      <th>end</th>\n",
       "      <th>name</th>\n",
       "    </tr>\n",
       "  </thead>\n",
       "  <tbody>\n",
       "    <tr>\n",
       "      <th>449</th>\n",
       "      <td>chr8</td>\n",
       "      <td>127898896</td>\n",
       "      <td>127898963</td>\n",
       "      <td>MYC|chr8:128911142-128911209:*</td>\n",
       "    </tr>\n",
       "    <tr>\n",
       "      <th>455</th>\n",
       "      <td>chr8</td>\n",
       "      <td>127957679</td>\n",
       "      <td>127960199</td>\n",
       "      <td>MYC|chr8:128969925-128972445:*</td>\n",
       "    </tr>\n",
       "    <tr>\n",
       "      <th>456</th>\n",
       "      <td>chr8</td>\n",
       "      <td>127960391</td>\n",
       "      <td>127960502</td>\n",
       "      <td>MYC|chr8:128972637-128972748:*</td>\n",
       "    </tr>\n",
       "    <tr>\n",
       "      <th>457</th>\n",
       "      <td>chr8</td>\n",
       "      <td>127961319</td>\n",
       "      <td>127963819</td>\n",
       "      <td>MYC|chr8:128973565-128976065:*</td>\n",
       "    </tr>\n",
       "    <tr>\n",
       "      <th>491</th>\n",
       "      <td>chr8</td>\n",
       "      <td>128352539</td>\n",
       "      <td>128355079</td>\n",
       "      <td>MYC|chr8:129364785-129367325:*</td>\n",
       "    </tr>\n",
       "    <tr>\n",
       "      <th>519</th>\n",
       "      <td>chr8</td>\n",
       "      <td>129581780</td>\n",
       "      <td>129582461</td>\n",
       "      <td>MYC|chr8:130594026-130594707:*</td>\n",
       "    </tr>\n",
       "    <tr>\n",
       "      <th>527</th>\n",
       "      <td>chr8</td>\n",
       "      <td>129689360</td>\n",
       "      <td>129689694</td>\n",
       "      <td>MYC|chr8:130701606-130701940:*</td>\n",
       "    </tr>\n",
       "    <tr>\n",
       "      <th>528</th>\n",
       "      <td>chr8</td>\n",
       "      <td>129689879</td>\n",
       "      <td>129692379</td>\n",
       "      <td>MYC|chr8:130702125-130704625:*</td>\n",
       "    </tr>\n",
       "    <tr>\n",
       "      <th>529</th>\n",
       "      <td>chr8</td>\n",
       "      <td>129692458</td>\n",
       "      <td>129693217</td>\n",
       "      <td>MYC|chr8:130704704-130705463:*</td>\n",
       "    </tr>\n",
       "    <tr>\n",
       "      <th>530</th>\n",
       "      <td>chr8</td>\n",
       "      <td>129696899</td>\n",
       "      <td>129699399</td>\n",
       "      <td>MYC|chr8:130709145-130711645:*</td>\n",
       "    </tr>\n",
       "    <tr>\n",
       "      <th>434</th>\n",
       "      <td>chr8</td>\n",
       "      <td>127735818</td>\n",
       "      <td>127736318</td>\n",
       "      <td>MYC</td>\n",
       "    </tr>\n",
       "  </tbody>\n",
       "</table>\n",
       "</div>"
      ],
      "text/plain": [
       "    chrom      start        end                            name\n",
       "449  chr8  127898896  127898963  MYC|chr8:128911142-128911209:*\n",
       "455  chr8  127957679  127960199  MYC|chr8:128969925-128972445:*\n",
       "456  chr8  127960391  127960502  MYC|chr8:128972637-128972748:*\n",
       "457  chr8  127961319  127963819  MYC|chr8:128973565-128976065:*\n",
       "491  chr8  128352539  128355079  MYC|chr8:129364785-129367325:*\n",
       "519  chr8  129581780  129582461  MYC|chr8:130594026-130594707:*\n",
       "527  chr8  129689360  129689694  MYC|chr8:130701606-130701940:*\n",
       "528  chr8  129689879  129692379  MYC|chr8:130702125-130704625:*\n",
       "529  chr8  129692458  129693217  MYC|chr8:130704704-130705463:*\n",
       "530  chr8  129696899  129699399  MYC|chr8:130709145-130711645:*\n",
       "434  chr8  127735818  127736318                             MYC"
      ]
     },
     "execution_count": 18,
     "metadata": {},
     "output_type": "execute_result"
    }
   ],
   "source": [
    "crispr_enhancers.iloc[sorted(enh_indexes)  + [PROMOTER_IDX]]"
   ]
  },
  {
   "cell_type": "code",
   "execution_count": 46,
   "id": "150ae733",
   "metadata": {},
   "outputs": [
    {
     "data": {
      "image/png": "[encoded data removed]",
      "text/plain": [
       "<Figure size 432x288 with 1 Axes>"
      ]
     },
     "metadata": {
      "needs_background": "light"
     },
     "output_type": "display_data"
    }
   ],
   "source": [
    "# Plot index counts\n",
    "\n",
    "X, Y = [], []\n",
    "put_X, put_Y = [], []\n",
    "enh_counts = matrix.sum(axis=0)\n",
    "for idx, count in enumerate(enh_counts):\n",
    "    if idx in enh_indexes:\n",
    "        put_X.append(idx)\n",
    "        put_Y.append(count)\n",
    "    else:\n",
    "        X.append(idx)\n",
    "        Y.append(count)\n",
    "\n",
    "plt.scatter(X,Y)\n",
    "plt.scatter(put_X,put_Y, color='red', label=\"Putative Enhancers\")\n",
    "plt.axvline(x=PROMOTER_IDX, color=\"black\", linestyle=\"-\", label=f\"Promoter\")\n",
    "plt.xlabel('enh index')\n",
    "plt.ylabel('Counts')\n",
    "plt.legend()\n",
    "plt.xlim(400, 600)\n",
    "plt.show()"
   ]
  },
  {
   "cell_type": "code",
   "execution_count": 19,
   "id": "32b0337c",
   "metadata": {},
   "outputs": [],
   "source": [
    "# create enh accessibility matrix\n",
    "matrices = []\n",
    "for enh_idx in range(len(crispr_enhancers)):  \n",
    "    enh_on_prom_on = promoter_cells[enh_idx].sum()\n",
    "    enh_off_prom_on = len(promoter_cells) - enh_on_prom_on\n",
    "    enh_on_prom_off = non_promoter_cells[enh_idx].sum()\n",
    "    enh_off_prom_off = len(non_promoter_cells) - enh_on_prom_off\n",
    "    enh_matrix = pd.DataFrame(columns=[\"E_on\", \"E_off\"])\n",
    "    enh_matrix.loc[\"P_on\"] = {\"E_on\": enh_on_prom_on, \"E_off\": enh_off_prom_on}\n",
    "    enh_matrix.loc[\"P_off\"] = {\"E_on\": enh_on_prom_off, \"E_off\": enh_off_prom_off}\n",
    "#     enh_matrix.loc[\"E_sum\"] = {\"E_on\": enh_matrix[\"E_on\"].sum(), \"E_off\": enh_matrix[\"E_off\"].sum()}\n",
    "#     enh_matrix[\"P_sum\"] = enh_matrix[\"E_on\"] + enh_matrix[\"E_off\"]\n",
    "    matrices.append(enh_matrix)"
   ]
  },
  {
   "cell_type": "code",
   "execution_count": 20,
   "id": "459ccb04",
   "metadata": {},
   "outputs": [],
   "source": [
    "from IPython.display import display\n",
    "def print_matrices(matrices, only_putative=False):\n",
    "    total_cells = len(matrix)\n",
    "    for idx, enh_mat in enumerate(matrices):\n",
    "        if only_putative and idx not in enh_indexes:\n",
    "            continue\n",
    "        display(enh_mat)\n",
    "        ratio_enh_on = enh_mat.loc[\"P_on\",'E_on'] / enh_mat.loc[\"P_off\",'E_on']\n",
    "        ratio_enh_off = enh_mat.loc[\"P_on\",'E_off'] / enh_mat.loc[\"P_off\",'E_off']\n",
    "        ratio_prom_on = enh_mat.loc[\"P_on\",'E_on'] / enh_mat.loc[\"P_on\",'E_off']\n",
    "        ratio_prom_off = enh_mat.loc[\"P_off\",'E_on'] / enh_mat.loc[\"P_off\",'E_off']\n",
    "        ratio_5 = ratio_enh_on / ratio_enh_off\n",
    "        ratio_6 = ratio_prom_on / ratio_prom_off\n",
    "        print(f\"enh: {idx}\\n\")\n",
    "        print(\"Frequency of enhancer being on:\")\n",
    "        print(\"enh is on {:.2f}%\".format(100*enh_mat['E_on'].sum() / total_cells))\n",
    "        print(\"\\t when prom on {:.2f}%\".format(100*enh_mat.loc[\"P_on\",'E_on'] / enh_mat.loc[\"P_on\"].sum()))\n",
    "        print(\"\\t when prom off {:.2f}%\".format(100*enh_mat.loc[\"P_off\",'E_on'] / enh_mat.loc[\"P_off\"].sum()))\n",
    "        print()\n",
    "        print(\"Frequency of promoter being on:\")\n",
    "        print(\"prom is on {:.2f}%\".format(100*enh_mat.loc[\"P_on\"].sum() / total_cells))\n",
    "        print(\"\\t when enh on {:.2f}%\".format(100*enh_mat.loc[\"P_on\",'E_on'] / enh_mat[\"E_on\"].sum()))\n",
    "        print(\"\\t when enh off {:.2f}%\".format(100*enh_mat.loc[\"P_on\",'E_off'].sum() / enh_mat[\"E_off\"].sum()))\n",
    "        print()\n",
    "        print(\"Ratios (want high): 1={:.2f}, 3={:.2f}, 5={:.2f}, 6={:.2f}\".format(\n",
    "            ratio_enh_on, ratio_prom_on, ratio_5, ratio_6))\n",
    "        print(\"Ratios (want low): 2={:.2f}, 4={:.2f}\".format(\n",
    "            ratio_enh_off, ratio_prom_off))"
   ]
  },
  {
   "cell_type": "code",
   "execution_count": 21,
   "id": "8b5ecb97",
   "metadata": {},
   "outputs": [],
   "source": [
    "# print_matrices(matrices, only_putative=True)"
   ]
  },
  {
   "cell_type": "code",
   "execution_count": 22,
   "id": "707e7a06",
   "metadata": {},
   "outputs": [],
   "source": [
    "# print_matrices(matrices, only_putative=False)"
   ]
  },
  {
   "cell_type": "code",
   "execution_count": 23,
   "id": "d0c974cf",
   "metadata": {},
   "outputs": [],
   "source": [
    "# Plot bayesian probabilities \n",
    "def compute_P_p_e(matrix):\n",
    "    num_e_on = matrix[\"E_on\"].sum()\n",
    "    return matrix.loc[\"P_on\", \"E_on\"] / num_e_on\n",
    "\n",
    "def compute_P_e_p(matrix):\n",
    "    num_p_on = len(promoter_cells)\n",
    "    return matrix.loc[\"P_on\", \"E_on\"] / num_p_on\n",
    "\n",
    "def compute_P_e(matrix):\n",
    "    return matrix[\"E_on\"].sum() / TOTAL_CELLS\n"
   ]
  },
  {
   "cell_type": "code",
   "execution_count": 24,
   "id": "71a01af5",
   "metadata": {},
   "outputs": [
    {
     "data": {
      "image/png": "[encoded data removed]",
      "text/plain": [
       "<Figure size 432x288 with 1 Axes>"
      ]
     },
     "metadata": {
      "needs_background": "light"
     },
     "output_type": "display_data"
    }
   ],
   "source": [
    "X, Y = [], []\n",
    "put_X, put_Y = [], []\n",
    "for idx, enh_mat in enumerate(matrices):\n",
    "    if idx in enh_indexes:\n",
    "        put_X.append(idx)\n",
    "        put_Y.append(compute_P_p_e(enh_mat))\n",
    "    else:\n",
    "        X.append(idx)\n",
    "        Y.append(compute_P_p_e(enh_mat))\n",
    "\n",
    "plt.scatter(X,Y)\n",
    "plt.scatter(put_X,put_Y, color='red', label=\"Putative Enhancers\")\n",
    "plt.axvline(x=PROMOTER_IDX, color=\"black\", linestyle=\"-\", label=f\"Promoter\")\n",
    "plt.xlabel('enh index')\n",
    "plt.ylabel('P(P|E)')\n",
    "plt.legend()\n",
    "plt.show()"
   ]
  },
  {
   "cell_type": "code",
   "execution_count": 25,
   "id": "0077e010",
   "metadata": {},
   "outputs": [
    {
     "data": {
      "image/png": "[encoded data removed]",
      "text/plain": [
       "<Figure size 432x288 with 1 Axes>"
      ]
     },
     "metadata": {
      "needs_background": "light"
     },
     "output_type": "display_data"
    }
   ],
   "source": [
    "X, Y = [], []\n",
    "put_X, put_Y = [], []\n",
    "for idx, enh_mat in enumerate(matrices):\n",
    "    if idx < PROMOTER_IDX:\n",
    "        continue\n",
    "    if idx in enh_indexes:\n",
    "        put_X.append(idx)\n",
    "        put_Y.append(compute_P_e(enh_mat))\n",
    "    else:\n",
    "        X.append(idx)\n",
    "        Y.append(compute_P_e(enh_mat))\n",
    "\n",
    "plt.scatter(X,Y)\n",
    "plt.scatter(put_X,put_Y, color='red', label=\"Putative Enhancers\")\n",
    "plt.axvline(x=PROMOTER_IDX, color=\"black\", linestyle=\"-\", label=f\"Promoter\")\n",
    "plt.xlabel('enh index')\n",
    "plt.ylabel('P(E)')\n",
    "plt.legend()\n",
    "plt.show()"
   ]
  },
  {
   "cell_type": "code",
   "execution_count": 26,
   "id": "c3e67f76",
   "metadata": {},
   "outputs": [
    {
     "data": {
      "image/png": "[encoded data removed]",
      "text/plain": [
       "<Figure size 432x288 with 1 Axes>"
      ]
     },
     "metadata": {
      "needs_background": "light"
     },
     "output_type": "display_data"
    }
   ],
   "source": [
    "X, Y = [], []\n",
    "put_X, put_Y = [], []\n",
    "for idx, enh_mat in enumerate(matrices):\n",
    "    if idx in enh_indexes:\n",
    "        put_X.append(idx)\n",
    "        put_Y.append(compute_P_e_p(enh_mat))\n",
    "    else:\n",
    "        X.append(idx)\n",
    "        Y.append(compute_P_e_p(enh_mat))\n",
    "\n",
    "plt.scatter(X,Y)\n",
    "plt.scatter(put_X,put_Y, color='red', label=\"Putative Enhancers\")\n",
    "plt.axvline(x=PROMOTER_IDX, color=\"black\", linestyle=\"-\", label=f\"Promoter\")\n",
    "plt.xlabel('enh index')\n",
    "plt.ylabel('P(E|P)')\n",
    "plt.legend()\n",
    "plt.show()"
   ]
  },
  {
   "cell_type": "code",
   "execution_count": 27,
   "id": "305cbf4a",
   "metadata": {},
   "outputs": [
    {
     "data": {
      "image/png": "[encoded data removed]",
      "text/plain": [
       "<Figure size 432x288 with 1 Axes>"
      ]
     },
     "metadata": {
      "needs_background": "light"
     },
     "output_type": "display_data"
    }
   ],
   "source": [
    "X, Y = [], []\n",
    "put_X, put_Y = [], []\n",
    "for idx, enh_mat in enumerate(matrices):\n",
    "    if idx in enh_indexes:\n",
    "        put_X.append(idx)\n",
    "        put_Y.append(compute_P_e_p(enh_mat) / compute_P_e(enh_mat))\n",
    "    else:\n",
    "        X.append(idx)\n",
    "        Y.append(compute_P_e_p(enh_mat) / compute_P_e(enh_mat))\n",
    "\n",
    "plt.scatter(X,Y)\n",
    "plt.scatter(put_X,put_Y, color='red', label=\"Putative Enhancers\")\n",
    "plt.axvline(x=PROMOTER_IDX, color=\"black\", linestyle=\"-\", label=f\"Promoter\")\n",
    "plt.xlabel('enh index')\n",
    "plt.ylabel('P(E|P) / P(E)')\n",
    "plt.legend()\n",
    "plt.show()"
   ]
  },
  {
   "cell_type": "code",
   "execution_count": 28,
   "id": "1647fe1b",
   "metadata": {},
   "outputs": [
    {
     "data": {
      "image/png": "[encoded data removed]",
      "text/plain": [
       "<Figure size 432x288 with 1 Axes>"
      ]
     },
     "metadata": {
      "needs_background": "light"
     },
     "output_type": "display_data"
    }
   ],
   "source": [
    "X, Y = [], []\n",
    "put_X, put_Y = [], []\n",
    "for idx, enh_mat in enumerate(matrices):\n",
    "    if idx in enh_indexes:\n",
    "        put_X.append(idx)\n",
    "        put_Y.append(compute_P_e_p(enh_mat) - compute_P_e(enh_mat))\n",
    "    else:\n",
    "        X.append(idx)\n",
    "        Y.append(compute_P_e_p(enh_mat) - compute_P_e(enh_mat))\n",
    "\n",
    "plt.scatter(X,Y)\n",
    "plt.scatter(put_X,put_Y, color='red', label=\"Putative Enhancers\")\n",
    "plt.axvline(x=PROMOTER_IDX, color=\"black\", linestyle=\"-\", label=f\"Promoter\")\n",
    "plt.xlabel('enh index')\n",
    "plt.ylabel('P(E|P) - P(E)')\n",
    "plt.legend()\n",
    "plt.show()"
   ]
  },
  {
   "cell_type": "code",
   "execution_count": null,
   "id": "1ecd8214",
   "metadata": {},
   "outputs": [],
   "source": []
  },
  {
   "cell_type": "code",
   "execution_count": null,
   "id": "0dba23ea",
   "metadata": {},
   "outputs": [],
   "source": []
  },
  {
   "cell_type": "code",
   "execution_count": 29,
   "id": "502915cd",
   "metadata": {},
   "outputs": [
    {
     "ename": "NameError",
     "evalue": "name 'enh_df' is not defined",
     "output_type": "error",
     "traceback": [
      "\u001b[0;31m---------------------------------------------------------------------------\u001b[0m",
      "\u001b[0;31mNameError\u001b[0m                                 Traceback (most recent call last)",
      "\u001b[0;32m/tmp/ipykernel_17659/2408028697.py\u001b[0m in \u001b[0;36m<module>\u001b[0;34m\u001b[0m\n\u001b[1;32m      1\u001b[0m \u001b[0;31m# Find strong enhancers by looking at strong ones\u001b[0m\u001b[0;34m\u001b[0m\u001b[0;34m\u001b[0m\u001b[0m\n\u001b[1;32m      2\u001b[0m \u001b[0mscores\u001b[0m \u001b[0;34m=\u001b[0m \u001b[0;34m[\u001b[0m\u001b[0;34m]\u001b[0m\u001b[0;34m\u001b[0m\u001b[0;34m\u001b[0m\u001b[0m\n\u001b[0;32m----> 3\u001b[0;31m \u001b[0;32mfor\u001b[0m \u001b[0menh_idx\u001b[0m \u001b[0;32min\u001b[0m \u001b[0mrange\u001b[0m\u001b[0;34m(\u001b[0m\u001b[0mlen\u001b[0m\u001b[0;34m(\u001b[0m\u001b[0menh_df\u001b[0m\u001b[0;34m)\u001b[0m\u001b[0;34m)\u001b[0m\u001b[0;34m:\u001b[0m\u001b[0;34m\u001b[0m\u001b[0;34m\u001b[0m\u001b[0m\n\u001b[0m\u001b[1;32m      4\u001b[0m     \u001b[0mscore\u001b[0m \u001b[0;34m=\u001b[0m \u001b[0mpromoter_cells\u001b[0m\u001b[0;34m.\u001b[0m\u001b[0mloc\u001b[0m\u001b[0;34m[\u001b[0m\u001b[0;34m:\u001b[0m\u001b[0;34m,\u001b[0m\u001b[0menh_idx\u001b[0m\u001b[0;34m]\u001b[0m\u001b[0;34m.\u001b[0m\u001b[0msum\u001b[0m\u001b[0;34m(\u001b[0m\u001b[0;34m)\u001b[0m\u001b[0;34m\u001b[0m\u001b[0;34m\u001b[0m\u001b[0m\n\u001b[1;32m      5\u001b[0m     \u001b[0mscores\u001b[0m\u001b[0;34m.\u001b[0m\u001b[0mappend\u001b[0m\u001b[0;34m(\u001b[0m\u001b[0;34m(\u001b[0m\u001b[0mscore\u001b[0m\u001b[0;34m,\u001b[0m \u001b[0menh_idx\u001b[0m\u001b[0;34m)\u001b[0m\u001b[0;34m)\u001b[0m\u001b[0;34m\u001b[0m\u001b[0;34m\u001b[0m\u001b[0m\n",
      "\u001b[0;31mNameError\u001b[0m: name 'enh_df' is not defined"
     ]
    }
   ],
   "source": [
    "# Find strong enhancers by looking at strong ones\n",
    "scores = []\n",
    "for enh_idx in range(len(enh_df)):\n",
    "    score = promoter_cells.loc[:,enh_idx].sum()\n",
    "    scores.append((score, enh_idx))\n",
    "\n",
    "strong_scores = list(reversed(sorted(scores)))\n",
    "print(f\"num promoter cells: {len(promoter_cells)}\")\n",
    "strong_scores\n",
    "    "
   ]
  },
  {
   "cell_type": "code",
   "execution_count": null,
   "id": "bb80a9cf",
   "metadata": {},
   "outputs": [],
   "source": [
    "# Find strong enh by looking at weak ones. Low score => strong\n",
    "scores = []\n",
    "for enh_idx in range(len(enh_df)):\n",
    "    score = non_promoter_cells.loc[:,enh_idx].sum()\n",
    "    scores.append((score, enh_idx))\n",
    "\n",
    "weak_scores = list((sorted(scores)))\n",
    "print(f\"num non promoter cells: {len(non_promoter_cells)}\")\n",
    "weak_scores"
   ]
  },
  {
   "cell_type": "code",
   "execution_count": null,
   "id": "5b711d07",
   "metadata": {},
   "outputs": [],
   "source": [
    "def find_idx_of_enh(score_list, enh_idx):\n",
    "    for i, (score, idx) in enumerate(score_list):\n",
    "        if idx == enh_idx:\n",
    "            return i"
   ]
  },
  {
   "cell_type": "code",
   "execution_count": null,
   "id": "8bc807bb",
   "metadata": {},
   "outputs": [],
   "source": [
    "for i in range(10):\n",
    "    enh_idx = strong_scores[i][1]\n",
    "    print(enh_idx, find_idx_of_enh(strong_scores, enh_idx), find_idx_of_enh(weak_scores, enh_idx))"
   ]
  },
  {
   "cell_type": "code",
   "execution_count": null,
   "id": "dccf3428",
   "metadata": {},
   "outputs": [],
   "source": [
    "# How often is at least 1 putative enh active when promoter is on?\n",
    "enh_counts = promoter_cells.loc[:, enh_indexes].sum(axis=1)\n",
    "num_cells = promoter_cells[enh_counts > 0]\n",
    "print(len(num_cells)/len(promoter_cells))"
   ]
  },
  {
   "cell_type": "code",
   "execution_count": null,
   "id": "5ee52156",
   "metadata": {},
   "outputs": [],
   "source": [
    "# What is the distribution of how many putative enhancers are on for promoter cells?\n",
    "import matplotlib.pyplot as plt\n",
    "plt.hist(enh_counts, color='b', edgecolor='black', bins=6, density=True)\n",
    "plt.xlabel('Value')\n",
    "plt.ylabel('Frequency')\n",
    "plt.title('Histogram of a Distribution')"
   ]
  },
  {
   "cell_type": "code",
   "execution_count": null,
   "id": "c5df94df",
   "metadata": {},
   "outputs": [],
   "source": [
    "# What is the distribution for how many cells are promoters based on # of putative enh turned on?\n",
    "matrix[\"num_put_enh\"] = matrix.loc[:,enh_indexes].sum(axis=1)\n",
    "promoter_cells = matrix[matrix.loc[:, promoter_idx] == 1]\n",
    "non_promoter_cells = matrix[matrix.loc[:, promoter_idx] == 0]"
   ]
  },
  {
   "cell_type": "code",
   "execution_count": null,
   "id": "25139982",
   "metadata": {},
   "outputs": [],
   "source": [
    "data = []\n",
    "for num_indexes in range(len(enh_indexes)):\n",
    "    prom_count = (promoter_cells.loc[:, \"num_put_enh\"] == num_indexes).sum()\n",
    "    non_prom_count = (non_promoter_cells.loc[:, \"num_put_enh\"] == num_indexes).sum()\n",
    "    data.append((num_indexes, prom_count / (prom_count + non_prom_count)))\n",
    "x, y = zip(*data)\n",
    "plt.bar(x,y)\n",
    "plt.xlabel('Num Putative Enhancers')\n",
    "plt.ylabel('Perecentage that are promoters')\n",
    "print(data)"
   ]
  },
  {
   "cell_type": "code",
   "execution_count": null,
   "id": "381b71a1",
   "metadata": {},
   "outputs": [],
   "source": [
    "# When enh 155, why doesn't it cause promoters to be active?\n",
    "# Are there additional enhancers that it works well with? Activation threshold?\n",
    "# Let's see what putative enh it tends to pair with when promoter is active\n",
    "promoter_cells[promoter_cells[155]==1].loc[:,enh_indexes+[\"num_put_enh\"]][:30]"
   ]
  },
  {
   "cell_type": "code",
   "execution_count": null,
   "id": "658948b3",
   "metadata": {},
   "outputs": [],
   "source": [
    "# When enh 155, why doesn't it cause promoters to be active?\n",
    "# Are there additional enhancers that it works well with? Activation threshold?\n",
    "# Let's see what putative enh it tends to pair with when promoter is active\n",
    "non_promoter_cells[non_promoter_cells[155]==1].loc[:,enh_indexes+[\"num_put_enh\"]][:30]"
   ]
  },
  {
   "cell_type": "code",
   "execution_count": null,
   "id": "e5ff5f94",
   "metadata": {},
   "outputs": [],
   "source": [
    "# When enh 155 is on, how often is promoter on? (both on / all enh 155 on)\n",
    "# When enh 155 is off, how often is promoter off? (both off / all enh 155 off)\n",
    "# How do those values differ from the average of promoter on and off rates?\n",
    "enh_idx = 155\n",
    "promoter_on_pct = len(promoter_cells) / len(matrix)\n",
    "promoter_off_pct = len(non_promoter_cells) / len(matrix)\n",
    "print(\"Promoter on/off pct\", promoter_on_pct, promoter_off_pct)\n",
    "\n",
    "enh_155_on = matrix[enh_idx].sum()\n",
    "on_on_count = (promoter_cells[enh_idx] == 1).sum() / enh_155_on\n",
    "enh_155_off = len(matrix) - enh_155_on\n",
    "off_off_count = (non_promoter_cells[enh_idx]==0).sum() / enh_155_off\n",
    "print(\"Enh/Prom on/off pct\", on_on_count, off_off_count)"
   ]
  },
  {
   "cell_type": "code",
   "execution_count": null,
   "id": "724d36ff",
   "metadata": {},
   "outputs": [],
   "source": [
    "prom_enh_counts = promoter_cells[enh_df.index].sum(axis=1)\n",
    "print(prom_enh_counts.mean(), prom_enh_counts.std(), prom_enh_counts.median())"
   ]
  },
  {
   "cell_type": "code",
   "execution_count": null,
   "id": "990cdc01",
   "metadata": {},
   "outputs": [],
   "source": [
    "prom_enh_counts = non_promoter_cells[enh_df.index].sum(axis=1)\n",
    "print(prom_enh_counts.mean(), prom_enh_counts.std(), prom_enh_counts.median())"
   ]
  },
  {
   "cell_type": "code",
   "execution_count": null,
   "id": "eed9b924",
   "metadata": {},
   "outputs": [],
   "source": [
    "genes = tss_df[tss_df[\"chrom\"] == \"chr8\"][\"name\"].unique()"
   ]
  },
  {
   "cell_type": "code",
   "execution_count": null,
   "id": "305fe13b",
   "metadata": {},
   "outputs": [],
   "source": [
    "crispr_df[(crispr_df[\"measuredGeneSymbol\"].isin(genes)) & crispr_df[\"Significant\"]].groupby(\"measuredGeneSymbol\").size()"
   ]
  },
  {
   "cell_type": "code",
   "execution_count": null,
   "id": "b4871b48",
   "metadata": {},
   "outputs": [],
   "source": [
    "len(matrix)"
   ]
  },
  {
   "cell_type": "code",
   "execution_count": null,
   "id": "f8267177",
   "metadata": {},
   "outputs": [],
   "source": [
    "crispr_df = crispr_df.rename(columns={\"chromStart\": \"start\", \"chromEnd\": \"end\"})"
   ]
  },
  {
   "cell_type": "code",
   "execution_count": null,
   "id": "8535eea9",
   "metadata": {},
   "outputs": [],
   "source": [
    "crispr_enh_df = crispr_df[[\"chrom\", \"start\", \"end\"]].drop_duplicates().reset_index(drop=True)"
   ]
  },
  {
   "cell_type": "code",
   "execution_count": null,
   "id": "a5298274",
   "metadata": {},
   "outputs": [],
   "source": [
    "overlap_df = bf.overlap(crispr_enh_df, atac_df, how=\"inner\", return_index=True)"
   ]
  },
  {
   "cell_type": "code",
   "execution_count": null,
   "id": "17e2d083",
   "metadata": {},
   "outputs": [],
   "source": [
    "for barcode, df in overlap_df.groupby(\"barcode_\"):\n",
    "    print(barcode)\n",
    "    print(df[\"index\"].unique())\n",
    "    break"
   ]
  },
  {
   "cell_type": "code",
   "execution_count": null,
   "id": "8ce8ca96",
   "metadata": {},
   "outputs": [],
   "source": [
    "start = time.time()\n",
    "m = pd.DataFrame(0, index=overlap_df[\"barcode_\"].unique(), columns=range(overlap_df[\"index\"].max()+1))\n",
    "for barcode, df in overlap_df.groupby(\"barcode_\"):\n",
    "    enh_indices = df[\"index\"]\n",
    "    matrix.loc[barcode] = {idx: 1 for idx in enh_indices}\n",
    "\n",
    "m = matrix.fillna(0).astype(int)\n",
    "print(time.time() - start)"
   ]
  },
  {
   "cell_type": "code",
   "execution_count": null,
   "id": "7165f04d",
   "metadata": {},
   "outputs": [],
   "source": [
    "matrix"
   ]
  },
  {
   "cell_type": "code",
   "execution_count": null,
   "id": "ca087217",
   "metadata": {},
   "outputs": [],
   "source": []
  }
 ],
 "metadata": {
  "kernelspec": {
   "display_name": "error_analysis",
   "language": "python",
   "name": "error_analysis"
  },
  "language_info": {
   "codemirror_mode": {
    "name": "ipython",
    "version": 3
   },
   "file_extension": ".py",
   "mimetype": "text/x-python",
   "name": "python",
   "nbconvert_exporter": "python",
   "pygments_lexer": "ipython3",
   "version": "3.9.18"
  }
 },
 "nbformat": 4,
 "nbformat_minor": 5
}
