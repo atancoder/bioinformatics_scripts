{
 "cells": [
  {
   "cell_type": "code",
   "execution_count": 3,
   "id": "81eff27d",
   "metadata": {},
   "outputs": [],
   "source": [
    "import pandas as pd\n",
    "import matplotlib.pyplot as plt\n",
    "import seaborn as sns\n",
    "from typing import cast\n",
    "from matplotlib.figure import Figure"
   ]
  },
  {
   "cell_type": "code",
   "execution_count": 4,
   "id": "bd7d9aa2",
   "metadata": {},
   "outputs": [],
   "source": [
    "def get_scatter(A: pd.Series, B: pd.Series, title: str):\n",
    "    plt.clf()\n",
    "    sample_n = min(len(A), len(A))\n",
    "    A = A.sample(n=sample_n, random_state=1)\n",
    "    B = B.sample(n=sample_n, random_state=1)\n",
    "    pearson_corr = A.corr(B)\n",
    "    ax = sns.regplot(x=A, y=B)\n",
    "    ax.set_title(title)\n",
    "    ax.set_xlabel(\"A RPKM\")\n",
    "    ax.set_ylabel(\"B RPKM\")\n",
    "    plt.scatter([], [], label=f\"N={sample_n} \\nR={pearson_corr}\")\n",
    "    plt.legend()\n",
    "    return cast(Figure, ax.get_figure())"
   ]
  },
  {
   "cell_type": "code",
   "execution_count": 12,
   "id": "6c3eab68",
   "metadata": {},
   "outputs": [],
   "source": [
    "file_A = \"/oak/stanford/groups/engreitz/Users/atan5133/ABC-Enhancer-Gene-Prediction/results/K562_dhs_noqnorm/Neighborhoods/GeneList.txt\"\n",
    "file_B = \"/oak/stanford/groups/engreitz/Users/atan5133/ABC-Enhancer-Gene-Prediction/results/K562_dhs_peaks_ENCFF534DCE_150bp/Neighborhoods/GeneList.txt\""
   ]
  },
  {
   "cell_type": "code",
   "execution_count": 13,
   "id": "96252962",
   "metadata": {},
   "outputs": [],
   "source": [
    "df_A = pd.read_csv(file_A, sep='\\t')\n",
    "df_B = pd.read_csv(file_B, sep='\\t')\n",
    "A_col = \"ATAC.RPKM.TSS1Kb\" if \"ATAC.RPKM.TSS1Kb\" in df_A else \"DHS.RPKM.TSS1Kb\"\n",
    "B_col = \"ATAC.RPKM.TSS1Kb\" if \"ATAC.RPKM.TSS1Kb\" in df_B else \"DHS.RPKM.TSS1Kb\""
   ]
  },
  {
   "cell_type": "code",
   "execution_count": 14,
   "id": "16f19ec4",
   "metadata": {},
   "outputs": [
    {
     "data": {
      "image/png": "[encoded data removed]",
      "text/plain": [
       "<Figure size 432x288 with 1 Axes>"
      ]
     },
     "metadata": {
      "needs_background": "light"
     },
     "output_type": "display_data"
    }
   ],
   "source": [
    "ax = get_scatter(df_A[A_col], df_B[B_col], title=\"Correlation at 1Kb TSS of Gene regions\")"
   ]
  },
  {
   "cell_type": "code",
   "execution_count": 6,
   "id": "bd12927b",
   "metadata": {},
   "outputs": [],
   "source": [
    "## Compare PLOIDY"
   ]
  },
  {
   "cell_type": "code",
   "execution_count": 7,
   "id": "82374f69",
   "metadata": {},
   "outputs": [],
   "source": [
    "from subprocess import check_output\n",
    "import os\n",
    "def get_total_chrom_reads(feature_input):\n",
    "    # Returns Dict[str, int]\n",
    "    filename = os.path.basename(feature_input)\n",
    "    if filename.endswith(\".bam\"):\n",
    "        command = \"conda run -n scripts samtools idxstats \" + feature_input\n",
    "        data = check_output(command, shell=True)\n",
    "        lines = data.decode(\"ascii\").split(\"\\n\")\n",
    "        lines = [line for line in lines if line.startswith('chr')]\n",
    "        df = pd.DataFrame(\n",
    "            [line.split(\"\\t\") for line in lines],\n",
    "            columns=[\"chrom\", \"SeqLength\", \"MappedReads\", \"UnmappedReads\"],\n",
    "        ).set_index(\"chrom\")\n",
    "        return df[\"MappedReads\"].astype(int)\n",
    "\n",
    "    else:\n",
    "        raise RuntimeError(\"Format not supported yet: \" + feature_input)"
   ]
  },
  {
   "cell_type": "code",
   "execution_count": 11,
   "id": "96d60abd",
   "metadata": {},
   "outputs": [],
   "source": [
    "bam_A = \"/oak/stanford/groups/engreitz/Users/atan5133/data/ENCODE/T-Cell/ENCFF485IKK.sorted.bam\"\n",
    "bam_B = \"/oak/stanford/groups/engreitz/Users/atan5133/data/ENCODE/T-Cell/ENCFF476TCF.sorted.bam\""
   ]
  },
  {
   "cell_type": "code",
   "execution_count": 12,
   "id": "de51cc10",
   "metadata": {},
   "outputs": [],
   "source": [
    "A_chrom_reads = get_total_chrom_reads(bam_A)\n",
    "A_total_reads = A_chrom_reads[:24].sum()\n",
    "B_chrom_reads = get_total_chrom_reads(bam_B)\n",
    "B_total_reads = B_chrom_reads[:24].sum()"
   ]
  },
  {
   "cell_type": "code",
   "execution_count": 13,
   "id": "8d5cba5b",
   "metadata": {},
   "outputs": [
    {
     "data": {
      "text/plain": [
       "chrom\n",
       "chr1     0.994675\n",
       "chr2     0.966327\n",
       "chr3     0.923748\n",
       "chr4     0.896833\n",
       "chr5     0.929944\n",
       "chr6     0.916056\n",
       "chr7     1.006485\n",
       "chr8     0.994583\n",
       "chr9     1.026910\n",
       "chr10    1.064314\n",
       "chr11    0.994704\n",
       "chr12    0.959178\n",
       "chr13    0.894451\n",
       "chr14    0.945747\n",
       "chr15    1.072292\n",
       "chr16    1.111742\n",
       "chr17    1.057889\n",
       "chr18    1.005079\n",
       "chr19    1.036443\n",
       "chr20    1.195265\n",
       "chr21    1.027660\n",
       "chr22    1.199121\n",
       "chrX     1.058145\n",
       "chrY     0.865182\n",
       "Name: MappedReads, dtype: float64"
      ]
     },
     "execution_count": 13,
     "metadata": {},
     "output_type": "execute_result"
    }
   ],
   "source": [
    "A_read_ratios = A_chrom_reads[:24] / A_total_reads\n",
    "B_read_ratios = B_chrom_reads[:24] / B_total_reads\n",
    "A_read_ratios / B_read_ratios"
   ]
  },
  {
   "cell_type": "code",
   "execution_count": null,
   "id": "f2ac69cc",
   "metadata": {},
   "outputs": [],
   "source": []
  }
 ],
 "metadata": {
  "kernelspec": {
   "display_name": "scripts",
   "language": "python",
   "name": "scripts"
  },
  "language_info": {
   "codemirror_mode": {
    "name": "ipython",
    "version": 3
   },
   "file_extension": ".py",
   "mimetype": "text/x-python",
   "name": "python",
   "nbconvert_exporter": "python",
   "pygments_lexer": "ipython3",
   "version": "3.9.19"
  }
 },
 "nbformat": 4,
 "nbformat_minor": 5
}
