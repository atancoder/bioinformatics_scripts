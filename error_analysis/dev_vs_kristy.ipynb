{
 "cells": [
  {
   "cell_type": "code",
   "execution_count": 2,
   "metadata": {},
   "outputs": [],
   "source": [
    "import pandas as pd\n",
    "\n",
    "from df_loader import PredDFLoader, CrisprDFLoader\n",
    "from overlaps import (compute_all_overlaps, read_overlaps_from_file,\n",
    "                      write_overlaps_to_file)\n",
    "from schema import DFSchema"
   ]
  },
  {
   "cell_type": "code",
   "execution_count": 3,
   "metadata": {},
   "outputs": [],
   "source": [
    "CRISPR_FILENAME = \"resources/example/EPCrisprBenchmark_Fulco2019_K562_GRCh38.tsv.gz\"\n",
    "DEV_FILENAME = \"resources/personal/dev_predictions.txt.gz\"\n",
    "KRISTY_FILENAME = \"resources/personal/kristy_predictions.txt.gz\"\n",
    "TSS_REF_FILE = \"resources/genome_annotations/RefSeqCurated.170308.bed.CollapsedGeneBounds.hg38.TSS500bp.bed\"\n",
    "ABC_THRESHOLD = 0.02\n"
   ]
  },
  {
   "cell_type": "code",
   "execution_count": 4,
   "metadata": {},
   "outputs": [],
   "source": [
    "def get_overlap_df(filename):\n",
    "    pred_df = PredDFLoader(filename, TSS_REF_FILE, ABC_THRESHOLD).load()\n",
    "    crispr_df = CrisprDFLoader(CRISPR_FILENAME, TSS_REF_FILE).load()\n",
    "    overlaps = compute_all_overlaps(\n",
    "        crispr_df, pred_df, suffixes=[DFSchema.CRISPR_SUFFIX, DFSchema.PRED_SUFFIX]\n",
    "    )\n",
    "    overlaps = compute_all_overlaps(crispr_df, pred_df)\n",
    "    return overlaps"
   ]
  },
  {
   "cell_type": "code",
   "execution_count": 8,
   "metadata": {},
   "outputs": [],
   "source": [
    "dev_overlaps = get_overlap_df(DEV_FILENAME)"
   ]
  },
  {
   "cell_type": "code",
   "execution_count": 9,
   "metadata": {},
   "outputs": [],
   "source": [
    "kristy_overlaps = get_overlap_df(KRISTY_FILENAME)"
   ]
  },
  {
   "cell_type": "code",
   "execution_count": 18,
   "metadata": {},
   "outputs": [],
   "source": [
    "def pairs_in_common(df_a, df_b):\n",
    "    overlaps = compute_all_overlaps(\n",
    "        df_a, df_b\n",
    "    )\n",
    "    return overlaps\n",
    "    "
   ]
  },
  {
   "cell_type": "code",
   "execution_count": 19,
   "metadata": {},
   "outputs": [],
   "source": [
    "df_a = PredDFLoader(DEV_FILENAME, TSS_REF_FILE, ABC_THRESHOLD).load()\n",
    "df_b = PredDFLoader(KRISTY_FILENAME, TSS_REF_FILE, ABC_THRESHOLD).load()\n",
    "common = pairs_in_common(df_a, df_b)"
   ]
  },
  {
   "cell_type": "code",
   "execution_count": 23,
   "metadata": {},
   "outputs": [],
   "source": [
    "pd.set_option('display.max_rows', 20)"
   ]
  },
  {
   "cell_type": "code",
   "execution_count": 26,
   "metadata": {
    "scrolled": false
   },
   "outputs": [
    {
     "data": {
      "text/html": [
       "<div>\n",
       "<style scoped>\n",
       "    .dataframe tbody tr th:only-of-type {\n",
       "        vertical-align: middle;\n",
       "    }\n",
       "\n",
       "    .dataframe tbody tr th {\n",
       "        vertical-align: top;\n",
       "    }\n",
       "\n",
       "    .dataframe thead th {\n",
       "        text-align: right;\n",
       "    }\n",
       "</style>\n",
       "<table border=\"1\" class=\"dataframe\">\n",
       "  <thead>\n",
       "    <tr style=\"text-align: right;\">\n",
       "      <th></th>\n",
       "      <th>name_a</th>\n",
       "      <th>name_b</th>\n",
       "      <th>start_a</th>\n",
       "      <th>start_b</th>\n",
       "      <th>powerlaw.Score_a</th>\n",
       "      <th>powerlaw.Score_b</th>\n",
       "      <th>TargetGene_a</th>\n",
       "      <th>TargetGene_b</th>\n",
       "    </tr>\n",
       "  </thead>\n",
       "  <tbody>\n",
       "    <tr>\n",
       "      <th>1</th>\n",
       "      <td>intergenic|chr2:37189681-37190250</td>\n",
       "      <td>intergenic|chr2:37189681-37190250</td>\n",
       "      <td>37189681</td>\n",
       "      <td>37189681</td>\n",
       "      <td>0.000045</td>\n",
       "      <td>0.000045</td>\n",
       "      <td>LOC102723824</td>\n",
       "      <td>LOC102723824</td>\n",
       "    </tr>\n",
       "    <tr>\n",
       "      <th>508258</th>\n",
       "      <td>intergenic|chr2:37189681-37190250</td>\n",
       "      <td>intergenic|chr2:37189681-37190250</td>\n",
       "      <td>37189681</td>\n",
       "      <td>37189681</td>\n",
       "      <td>0.000002</td>\n",
       "      <td>0.000002</td>\n",
       "      <td>YIPF4</td>\n",
       "      <td>YIPF4</td>\n",
       "    </tr>\n",
       "    <tr>\n",
       "      <th>560733</th>\n",
       "      <td>intergenic|chr2:37189681-37190250</td>\n",
       "      <td>intergenic|chr2:37189681-37190250</td>\n",
       "      <td>37189681</td>\n",
       "      <td>37189681</td>\n",
       "      <td>0.000011</td>\n",
       "      <td>0.000011</td>\n",
       "      <td>SRSF7</td>\n",
       "      <td>SRSF7</td>\n",
       "    </tr>\n",
       "    <tr>\n",
       "      <th>807068</th>\n",
       "      <td>intergenic|chr2:37189681-37190250</td>\n",
       "      <td>intergenic|chr2:37189681-37190250</td>\n",
       "      <td>37189681</td>\n",
       "      <td>37189681</td>\n",
       "      <td>0.000088</td>\n",
       "      <td>0.000088</td>\n",
       "      <td>GEMIN6</td>\n",
       "      <td>GEMIN6</td>\n",
       "    </tr>\n",
       "    <tr>\n",
       "      <th>1125368</th>\n",
       "      <td>intergenic|chr2:37189681-37190250</td>\n",
       "      <td>intergenic|chr2:37189681-37190250</td>\n",
       "      <td>37189681</td>\n",
       "      <td>37189681</td>\n",
       "      <td>0.000038</td>\n",
       "      <td>0.000038</td>\n",
       "      <td>LOC728730</td>\n",
       "      <td>LOC728730</td>\n",
       "    </tr>\n",
       "    <tr>\n",
       "      <th>...</th>\n",
       "      <td>...</td>\n",
       "      <td>...</td>\n",
       "      <td>...</td>\n",
       "      <td>...</td>\n",
       "      <td>...</td>\n",
       "      <td>...</td>\n",
       "      <td>...</td>\n",
       "      <td>...</td>\n",
       "    </tr>\n",
       "    <tr>\n",
       "      <th>7760858</th>\n",
       "      <td>intergenic|chr2:37189681-37190250</td>\n",
       "      <td>intergenic|chr2:37189681-37190250</td>\n",
       "      <td>37189681</td>\n",
       "      <td>37189681</td>\n",
       "      <td>0.000315</td>\n",
       "      <td>0.000315</td>\n",
       "      <td>FEZ2</td>\n",
       "      <td>FEZ2</td>\n",
       "    </tr>\n",
       "    <tr>\n",
       "      <th>7916899</th>\n",
       "      <td>intergenic|chr2:37189681-37190250</td>\n",
       "      <td>intergenic|chr2:37189681-37190250</td>\n",
       "      <td>37189681</td>\n",
       "      <td>37189681</td>\n",
       "      <td>0.000045</td>\n",
       "      <td>0.000045</td>\n",
       "      <td>SOS1</td>\n",
       "      <td>SOS1</td>\n",
       "    </tr>\n",
       "    <tr>\n",
       "      <th>8847883</th>\n",
       "      <td>intergenic|chr2:37189681-37190250</td>\n",
       "      <td>intergenic|chr2:37189681-37190250</td>\n",
       "      <td>37189681</td>\n",
       "      <td>37189681</td>\n",
       "      <td>0.000073</td>\n",
       "      <td>0.000073</td>\n",
       "      <td>MORN2</td>\n",
       "      <td>MORN2</td>\n",
       "    </tr>\n",
       "    <tr>\n",
       "      <th>8934512</th>\n",
       "      <td>intergenic|chr2:37189681-37190250</td>\n",
       "      <td>intergenic|chr2:37189681-37190250</td>\n",
       "      <td>37189681</td>\n",
       "      <td>37189681</td>\n",
       "      <td>0.000020</td>\n",
       "      <td>0.000020</td>\n",
       "      <td>TTC27</td>\n",
       "      <td>TTC27</td>\n",
       "    </tr>\n",
       "    <tr>\n",
       "      <th>9035477</th>\n",
       "      <td>intergenic|chr2:37189681-37190250</td>\n",
       "      <td>intergenic|chr2:37189681-37190250</td>\n",
       "      <td>37189681</td>\n",
       "      <td>37189681</td>\n",
       "      <td>0.000068</td>\n",
       "      <td>0.000068</td>\n",
       "      <td>ATL2</td>\n",
       "      <td>ATL2</td>\n",
       "    </tr>\n",
       "  </tbody>\n",
       "</table>\n",
       "<p>34 rows × 8 columns</p>\n",
       "</div>"
      ],
      "text/plain": [
       "                                    name_a                             name_b  \\\n",
       "1        intergenic|chr2:37189681-37190250  intergenic|chr2:37189681-37190250   \n",
       "508258   intergenic|chr2:37189681-37190250  intergenic|chr2:37189681-37190250   \n",
       "560733   intergenic|chr2:37189681-37190250  intergenic|chr2:37189681-37190250   \n",
       "807068   intergenic|chr2:37189681-37190250  intergenic|chr2:37189681-37190250   \n",
       "1125368  intergenic|chr2:37189681-37190250  intergenic|chr2:37189681-37190250   \n",
       "...                                    ...                                ...   \n",
       "7760858  intergenic|chr2:37189681-37190250  intergenic|chr2:37189681-37190250   \n",
       "7916899  intergenic|chr2:37189681-37190250  intergenic|chr2:37189681-37190250   \n",
       "8847883  intergenic|chr2:37189681-37190250  intergenic|chr2:37189681-37190250   \n",
       "8934512  intergenic|chr2:37189681-37190250  intergenic|chr2:37189681-37190250   \n",
       "9035477  intergenic|chr2:37189681-37190250  intergenic|chr2:37189681-37190250   \n",
       "\n",
       "          start_a   start_b  powerlaw.Score_a  powerlaw.Score_b  TargetGene_a  \\\n",
       "1        37189681  37189681          0.000045          0.000045  LOC102723824   \n",
       "508258   37189681  37189681          0.000002          0.000002         YIPF4   \n",
       "560733   37189681  37189681          0.000011          0.000011         SRSF7   \n",
       "807068   37189681  37189681          0.000088          0.000088        GEMIN6   \n",
       "1125368  37189681  37189681          0.000038          0.000038     LOC728730   \n",
       "...           ...       ...               ...               ...           ...   \n",
       "7760858  37189681  37189681          0.000315          0.000315          FEZ2   \n",
       "7916899  37189681  37189681          0.000045          0.000045          SOS1   \n",
       "8847883  37189681  37189681          0.000073          0.000073         MORN2   \n",
       "8934512  37189681  37189681          0.000020          0.000020         TTC27   \n",
       "9035477  37189681  37189681          0.000068          0.000068          ATL2   \n",
       "\n",
       "         TargetGene_b  \n",
       "1        LOC102723824  \n",
       "508258          YIPF4  \n",
       "560733          SRSF7  \n",
       "807068         GEMIN6  \n",
       "1125368     LOC728730  \n",
       "...               ...  \n",
       "7760858          FEZ2  \n",
       "7916899          SOS1  \n",
       "8847883         MORN2  \n",
       "8934512         TTC27  \n",
       "9035477          ATL2  \n",
       "\n",
       "[34 rows x 8 columns]"
      ]
     },
     "execution_count": 26,
     "metadata": {},
     "output_type": "execute_result"
    }
   ],
   "source": [
    "common[common['name_a']=='intergenic|chr2:37189681-37190250'][['name_a', 'name_b', 'start_a', 'start_b', 'powerlaw.Score_a', 'powerlaw.Score_b', 'TargetGene_a', 'TargetGene_b']]"
   ]
  },
  {
   "cell_type": "code",
   "execution_count": 25,
   "metadata": {},
   "outputs": [
    {
     "name": "stdout",
     "output_type": "stream",
     "text": [
      "9292977 9598794 9274604\n"
     ]
    }
   ],
   "source": [
    "print(len(df_a), len(df_b), len(common))  # Around 20k differences / 9mil total"
   ]
  },
  {
   "cell_type": "code",
   "execution_count": 35,
   "metadata": {},
   "outputs": [
    {
     "name": "stdout",
     "output_type": "stream",
     "text": [
      "1435445\n",
      "286\n"
     ]
    }
   ],
   "source": [
    "# 1 million differences\n",
    "print(len(common[(common['powerlaw.Score_a'] - common['powerlaw.Score_b']) > .0]))\n",
    "\n",
    "# 8247 significant differences\n",
    "print(len(common[(common['powerlaw.Score_a'] - common['powerlaw.Score_b']) > .01]))\n",
    "\n"
   ]
  },
  {
   "cell_type": "code",
   "execution_count": 12,
   "metadata": {},
   "outputs": [
    {
     "data": {
      "text/plain": [
       "4664"
      ]
     },
     "execution_count": 12,
     "metadata": {},
     "output_type": "execute_result"
    }
   ],
   "source": [
    "len(kristy_overlaps)"
   ]
  },
  {
   "cell_type": "code",
   "execution_count": 23,
   "metadata": {},
   "outputs": [
    {
     "data": {
      "text/plain": [
       "0    -4.000000e-06\n",
       "1    -2.000000e-06\n",
       "2    -1.000000e-06\n",
       "3    -7.000000e-06\n",
       "4    -5.000000e-05\n",
       "5    -2.000000e-06\n",
       "6     0.000000e+00\n",
       "7     0.000000e+00\n",
       "8     0.000000e+00\n",
       "9     0.000000e+00\n",
       "10   -1.000000e-06\n",
       "11    0.000000e+00\n",
       "12    0.000000e+00\n",
       "13    0.000000e+00\n",
       "14    0.000000e+00\n",
       "15    0.000000e+00\n",
       "16    0.000000e+00\n",
       "17    0.000000e+00\n",
       "18    0.000000e+00\n",
       "19    0.000000e+00\n",
       "Name: powerlaw.Score_pred, dtype: float64"
      ]
     },
     "execution_count": 23,
     "metadata": {},
     "output_type": "execute_result"
    }
   ],
   "source": [
    "dev_overlaps['powerlaw.Score_pred'][:20] - kristy_overlaps['powerlaw.Score_pred'][:20]"
   ]
  },
  {
   "cell_type": "code",
   "execution_count": 15,
   "metadata": {},
   "outputs": [
    {
     "data": {
      "text/plain": [
       "index_a                                                             3781\n",
       "index_a                                                             3781\n",
       "chrom_a                                                             chr6\n",
       "start_a                                                        109304426\n",
       "end_a                                                          109304926\n",
       "name_a                                  CD164|chr6:109625629-109626129:*\n",
       "EffectSize_a                                                   -0.657495\n",
       "chrTSS_a                                                            chr6\n",
       "TargetGeneTSS_a                                                109382562\n",
       "endTSS_a                                                     109382812.0\n",
       "TargetGene_a                                                       CD164\n",
       "IsSignficant_a                                                      True\n",
       "pValueAdjusted_a                                                0.001244\n",
       "PowerAtEffectSize25_a                                           0.228478\n",
       "ValidConnection_a                                                   TRUE\n",
       "CellType_a                                                          K562\n",
       "Reference_a                                                  Ulirsch2016\n",
       "Regulated_a                                                         True\n",
       "DistanceToTSS_a                                                  78385.0\n",
       "index_b                                                          4618453\n",
       "index_b                                                          4618453\n",
       "chrom_b                                                             chr6\n",
       "start_b                                                        109303772\n",
       "end_b                                                          109304936\n",
       "name_b                                    genic|chr6:109303772-109304936\n",
       "class_b                                                            genic\n",
       "activity_base_b                                                25.463795\n",
       "normalized_dhs_b                                               30.559834\n",
       "activity_base_squared_b                                       648.404856\n",
       "TargetGene_b                                                       CD164\n",
       "TargetGeneTSS_b                                                109382562\n",
       "TargetGeneExpression_b                                               NaN\n",
       "TargetGenePromoterActivityQuantile_b                            0.990227\n",
       "TargetGeneIsExpressed_b                                             True\n",
       "normalized_dhs_b_b                                              0.958332\n",
       "distance_b                                                       78458.0\n",
       "isSelfPromoter_b                                                   False\n",
       "powerlaw_contact_b                                              0.059971\n",
       "powerlaw_contact_reference_b                                    0.011253\n",
       "hic_contact_b                                                   0.015267\n",
       "juicebox_contact_values_b                                       0.015267\n",
       "hic_contact_pl_scaled_b                                         0.002865\n",
       "hic_pseudocount_b                                                    0.0\n",
       "hic_contact_pl_scaled_adj_b                                     0.002865\n",
       "ABC.Score.Numerator_b                                           0.072948\n",
       "ABC.Score_b                                                          0.0\n",
       "powerlaw.Score.Numerator_b                                      0.286553\n",
       "powerlaw.Score_b                                                0.004691\n",
       "CellType_b                                                          K562\n",
       "hic_contact_squared_b                                           0.000233\n",
       "DistanceToTSS_b                                                    79040\n",
       "IsSignficant_b                                                     False\n",
       "Name: 0, dtype: object"
      ]
     },
     "execution_count": 15,
     "metadata": {},
     "output_type": "execute_result"
    }
   ],
   "source": [
    "dev_overlaps.iloc[0]"
   ]
  },
  {
   "cell_type": "code",
   "execution_count": null,
   "metadata": {},
   "outputs": [],
   "source": []
  }
 ],
 "metadata": {
  "kernelspec": {
   "display_name": "error_analysis",
   "language": "python",
   "name": "error_analysis"
  },
  "language_info": {
   "codemirror_mode": {
    "name": "ipython",
    "version": 3
   },
   "file_extension": ".py",
   "mimetype": "text/x-python",
   "name": "python",
   "nbconvert_exporter": "python",
   "pygments_lexer": "ipython3",
   "version": "3.9.16"
  }
 },
 "nbformat": 4,
 "nbformat_minor": 2
}
