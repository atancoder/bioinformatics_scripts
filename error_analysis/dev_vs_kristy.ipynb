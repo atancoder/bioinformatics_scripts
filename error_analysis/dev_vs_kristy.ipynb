{
 "cells": [
  {
   "cell_type": "code",
   "execution_count": 1,
   "metadata": {},
   "outputs": [],
   "source": [
    "import pandas as pd\n",
    "\n",
    "from df_loader import PredDFLoader, CrisprDFLoader\n",
    "from overlaps import compute_all_overlaps\n",
    "from schema import DFSchema\n",
    "import matplotlib.pyplot as plt\n",
    "import numpy as np"
   ]
  },
  {
   "cell_type": "code",
   "execution_count": 2,
   "metadata": {},
   "outputs": [],
   "source": [
    "CRISPR_FILENAME = \"/oak/stanford/groups/engreitz/Projects/Benchmarking/CRISPR_data/EPCrisprBenchmark_ensemble_data_GRCh38.tsv.gz\"\n",
    "DEV_FILENAME = \"/oak/stanford/groups/engreitz/Users/atan5133/abc_run_comparisons/results_K562_no_fit_dev/Predictions/EnhancerPredictionsAllPutative.txt.gz\"\n",
    "KRISTY_FILENAME = \"/oak/stanford/groups/engreitz/Users/kmualim/02212022_hg38Preds_QNORM-hic/K562_ID_2644/Predictions/EnhancerPredictionsAllPutative.txt.gz\"\n",
    "TSS_REF_FILE = \"resources/genome_annotations/RefSeqCurated.170308.bed.CollapsedGeneBounds.hg38.TSS500bp.bed\"\n",
    "ABC_THRESHOLD = 0.02\n"
   ]
  },
  {
   "cell_type": "code",
   "execution_count": 18,
   "metadata": {},
   "outputs": [],
   "source": [
    "def pairs_in_common(df_a, df_b):\n",
    "    id_fields = [\"TargetGene\", \"name\"]\n",
    "    return pd.merge(df_a, df_b, on=id_fields, how='inner', suffixes=['_a', '_b'])"
   ]
  },
  {
   "cell_type": "code",
   "execution_count": 19,
   "metadata": {
    "scrolled": true
   },
   "outputs": [
    {
     "name": "stderr",
     "output_type": "stream",
     "text": [
      "/oak/stanford/groups/engreitz/Users/atan5133/anthonys_scripts/error_analysis/df_loader.py:11: DtypeWarning: Columns (18) have mixed types. Specify dtype option on import or set low_memory=False.\n",
      "  self.df = pd.read_csv(filename_tsv, delimiter=\"\\t\", compression=\"gzip\")\n"
     ]
    },
    {
     "name": "stdout",
     "output_type": "stream",
     "text": [
      "dev has 9616080 lines. Kristy has 9598720 lines\n"
     ]
    }
   ],
   "source": [
    "df_a = PredDFLoader(DEV_FILENAME, TSS_REF_FILE, ABC_THRESHOLD).load()\n",
    "df_b = PredDFLoader(KRISTY_FILENAME, TSS_REF_FILE, ABC_THRESHOLD).load()\n",
    "print(f\"dev has {len(df_a)} lines. Kristy has {len(df_b)} lines\")"
   ]
  },
  {
   "cell_type": "code",
   "execution_count": 20,
   "metadata": {},
   "outputs": [
    {
     "name": "stdout",
     "output_type": "stream",
     "text": [
      "Dev has 114122 positives. Kristy has 107632 positives.\n"
     ]
    }
   ],
   "source": [
    "def count_positives(df):\n",
    "    return len(df[df[\"ABC.Score\"] >= ABC_THRESHOLD])\n",
    "print(f\"Dev has {count_positives(df_a)} positives. Kristy has {count_positives(df_b)} positives.\")"
   ]
  },
  {
   "cell_type": "code",
   "execution_count": 21,
   "metadata": {},
   "outputs": [
    {
     "name": "stdout",
     "output_type": "stream",
     "text": [
      "9568501 lines in common\n"
     ]
    }
   ],
   "source": [
    "common = pairs_in_common(df_a, df_b)\n",
    "print(f\"{len(common)} lines in common\")\n",
    "\n"
   ]
  },
  {
   "cell_type": "code",
   "execution_count": 22,
   "metadata": {},
   "outputs": [
    {
     "name": "stdout",
     "output_type": "stream",
     "text": [
      "9490977 total differences\n",
      "372955 significant differences\n"
     ]
    }
   ],
   "source": [
    "score_difference = abs(common['ABC.Score_a'] - common['ABC.Score_b'])\n",
    "common[\"score_difference\"] = score_difference\n",
    "# 1 million differences\n",
    "significant_diff = .001\n",
    "\n",
    "total_differences = common[score_difference > 0]\n",
    "print(f\"{len(total_differences)} total differences\")\n",
    "\n",
    "significant_differences = common[score_difference > significant_diff]\n",
    "print(f\"{len(significant_differences)} significant differences\")\n"
   ]
  },
  {
   "cell_type": "code",
   "execution_count": 28,
   "metadata": {
    "scrolled": true
   },
   "outputs": [
    {
     "data": {
      "text/plain": [
       "Text(0.5, 1.0, 'Histogram of Score Differences')"
      ]
     },
     "execution_count": 28,
     "metadata": {},
     "output_type": "execute_result"
    },
    {
     "data": {
      "image/png": "[encoded data removed]",
      "text/plain": [
       "<Figure size 432x288 with 1 Axes>"
      ]
     },
     "metadata": {
      "needs_background": "light"
     },
     "output_type": "display_data"
    }
   ],
   "source": [
    "differences = score_difference[score_difference > 0]\n",
    "\n",
    "plt.hist(np.log(differences), bins=100) \n",
    "plt.axvline(x=np.log(.01), color='red', linestyle='solid', label=\".01 Score difference\")\n",
    "plt.axvline(x=np.log(.005), color='black', linestyle='solid', label=\".005 Score difference\")\n",
    "plt.axvline(x=np.log(.001), color='green', linestyle='solid', label=\".001 Score difference\")\n",
    "plt.xlabel('Log (ABC.Score difference)')\n",
    "plt.ylabel('Count')\n",
    "plt.legend()\n",
    "plt.title('Histogram of Score Differences')"
   ]
  },
  {
   "cell_type": "code",
   "execution_count": 24,
   "metadata": {},
   "outputs": [
    {
     "name": "stdout",
     "output_type": "stream",
     "text": [
      "There are 20030/9568501 of 0.02 or larger differences. Equal to 0.209%\n",
      "There are 32810/9568501 of 0.01 or larger differences. Equal to 0.343%\n",
      "There are 59715/9568501 of 0.005 or larger differences. Equal to 0.624%\n",
      "There are 372955/9568501 of 0.001 or larger differences. Equal to 3.898%\n"
     ]
    }
   ],
   "source": [
    "def print_threshold_summary(threshold, num_differences, total_entries):\n",
    "    pct = round((num_differences / total_entries) * 100, 3)\n",
    "    print(f\"There are {num_differences}/{total_entries} of {threshold} or larger differences. Equal to {pct}%\")\n",
    "\n",
    "print_threshold_summary(.02, len(common[score_difference > .02]), len(common))\n",
    "print_threshold_summary(.01, len(common[score_difference > .01]), len(common))\n",
    "print_threshold_summary(.005, len(common[score_difference > .005]), len(common))\n",
    "print_threshold_summary(.001, len(common[score_difference > .001]), len(common))"
   ]
  },
  {
   "cell_type": "code",
   "execution_count": 25,
   "metadata": {},
   "outputs": [],
   "source": [
    "dev_pos_kristy_neg = common[(common['ABC.Score_a'] >= ABC_THRESHOLD) & (common['ABC.Score_b'] < ABC_THRESHOLD)]\n",
    "dev_neg_kristy_pos = common[(common['ABC.Score_a'] < ABC_THRESHOLD) & (common['ABC.Score_b'] >= ABC_THRESHOLD)]"
   ]
  },
  {
   "cell_type": "code",
   "execution_count": 26,
   "metadata": {},
   "outputs": [
    {
     "name": "stdout",
     "output_type": "stream",
     "text": [
      "9325 dev_pos_kristy_neg. 3629 dev_neg_kristy_pos\n"
     ]
    }
   ],
   "source": [
    "print(f\"{len(dev_pos_kristy_neg)} dev_pos_kristy_neg. {len(dev_neg_kristy_pos)} dev_neg_kristy_pos\")\n"
   ]
  },
  {
   "cell_type": "code",
   "execution_count": 29,
   "metadata": {},
   "outputs": [
    {
     "data": {
      "text/plain": [
       "index_a                                                             5486\n",
       "chrom_a                                                            chr17\n",
       "start_a                                                          1321997\n",
       "end_a                                                            1322497\n",
       "name                                    intergenic|chr17:1321997-1322497\n",
       "class_a                                                       intergenic\n",
       "activity_base_a                                                 5.875652\n",
       "normalized_dhs_a                                                7.728392\n",
       "activity_base_squared_a                                        34.523286\n",
       "TargetGene                                                         YWHAE\n",
       "TargetGeneTSS_a                                                  1400012\n",
       "TargetGeneExpression_a                                               NaN\n",
       "TargetGenePromoterActivityQuantile_a                            0.743774\n",
       "TargetGeneIsExpressed_a                                             True\n",
       "normalized_dhs_b_a                                                0.7165\n",
       "distance_a                                                       78015.0\n",
       "isSelfPromoter_a                                                   False\n",
       "powerlaw_contact_a                                               0.00305\n",
       "powerlaw_contact_reference_a                                    0.011309\n",
       "hic_contact_a                                                    0.00528\n",
       "juicebox_contact_values_a                                        0.00528\n",
       "hic_contact_pl_scaled_a                                         0.019576\n",
       "hic_pseudocount_a                                                0.00305\n",
       "hic_contact_pl_scaled_adj_a                                     0.022626\n",
       "ABC.Score.Numerator_a                                           0.132941\n",
       "ABC.Score_a                                                     0.020564\n",
       "powerlaw.Score.Numerator_a                                      0.066447\n",
       "powerlaw.Score_a                                                0.018528\n",
       "CellType_a                                                   K562_no_fit\n",
       "hic_contact_squared_a                                           0.000028\n",
       "DistanceToTSS_a                                                    78265\n",
       "IsSignficant_a                                                     False\n",
       "index_b                                                          5658510\n",
       "chrom_b                                                            chr17\n",
       "start_b                                                          1321997\n",
       "end_b                                                            1322497\n",
       "class_b                                                       intergenic\n",
       "activity_base_b                                                 5.879999\n",
       "normalized_h3K27ac                                              4.469593\n",
       "normalized_dhs_b                                                7.735467\n",
       "activity_base_squared_b                                        34.574388\n",
       "TargetGeneTSS_b                                                  1400012\n",
       "TargetGeneExpression_b                                               NaN\n",
       "TargetGenePromoterActivityQuantile_b                            0.743196\n",
       "TargetGeneIsExpressed_b                                             True\n",
       "normalized_dhs_b_b                                              0.715814\n",
       "normalized_h3k27ac                                              0.781849\n",
       "distance_b                                                       78015.0\n",
       "isSelfPromoter_b                                                   False\n",
       "powerlaw_contact_b                                              0.061876\n",
       "powerlaw_contact_reference_b                                    0.011309\n",
       "hic_contact_b                                                    0.00528\n",
       "juicebox_contact_values_b                                        0.00528\n",
       "hic_contact_pl_scaled_b                                          0.00528\n",
       "hic_pseudocount_b                                                    0.0\n",
       "hic_contact_pl_scaled_adj_b                                      0.00528\n",
       "ABC.Score.Numerator_b                                           0.031046\n",
       "ABC.Score_b                                                     0.019253\n",
       "powerlaw.Score.Numerator_b                                      0.066497\n",
       "powerlaw.Score_b                                                0.005882\n",
       "CellType_b                                                  K562_ID_2644\n",
       "hic_contact_squared_b                                           0.000028\n",
       "DistanceToTSS_b                                                    78265\n",
       "IsSignficant_b                                                     False\n",
       "score_difference                                                0.001311\n",
       "Name: 5486, dtype: object"
      ]
     },
     "execution_count": 29,
     "metadata": {},
     "output_type": "execute_result"
    }
   ],
   "source": [
    "pd.set_option('display.max_rows', 100)\n",
    "dev_pos_kristy_neg.iloc[0]"
   ]
  }
 ],
 "metadata": {
  "kernelspec": {
   "display_name": "error_analysis",
   "language": "python",
   "name": "error_analysis"
  },
  "language_info": {
   "codemirror_mode": {
    "name": "ipython",
    "version": 3
   },
   "file_extension": ".py",
   "mimetype": "text/x-python",
   "name": "python",
   "nbconvert_exporter": "python",
   "pygments_lexer": "ipython3",
   "version": "3.9.16"
  }
 },
 "nbformat": 4,
 "nbformat_minor": 2
}
