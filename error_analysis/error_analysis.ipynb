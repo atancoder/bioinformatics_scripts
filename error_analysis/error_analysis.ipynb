{
 "cells": [
  {
   "cell_type": "code",
   "execution_count": 3,
   "metadata": {},
   "outputs": [],
   "source": [
    "from overlaps import (\n",
    "    read_overlaps_from_file,\n",
    ")\n",
    "from misclassifications import get_misclassifications, label_misclassifications, LABELERS, groupby_gene\n",
    "from main import OVERLAP_FILENAME\n",
    "from schema import DFSchema\n",
    "\n",
    "overlaps = read_overlaps_from_file(OVERLAP_FILENAME)\n",
    "misclass_df = get_misclassifications(overlaps)\n",
    "label_misclassifications(misclass_df)"
   ]
  },
  {
   "cell_type": "code",
   "execution_count": 4,
   "metadata": {},
   "outputs": [
    {
     "name": "stdout",
     "output_type": "stream",
     "text": [
      "FalsePos_Category\n",
      "True    133\n",
      "Name: count, dtype: int64\n",
      "\n",
      "FalseNeg_Category\n",
      "True    112\n",
      "Name: count, dtype: int64\n",
      "\n",
      "DistToTSSSize_Category\n",
      "medium    135\n",
      "large      79\n",
      "small      31\n",
      "Name: count, dtype: int64\n",
      "\n",
      "Top5Gene_Category\n",
      "MYC        23\n",
      "PQBP1      14\n",
      "PLP2       13\n",
      "PRDX2      13\n",
      "WDR83OS    10\n",
      "Name: count, dtype: int64\n",
      "\n"
     ]
    }
   ],
   "source": [
    "for labeler in LABELERS:\n",
    "    print(labeler.summarize_category_count(misclass_df))\n",
    "    print()"
   ]
  },
  {
   "cell_type": "code",
   "execution_count": 5,
   "metadata": {},
   "outputs": [
    {
     "name": "stdout",
     "output_type": "stream",
     "text": [
      "Misclassified 24/282 eg pairs for myc.\n",
      "8% incorrect\n"
     ]
    }
   ],
   "source": [
    "# Look at MYC classification\n",
    "total_myc_eg_pairs = len(overlaps[overlaps[DFSchema.TARGET_GENE + DFSchema.CRISPR_SUFFIX] == 'MYC'])\n",
    "print(f\"Misclassified 24/{total_myc_eg_pairs} eg pairs for myc.\\n{int(100 * 24/total_myc_eg_pairs)}% incorrect\")"
   ]
  },
  {
   "cell_type": "code",
   "execution_count": 6,
   "metadata": {},
   "outputs": [
    {
     "name": "stdout",
     "output_type": "stream",
     "text": [
      "FalsePos_Category\n",
      "True    133\n",
      "Name: count, dtype: int64\n",
      "\n",
      "112\n"
     ]
    }
   ],
   "source": [
    "# Example queries\n",
    "print(misclass_df[\"FalsePos_Category\"].value_counts().filter([True]))\n",
    "print()\n",
    "print(len(misclass_df.query(\"FalseNeg_Category == True\")))"
   ]
  },
  {
   "cell_type": "code",
   "execution_count": 7,
   "metadata": {},
   "outputs": [
    {
     "data": {
      "text/plain": [
       "index                                                          2\n",
       "index_crispr                                                 693\n",
       "index_crispr.1                                               693\n",
       "chrom_crispr                                               chr17\n",
       "start_crispr                                            32909510\n",
       "end_crispr                                              32913691\n",
       "name_crispr                     SPACA3|chr17:31236528-31240709:*\n",
       "EffectSize_crispr                                         -0.687\n",
       "chrTSS_crispr                                              chr17\n",
       "TargetGeneTSS_crispr                                    32991613\n",
       "endTSS_crispr                                         32970377.0\n",
       "TargetGene_crispr                                         SPACA3\n",
       "IsSignficant_crispr                                         True\n",
       "pValueAdjusted_crispr                                        NaN\n",
       "PowerAtEffectSize25_crispr                              0.359854\n",
       "ValidConnection_crispr                                      TRUE\n",
       "CellType_crispr                                             K562\n",
       "Reference_crispr                                       Huang2018\n",
       "Regulated_crispr                                            True\n",
       "DistanceToTSS_crispr                                     60866.0\n",
       "index_pred                                                 11945\n",
       "index_pred.1                                               11945\n",
       "chrom_pred                                                 chr17\n",
       "start_pred                                              32909838\n",
       "end_pred                                                32910338\n",
       "name_pred                     intergenic|chr17:32909838-32910338\n",
       "class_pred                                            intergenic\n",
       "TargetGene_pred                                           SPACA3\n",
       "TargetGeneEnsemblID_pred                                     NaN\n",
       "TargetGeneTSS_pred                                      32991613\n",
       "CellType_pred                                       K562_ID_2644\n",
       "powerlaw.Score_pred                                      0.01679\n",
       "DistanceToTSS_pred                                         82025\n",
       "IsSignficant_pred                                          False\n",
       "FalsePos_Category                                          False\n",
       "FalseNeg_Category                                           True\n",
       "DistToTSSSize_Category                                    medium\n",
       "Name: 0, dtype: object"
      ]
     },
     "execution_count": 7,
     "metadata": {},
     "output_type": "execute_result"
    }
   ],
   "source": [
    "misclass_df.iloc[0]"
   ]
  },
  {
   "cell_type": "code",
   "execution_count": 1,
   "metadata": {},
   "outputs": [
    {
     "name": "stdout",
     "output_type": "stream",
     "text": [
      "Python 3.10.11\r\n"
     ]
    }
   ],
   "source": [
    "!python --version"
   ]
  }
 ],
 "metadata": {
  "kernelspec": {
   "display_name": "error_analysis",
   "language": "python",
   "name": "error_analysis"
  },
  "language_info": {
   "codemirror_mode": {
    "name": "ipython",
    "version": 3
   },
   "file_extension": ".py",
   "mimetype": "text/x-python",
   "name": "python",
   "nbconvert_exporter": "python",
   "pygments_lexer": "ipython3",
   "version": "3.9.16"
  }
 },
 "nbformat": 4,
 "nbformat_minor": 2
}
