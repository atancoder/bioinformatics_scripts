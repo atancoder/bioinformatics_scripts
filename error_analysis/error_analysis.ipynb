{
 "cells": [
  {
   "cell_type": "code",
   "execution_count": 1,
   "metadata": {},
   "outputs": [],
   "source": [
    "from overlaps import (\n",
    "    read_overlaps_from_file,\n",
    ")\n",
    "from misclassifications import get_misclassifications, label_misclassifications, LABELERS, groupby_gene\n",
    "from main import OVERLAP_FILENAME\n",
    "from schema import DFSchema\n",
    "\n",
    "overlaps = read_overlaps_from_file(OVERLAP_FILENAME)\n",
    "misclass_df = get_misclassifications(overlaps)\n",
    "label_misclassifications(misclass_df)"
   ]
  },
  {
   "cell_type": "code",
   "execution_count": 2,
   "metadata": {},
   "outputs": [
    {
     "name": "stdout",
     "output_type": "stream",
     "text": [
      "FalsePos_Category\n",
      "True    133\n",
      "Name: count, dtype: int64\n",
      "\n",
      "FalseNeg_Category\n",
      "True    112\n",
      "Name: count, dtype: int64\n",
      "\n",
      "DistToTSSSize_Category\n",
      "medium    135\n",
      "large      79\n",
      "small      31\n",
      "Name: count, dtype: int64\n",
      "\n",
      "Top5Gene_Category\n",
      "MYC        23\n",
      "PQBP1      14\n",
      "PLP2       13\n",
      "PRDX2      13\n",
      "WDR83OS    10\n",
      "Name: count, dtype: int64\n",
      "\n"
     ]
    }
   ],
   "source": [
    "for labeler in LABELERS:\n",
    "    print(labeler.summarize_category_count(misclass_df))\n",
    "    print()"
   ]
  },
  {
   "cell_type": "code",
   "execution_count": 4,
   "metadata": {},
   "outputs": [
    {
     "name": "stdout",
     "output_type": "stream",
     "text": [
      "Misclassified 24/282 eg pairs for myc.\n",
      "8% incorrect\n"
     ]
    }
   ],
   "source": [
    "# Look at MYC classification\n",
    "total_myc_eg_pairs = len(overlaps[overlaps[DFSchema.TARGET_GENE + DFSchema.CRISPR_SUFFIX] == 'MYC'])\n",
    "print(f\"Misclassified 24/{total_myc_eg_pairs} eg pairs for myc.\\n{int(100 * 24/total_myc_eg_pairs)}% incorrect\")"
   ]
  },
  {
   "cell_type": "code",
   "execution_count": 5,
   "metadata": {},
   "outputs": [
    {
     "name": "stdout",
     "output_type": "stream",
     "text": [
      "FalsePos_Category\n",
      "True    133\n",
      "Name: count, dtype: int64\n",
      "\n",
      "112\n"
     ]
    }
   ],
   "source": [
    "# Example queries\n",
    "print(misclass_df[\"FalsePos_Category\"].value_counts().filter([True]))\n",
    "print()\n",
    "print(len(misclass_df.query(\"FalseNeg_Category == True\")))"
   ]
  },
  {
   "cell_type": "code",
   "execution_count": 5,
   "metadata": {},
   "outputs": [
    {
     "data": {
      "text/plain": [
       "112"
      ]
     },
     "execution_count": 5,
     "metadata": {},
     "output_type": "execute_result"
    }
   ],
   "source": []
  },
  {
   "cell_type": "code",
   "execution_count": null,
   "metadata": {},
   "outputs": [],
   "source": []
  }
 ],
 "metadata": {
  "kernelspec": {
   "display_name": "abc-env",
   "language": "python",
   "name": "python3"
  },
  "language_info": {
   "codemirror_mode": {
    "name": "ipython",
    "version": 3
   },
   "file_extension": ".py",
   "mimetype": "text/x-python",
   "name": "python",
   "nbconvert_exporter": "python",
   "pygments_lexer": "ipython3",
   "version": "3.10.12"
  },
  "orig_nbformat": 4
 },
 "nbformat": 4,
 "nbformat_minor": 2
}
