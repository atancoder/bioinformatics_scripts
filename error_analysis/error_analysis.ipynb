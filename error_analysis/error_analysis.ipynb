{
 "cells": [
  {
   "cell_type": "code",
   "execution_count": 1,
   "metadata": {},
   "outputs": [],
   "source": [
    "from overlaps import (\n",
    "    read_overlaps_from_file,\n",
    ")\n",
    "from misclassifications import get_misclassifications, label_misclassifications, LABELERS\n",
    "from main import OVERLAP_FILENAME\n",
    "from schema import DFSchema\n",
    "\n",
    "overlaps = read_overlaps_from_file(OVERLAP_FILENAME)\n",
    "df = get_misclassifications(overlaps)\n",
    "label_misclassifications(df)"
   ]
  },
  {
   "cell_type": "code",
   "execution_count": 2,
   "metadata": {},
   "outputs": [
    {
     "name": "stdout",
     "output_type": "stream",
     "text": [
      "FalsePos_Category\n",
      "True    6\n",
      "Name: count, dtype: int64\n",
      "\n",
      "FalseNeg_Category\n",
      "True    169\n",
      "Name: count, dtype: int64\n",
      "\n",
      "DistToTSSCategory_Category\n",
      "small     107\n",
      "medium     51\n",
      "large      17\n",
      "Name: count, dtype: int64\n",
      "\n"
     ]
    }
   ],
   "source": [
    "for labeler in LABELERS:\n",
    "    print(labeler.summarize_category_count(df))\n",
    "    print()"
   ]
  },
  {
   "cell_type": "code",
   "execution_count": null,
   "metadata": {},
   "outputs": [],
   "source": [
    "# Look at first misclassification\n",
    "df.iloc[1]"
   ]
  },
  {
   "cell_type": "code",
   "execution_count": 3,
   "metadata": {},
   "outputs": [
    {
     "name": "stdout",
     "output_type": "stream",
     "text": [
      "FalsePos_Category\n",
      "True    133\n",
      "Name: count, dtype: int64\n"
     ]
    }
   ],
   "source": [
    "print(df[\"FalsePos_Category\"].value_counts().filter([True]))"
   ]
  },
  {
   "cell_type": "code",
   "execution_count": 5,
   "metadata": {},
   "outputs": [
    {
     "data": {
      "text/plain": [
       "112"
      ]
     },
     "execution_count": 5,
     "metadata": {},
     "output_type": "execute_result"
    }
   ],
   "source": [
    "len(df.query(\"FalseNeg_Category == True\"))"
   ]
  },
  {
   "cell_type": "code",
   "execution_count": null,
   "metadata": {},
   "outputs": [],
   "source": []
  }
 ],
 "metadata": {
  "kernelspec": {
   "display_name": "abc-env",
   "language": "python",
   "name": "python3"
  },
  "language_info": {
   "codemirror_mode": {
    "name": "ipython",
    "version": 3
   },
   "file_extension": ".py",
   "mimetype": "text/x-python",
   "name": "python",
   "nbconvert_exporter": "python",
   "pygments_lexer": "ipython3",
   "version": "3.10.12"
  },
  "orig_nbformat": 4
 },
 "nbformat": 4,
 "nbformat_minor": 2
}
