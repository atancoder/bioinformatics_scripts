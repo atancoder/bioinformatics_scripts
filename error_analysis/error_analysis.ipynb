{
 "cells": [
  {
   "cell_type": "code",
   "execution_count": 1,
   "metadata": {},
   "outputs": [],
   "source": [
    "from overlaps import (\n",
    "    read_overlaps_from_file, merge_multiple_predictions, compute_crispr_overlaps\n",
    ")\n",
    "from misclassifications import get_misclassifications, label_misclassifications, LABELERS, groupby_gene\n",
    "from main import OVERLAP_FILENAME\n",
    "from df_loader import CrisprDFLoader, PredDFLoader\n",
    "from schema import DFSchema\n",
    "import pandas as pd\n",
    "pd.set_option('display.max_rows', 100) "
   ]
  },
  {
   "cell_type": "code",
   "execution_count": 2,
   "metadata": {},
   "outputs": [],
   "source": [
    "CRISPR_FILENAME = \"/oak/stanford/groups/engreitz/Projects/Benchmarking/CRISPR_data/EPCrisprBenchmark_ensemble_data_GRCh38.tsv.gz\"\n",
    "PRED_FILENAME = \"/oak/stanford/groups/engreitz/Users/atan5133/abc_run_comparisons/results_10_27_dev/Predictions/EnhancerPredictionsAllPutative.tsv.gz\"\n",
    "OVERLAP_FILENAME = \"crispr_pred_overlaps_noqnorm.csv\"\n",
    "ABC_THRESHOLD = 0.024\n",
    "TSS_REF_FILE = \"resources/genome_annotations/RefSeqCurated.170308.bed.CollapsedGeneBounds.hg38.TSS500bp.bed\""
   ]
  },
  {
   "cell_type": "code",
   "execution_count": 3,
   "metadata": {},
   "outputs": [
    {
     "name": "stderr",
     "output_type": "stream",
     "text": [
      "/oak/stanford/groups/engreitz/Users/atan5133/.conda/envs/error_analysis/lib/python3.9/site-packages/bioframe/core/specs.py:150: FutureWarning: is_categorical_dtype is deprecated and will be removed in a future version. Use isinstance(dtype, CategoricalDtype) instead\n",
      "  pd.api.types.is_categorical_dtype(chrom_dtype),\n",
      "/oak/stanford/groups/engreitz/Users/atan5133/.conda/envs/error_analysis/lib/python3.9/site-packages/bioframe/core/specs.py:150: FutureWarning: is_categorical_dtype is deprecated and will be removed in a future version. Use isinstance(dtype, CategoricalDtype) instead\n",
      "  pd.api.types.is_categorical_dtype(chrom_dtype),\n",
      "/oak/stanford/groups/engreitz/Users/atan5133/.conda/envs/error_analysis/lib/python3.9/site-packages/bioframe/ops.py:514: FutureWarning: Setting an item of incompatible dtype is deprecated and will raise in a future error of pandas. Value 'nan' has dtype incompatible with bool, please explicitly cast to a compatible dtype first.\n",
      "  df_input_2[overlap_df_idxs[:, 1] == -1] = None\n"
     ]
    }
   ],
   "source": [
    "# overlaps = read_overlaps_from_file(OVERLAP_FILENAME)\n",
    "pred_df = PredDFLoader(PRED_FILENAME, TSS_REF_FILE, ABC_THRESHOLD).load()\n",
    "crispr_df = CrisprDFLoader(CRISPR_FILENAME, TSS_REF_FILE).load()\n",
    "overlap_df = compute_crispr_overlaps(\n",
    "    crispr_df, pred_df\n",
    ")\n",
    "overlaps = merge_multiple_predictions(overlap_df, ABC_THRESHOLD)"
   ]
  },
  {
   "cell_type": "code",
   "execution_count": 14,
   "metadata": {},
   "outputs": [],
   "source": [
    "misclass_df = get_misclassifications(overlaps)\n",
    "label_misclassifications(misclass_df)\n",
    "pd.set_option('display.max_rows', 100) "
   ]
  },
  {
   "cell_type": "code",
   "execution_count": 15,
   "metadata": {},
   "outputs": [
    {
     "name": "stdout",
     "output_type": "stream",
     "text": [
      "FalsePos_Category\n",
      "True    263\n",
      "Name: count, dtype: int64\n",
      "\n",
      "FalseNeg_Category\n",
      "True    211\n",
      "Name: count, dtype: int64\n",
      "\n",
      "DistToTSSSize_Category\n",
      "medium (<= 100000 bp)    233\n",
      "large (> 100000 bp)      172\n",
      "small (<= 10000 bp)       69\n",
      "Name: count, dtype: int64\n",
      "\n",
      "Top5Gene_Category\n",
      "PLP2     10\n",
      "MYC       8\n",
      "PRDX2     8\n",
      "HDAC6     6\n",
      "PQBP1     5\n",
      "Name: count, dtype: int64\n",
      "\n",
      "from_mult_pred\n",
      "True    39\n",
      "Name: count, dtype: int64\n",
      "\n",
      "EnhancerSize_Category\n",
      "Normal    314\n",
      "Large     160\n",
      "Name: count, dtype: int64\n",
      "\n"
     ]
    }
   ],
   "source": [
    "for labeler in LABELERS:\n",
    "    print(labeler.summarize_category_count(misclass_df))\n",
    "    print()"
   ]
  },
  {
   "cell_type": "code",
   "execution_count": 22,
   "metadata": {},
   "outputs": [
    {
     "name": "stdout",
     "output_type": "stream",
     "text": [
      "False pos large enhancers: 129\n",
      "False neg large enhancers: 31\n"
     ]
    }
   ],
   "source": [
    "false_pos = len(misclass_df[(misclass_df[\"EnhancerSize_Category\"] == \"Large\") & (misclass_df[\"FalsePos_Category\"] == True)])\n",
    "false_neg = len(misclass_df[(misclass_df[\"EnhancerSize_Category\"] == \"Large\") & (misclass_df[\"FalseNeg_Category\"] == True)])\n",
    "print(f\"False pos large enhancers: {false_pos}\\nFalse neg large enhancers: {false_neg}\")"
   ]
  },
  {
   "cell_type": "code",
   "execution_count": null,
   "metadata": {},
   "outputs": [],
   "source": []
  },
  {
   "cell_type": "code",
   "execution_count": 17,
   "metadata": {},
   "outputs": [
    {
     "name": "stdout",
     "output_type": "stream",
     "text": [
      "Misclassified 8/105 eg pairs for MYC.\n",
      "7% incorrect\n",
      "Misclassified 10/211 eg pairs for PLP2.\n",
      "4% incorrect\n"
     ]
    }
   ],
   "source": [
    "# Look at MYC classification\n",
    "def print_target_gene_misclassification(target_gene):\n",
    "    incorrect = len(misclass_df[misclass_df[DFSchema.TARGET_GENE + DFSchema.CRISPR_SUFFIX] == target_gene])\n",
    "    total_pairs = len(overlaps[overlaps[DFSchema.TARGET_GENE + DFSchema.CRISPR_SUFFIX] == target_gene])\n",
    "    print(f\"Misclassified {incorrect}/{total_pairs} eg pairs for {target_gene}.\\n{int(100 * incorrect/total_pairs)}% incorrect\")\n",
    "\n",
    "print_target_gene_misclassification(\"MYC\")\n",
    "print_target_gene_misclassification(\"PLP2\")"
   ]
  },
  {
   "cell_type": "code",
   "execution_count": 18,
   "metadata": {},
   "outputs": [
    {
     "name": "stdout",
     "output_type": "stream",
     "text": [
      "FalsePos_Category\n",
      "True    263\n",
      "Name: count, dtype: int64\n",
      "\n",
      "211\n"
     ]
    }
   ],
   "source": [
    "# Example queries\n",
    "print(misclass_df[\"FalsePos_Category\"].value_counts().filter([True]))\n",
    "print()\n",
    "print(len(misclass_df.query(\"FalseNeg_Category == True\")))"
   ]
  },
  {
   "cell_type": "code",
   "execution_count": 19,
   "metadata": {},
   "outputs": [],
   "source": [
    "sizes = pred_df[\"end\"] - pred_df[\"start\"]\n",
    "num_normal = (sizes == 500).sum()\n",
    "num_large = (sizes > 500).sum()"
   ]
  },
  {
   "cell_type": "code",
   "execution_count": 20,
   "metadata": {},
   "outputs": [
    {
     "data": {
      "text/plain": [
       "7083290"
      ]
     },
     "execution_count": 20,
     "metadata": {},
     "output_type": "execute_result"
    }
   ],
   "source": [
    "num_normal"
   ]
  },
  {
   "cell_type": "code",
   "execution_count": 21,
   "metadata": {},
   "outputs": [
    {
     "data": {
      "text/plain": [
       "1662088"
      ]
     },
     "execution_count": 21,
     "metadata": {},
     "output_type": "execute_result"
    }
   ],
   "source": [
    "num_large"
   ]
  },
  {
   "cell_type": "code",
   "execution_count": null,
   "metadata": {},
   "outputs": [],
   "source": []
  }
 ],
 "metadata": {
  "kernelspec": {
   "display_name": "error_analysis",
   "language": "python",
   "name": "error_analysis"
  },
  "language_info": {
   "codemirror_mode": {
    "name": "ipython",
    "version": 3
   },
   "file_extension": ".py",
   "mimetype": "text/x-python",
   "name": "python",
   "nbconvert_exporter": "python",
   "pygments_lexer": "ipython3",
   "version": "3.9.18"
  }
 },
 "nbformat": 4,
 "nbformat_minor": 2
}
