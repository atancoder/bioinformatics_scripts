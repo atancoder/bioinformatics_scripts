{
 "cells": [
  {
   "cell_type": "code",
   "execution_count": 16,
   "metadata": {},
   "outputs": [],
   "source": [
    "from overlaps import (\n",
    "    read_overlaps_from_file, merge_multiple_predictions, compute_crispr_overlaps\n",
    ")\n",
    "from misclassifications import get_misclassifications, label_misclassifications, LABELERS, groupby_gene\n",
    "from main import OVERLAP_FILENAME\n",
    "from df_loader import CrisprDFLoader, PredDFLoader\n",
    "from schema import DFSchema\n",
    "import pandas as pd\n",
    "import matplotlib.pyplot as plt\n",
    "import numpy as np\n",
    "pd.set_option('display.max_rows', 100) "
   ]
  },
  {
   "cell_type": "code",
   "execution_count": 17,
   "metadata": {},
   "outputs": [],
   "source": [
    "CRISPR_FILENAME = \"/oak/stanford/groups/engreitz/Projects/Benchmarking/CRISPR_data/EPCrisprBenchmark_ensemble_data_GRCh38.tsv.gz\"\n",
    "PRED_FILENAME = \"/oak/stanford/groups/engreitz/Users/atan5133/ABC-Enhancer-Gene-Prediction/results/K562_dhs_noqnorm/Predictions/EnhancerPredictionsAllPutative.tsv.gz\"\n",
    "THRESHOLD = 0.013\n",
    "TSS_REF_FILE = \"resources/genome_annotations/RefSeqCurated.170308.bed.CollapsedGeneBounds.hg38.TSS500bp.bed\""
   ]
  },
  {
   "cell_type": "code",
   "execution_count": 18,
   "metadata": {},
   "outputs": [
    {
     "name": "stderr",
     "output_type": "stream",
     "text": [
      "/oak/stanford/groups/engreitz/Users/atan5133/.conda/envs/scripts/lib/python3.9/site-packages/bioframe/ops.py:573: FutureWarning: Setting an item of incompatible dtype is deprecated and will raise an error in a future version of pandas. Value 'nan' has dtype incompatible with bool, please explicitly cast to a compatible dtype first.\n",
      "  df_input_2[is_na_right] = None\n",
      "/oak/stanford/groups/engreitz/Users/atan5133/.conda/envs/scripts/lib/python3.9/site-packages/bioframe/ops.py:573: FutureWarning: Setting an item of incompatible dtype is deprecated and will raise an error in a future version of pandas. Value 'nan' has dtype incompatible with bool, please explicitly cast to a compatible dtype first.\n",
      "  df_input_2[is_na_right] = None\n",
      "/oak/stanford/groups/engreitz/Users/atan5133/.conda/envs/scripts/lib/python3.9/site-packages/bioframe/ops.py:573: FutureWarning: Setting an item of incompatible dtype is deprecated and will raise an error in a future version of pandas. Value 'nan' has dtype incompatible with bool, please explicitly cast to a compatible dtype first.\n",
      "  df_input_2[is_na_right] = None\n",
      "/oak/stanford/groups/engreitz/Users/atan5133/anthonys_scripts/error_analysis/overlaps.py:56: FutureWarning: Downcasting object dtype arrays on .fillna, .ffill, .bfill is deprecated and will change in a future version. Call result.infer_objects(copy=False) instead. To opt-in to the future behavior, set `pd.set_option('future.no_silent_downcasting', True)`\n",
      "  overlap_df[DFSchema.IS_SIGNIFICANT + DFSchema.PRED_SUFFIX] = overlap_df[DFSchema.IS_SIGNIFICANT + DFSchema.PRED_SUFFIX].fillna(\n"
     ]
    }
   ],
   "source": [
    "# overlaps = read_overlaps_from_file(OVERLAP_FILENAME)\n",
    "pred_df = PredDFLoader(PRED_FILENAME, TSS_REF_FILE, THRESHOLD, score_col='ABC.Score').load()\n",
    "crispr_df = CrisprDFLoader(CRISPR_FILENAME, TSS_REF_FILE).load()\n",
    "overlap_df = compute_crispr_overlaps(\n",
    "    crispr_df, pred_df\n",
    ")\n",
    "overlaps = merge_multiple_predictions(overlap_df, THRESHOLD)"
   ]
  },
  {
   "cell_type": "code",
   "execution_count": 19,
   "metadata": {},
   "outputs": [],
   "source": [
    "misclass_df = get_misclassifications(overlaps)\n",
    "label_misclassifications(misclass_df)\n",
    "pd.set_option('display.max_rows', 100) "
   ]
  },
  {
   "cell_type": "code",
   "execution_count": 20,
   "metadata": {},
   "outputs": [
    {
     "name": "stdout",
     "output_type": "stream",
     "text": [
      "True    430\n",
      "Name: FalsePos_Category, dtype: int64\n",
      "\n",
      "True    140\n",
      "Name: FalseNeg_Category, dtype: int64\n",
      "\n",
      "DistToTSSSize_Category\n",
      "medium (<= 100000 bp)    350\n",
      "large (> 100000 bp)      137\n",
      "small (<= 10000 bp)       83\n",
      "Name: count, dtype: int64\n",
      "\n",
      "Top5Gene_Category\n",
      "MYC         10\n",
      "ITGA5        9\n",
      "BCAT2        7\n",
      "RNASEH2A     7\n",
      "NDUFB9       6\n",
      "Name: count, dtype: int64\n",
      "\n",
      "True    56\n",
      "Name: MultiplePredictions_Category, dtype: int64\n",
      "\n",
      "EnhancerSize_Category\n",
      "Normal    394\n",
      "Large     176\n",
      "Name: count, dtype: int64\n",
      "\n"
     ]
    }
   ],
   "source": [
    "for labeler in LABELERS:\n",
    "    print(labeler.summarize_category_count(misclass_df))\n",
    "    print()"
   ]
  },
  {
   "cell_type": "code",
   "execution_count": 21,
   "metadata": {},
   "outputs": [],
   "source": [
    "relevant_cols = ['chrom_pred', 'start_crispr','end_crispr', 'name_crispr', 'distance_pred', 'activity_base_pred', 'IsSignificant_crispr', 'IsSignificant_pred', 'ABC.Score.Numerator_pred', 'ABC.Score_pred', 'TargetGene_crispr']"
   ]
  },
  {
   "cell_type": "code",
   "execution_count": 22,
   "metadata": {},
   "outputs": [
    {
     "data": {
      "text/plain": [
       "TargetGene_crispr\n",
       "FUT1        4\n",
       "PSMD13      4\n",
       "PQBP1       4\n",
       "NFE2        4\n",
       "LYL1        5\n",
       "NUCB1       5\n",
       "NDUFB9      6\n",
       "RNASEH2A    7\n",
       "BCAT2       7\n",
       "ITGA5       9\n",
       "dtype: int64"
      ]
     },
     "execution_count": 22,
     "metadata": {},
     "output_type": "execute_result"
    }
   ],
   "source": [
    "false_pos = overlaps[(overlaps[\"IsSignificant_crispr\"] == False) & (overlaps[\"IsSignificant_pred\"] == True)]\n",
    "group = false_pos.groupby(\"TargetGene_crispr\")\n",
    "group.size().sort_values()[-10:]"
   ]
  },
  {
   "cell_type": "code",
   "execution_count": 23,
   "metadata": {},
   "outputs": [
    {
     "data": {
      "text/html": [
       "<div>\n",
       "<style scoped>\n",
       "    .dataframe tbody tr th:only-of-type {\n",
       "        vertical-align: middle;\n",
       "    }\n",
       "\n",
       "    .dataframe tbody tr th {\n",
       "        vertical-align: top;\n",
       "    }\n",
       "\n",
       "    .dataframe thead th {\n",
       "        text-align: right;\n",
       "    }\n",
       "</style>\n",
       "<table border=\"1\" class=\"dataframe\">\n",
       "  <thead>\n",
       "    <tr style=\"text-align: right;\">\n",
       "      <th></th>\n",
       "      <th>chrom_pred</th>\n",
       "      <th>start_crispr</th>\n",
       "      <th>end_crispr</th>\n",
       "      <th>name_crispr</th>\n",
       "      <th>distance_pred</th>\n",
       "      <th>activity_base_pred</th>\n",
       "      <th>IsSignificant_crispr</th>\n",
       "      <th>IsSignificant_pred</th>\n",
       "      <th>ABC.Score.Numerator_pred</th>\n",
       "      <th>ABC.Score_pred</th>\n",
       "      <th>TargetGene_crispr</th>\n",
       "    </tr>\n",
       "  </thead>\n",
       "  <tbody>\n",
       "    <tr>\n",
       "      <th>9600</th>\n",
       "      <td>chrX</td>\n",
       "      <td>49190908</td>\n",
       "      <td>49191428</td>\n",
       "      <td>GATA1|chrX:49047365-49047885:*</td>\n",
       "      <td>404676.0</td>\n",
       "      <td>63.199211</td>\n",
       "      <td>False</td>\n",
       "      <td>False</td>\n",
       "      <td>0.044244</td>\n",
       "      <td>0.005082</td>\n",
       "      <td>GATA1</td>\n",
       "    </tr>\n",
       "    <tr>\n",
       "      <th>10013</th>\n",
       "      <td>chrX</td>\n",
       "      <td>49190908</td>\n",
       "      <td>49191428</td>\n",
       "      <td>PLP2|chrX:49047365-49047885:*</td>\n",
       "      <td>19413.0</td>\n",
       "      <td>63.199211</td>\n",
       "      <td>False</td>\n",
       "      <td>True</td>\n",
       "      <td>0.992694</td>\n",
       "      <td>0.138243</td>\n",
       "      <td>PLP2</td>\n",
       "    </tr>\n",
       "    <tr>\n",
       "      <th>9805</th>\n",
       "      <td>chrX</td>\n",
       "      <td>49190908</td>\n",
       "      <td>49191428</td>\n",
       "      <td>HDAC6|chrX:49047365-49047885:*</td>\n",
       "      <td>389234.0</td>\n",
       "      <td>63.199211</td>\n",
       "      <td>False</td>\n",
       "      <td>False</td>\n",
       "      <td>0.046042</td>\n",
       "      <td>0.003737</td>\n",
       "      <td>HDAC6</td>\n",
       "    </tr>\n",
       "    <tr>\n",
       "      <th>10222</th>\n",
       "      <td>chrX</td>\n",
       "      <td>49190908</td>\n",
       "      <td>49191428</td>\n",
       "      <td>PQBP1|chrX:49047365-49047885:*</td>\n",
       "      <td>293338.0</td>\n",
       "      <td>63.199211</td>\n",
       "      <td>False</td>\n",
       "      <td>False</td>\n",
       "      <td>0.061514</td>\n",
       "      <td>0.007651</td>\n",
       "      <td>PQBP1</td>\n",
       "    </tr>\n",
       "    <tr>\n",
       "      <th>9353</th>\n",
       "      <td>chr9</td>\n",
       "      <td>120896697</td>\n",
       "      <td>120897631</td>\n",
       "      <td>PHF19|chr9:123658975-123659909:.</td>\n",
       "      <td>19876.5</td>\n",
       "      <td>52.776740</td>\n",
       "      <td>True</td>\n",
       "      <td>True</td>\n",
       "      <td>0.809191</td>\n",
       "      <td>0.085098</td>\n",
       "      <td>PHF19</td>\n",
       "    </tr>\n",
       "    <tr>\n",
       "      <th>79</th>\n",
       "      <td>chr1</td>\n",
       "      <td>26619808</td>\n",
       "      <td>26621780</td>\n",
       "      <td>STMN1|chr1:26946299-26948271:.</td>\n",
       "      <td>714556.5</td>\n",
       "      <td>51.821692</td>\n",
       "      <td>False</td>\n",
       "      <td>False</td>\n",
       "      <td>0.020265</td>\n",
       "      <td>0.004736</td>\n",
       "      <td>STMN1</td>\n",
       "    </tr>\n",
       "    <tr>\n",
       "      <th>100</th>\n",
       "      <td>chr1</td>\n",
       "      <td>26619808</td>\n",
       "      <td>26621780</td>\n",
       "      <td>PIGV|chr1:26946299-26948271:.</td>\n",
       "      <td>166903.5</td>\n",
       "      <td>51.821692</td>\n",
       "      <td>False</td>\n",
       "      <td>True</td>\n",
       "      <td>0.089870</td>\n",
       "      <td>0.016023</td>\n",
       "      <td>PIGV</td>\n",
       "    </tr>\n",
       "    <tr>\n",
       "      <th>8303</th>\n",
       "      <td>chr7</td>\n",
       "      <td>25862086</td>\n",
       "      <td>25862957</td>\n",
       "      <td>CBX3|chr7:25901706-25902577:.</td>\n",
       "      <td>338662.5</td>\n",
       "      <td>44.471981</td>\n",
       "      <td>False</td>\n",
       "      <td>False</td>\n",
       "      <td>0.037363</td>\n",
       "      <td>0.011401</td>\n",
       "      <td>CBX3</td>\n",
       "    </tr>\n",
       "    <tr>\n",
       "      <th>8306</th>\n",
       "      <td>chr7</td>\n",
       "      <td>25862086</td>\n",
       "      <td>25862957</td>\n",
       "      <td>HNRNPA2B1|chr7:25901706-25902577:.</td>\n",
       "      <td>338245.5</td>\n",
       "      <td>44.471981</td>\n",
       "      <td>False</td>\n",
       "      <td>False</td>\n",
       "      <td>0.037410</td>\n",
       "      <td>0.011399</td>\n",
       "      <td>HNRNPA2B1</td>\n",
       "    </tr>\n",
       "    <tr>\n",
       "      <th>8298</th>\n",
       "      <td>chr7</td>\n",
       "      <td>25862086</td>\n",
       "      <td>25862957</td>\n",
       "      <td>CYCS|chr7:25901706-25902577:.</td>\n",
       "      <td>737186.5</td>\n",
       "      <td>44.471981</td>\n",
       "      <td>False</td>\n",
       "      <td>False</td>\n",
       "      <td>0.016844</td>\n",
       "      <td>0.005663</td>\n",
       "      <td>CYCS</td>\n",
       "    </tr>\n",
       "    <tr>\n",
       "      <th>6554</th>\n",
       "      <td>chr3</td>\n",
       "      <td>14232367</td>\n",
       "      <td>14233112</td>\n",
       "      <td>SLC6A6|chr3:14273867-14274612:.</td>\n",
       "      <td>169651.0</td>\n",
       "      <td>44.347410</td>\n",
       "      <td>True</td>\n",
       "      <td>True</td>\n",
       "      <td>0.075633</td>\n",
       "      <td>0.024232</td>\n",
       "      <td>SLC6A6</td>\n",
       "    </tr>\n",
       "    <tr>\n",
       "      <th>6557</th>\n",
       "      <td>chr3</td>\n",
       "      <td>14232367</td>\n",
       "      <td>14233112</td>\n",
       "      <td>MRPS25|chr3:14273867-14274612:.</td>\n",
       "      <td>832413.0</td>\n",
       "      <td>44.347410</td>\n",
       "      <td>False</td>\n",
       "      <td>False</td>\n",
       "      <td>0.014831</td>\n",
       "      <td>0.006977</td>\n",
       "      <td>MRPS25</td>\n",
       "    </tr>\n",
       "    <tr>\n",
       "      <th>6552</th>\n",
       "      <td>chr3</td>\n",
       "      <td>14232367</td>\n",
       "      <td>14233112</td>\n",
       "      <td>CHCHD4|chr3:14273867-14274612:.</td>\n",
       "      <td>108053.0</td>\n",
       "      <td>44.347410</td>\n",
       "      <td>False</td>\n",
       "      <td>True</td>\n",
       "      <td>0.120054</td>\n",
       "      <td>0.033920</td>\n",
       "      <td>CHCHD4</td>\n",
       "    </tr>\n",
       "    <tr>\n",
       "      <th>6547</th>\n",
       "      <td>chr3</td>\n",
       "      <td>14232367</td>\n",
       "      <td>14233112</td>\n",
       "      <td>LSM3|chr3:14273867-14274612:.</td>\n",
       "      <td>54197.0</td>\n",
       "      <td>44.347410</td>\n",
       "      <td>True</td>\n",
       "      <td>True</td>\n",
       "      <td>0.243386</td>\n",
       "      <td>0.091841</td>\n",
       "      <td>LSM3</td>\n",
       "    </tr>\n",
       "    <tr>\n",
       "      <th>10176</th>\n",
       "      <td>chrX</td>\n",
       "      <td>48800418</td>\n",
       "      <td>48800918</td>\n",
       "      <td>PQBP1|chrX:48658825-48659325:*</td>\n",
       "      <td>97170.0</td>\n",
       "      <td>40.195031</td>\n",
       "      <td>False</td>\n",
       "      <td>True</td>\n",
       "      <td>0.121311</td>\n",
       "      <td>0.015088</td>\n",
       "      <td>PQBP1</td>\n",
       "    </tr>\n",
       "    <tr>\n",
       "      <th>9549</th>\n",
       "      <td>chrX</td>\n",
       "      <td>48800621</td>\n",
       "      <td>48800667</td>\n",
       "      <td>GATA1|chrX:48659028-48659074:*</td>\n",
       "      <td>14168.0</td>\n",
       "      <td>40.195031</td>\n",
       "      <td>True</td>\n",
       "      <td>True</td>\n",
       "      <td>0.871700</td>\n",
       "      <td>0.100123</td>\n",
       "      <td>GATA1</td>\n",
       "    </tr>\n",
       "    <tr>\n",
       "      <th>9760</th>\n",
       "      <td>chrX</td>\n",
       "      <td>48800621</td>\n",
       "      <td>48800667</td>\n",
       "      <td>HDAC6|chrX:48659028-48659074:*</td>\n",
       "      <td>1274.0</td>\n",
       "      <td>40.195031</td>\n",
       "      <td>True</td>\n",
       "      <td>True</td>\n",
       "      <td>2.532866</td>\n",
       "      <td>0.205582</td>\n",
       "      <td>HDAC6</td>\n",
       "    </tr>\n",
       "    <tr>\n",
       "      <th>9966</th>\n",
       "      <td>chrX</td>\n",
       "      <td>48800418</td>\n",
       "      <td>48800918</td>\n",
       "      <td>PLP2|chrX:48658825-48659325:*</td>\n",
       "      <td>371095.0</td>\n",
       "      <td>40.195031</td>\n",
       "      <td>False</td>\n",
       "      <td>False</td>\n",
       "      <td>0.030750</td>\n",
       "      <td>0.004282</td>\n",
       "      <td>PLP2</td>\n",
       "    </tr>\n",
       "    <tr>\n",
       "      <th>0</th>\n",
       "      <td>chr1</td>\n",
       "      <td>3774714</td>\n",
       "      <td>3775214</td>\n",
       "      <td>CEP104|chr1:3691278-3691778:*</td>\n",
       "      <td>81670.0</td>\n",
       "      <td>37.911222</td>\n",
       "      <td>True</td>\n",
       "      <td>True</td>\n",
       "      <td>0.136708</td>\n",
       "      <td>0.048626</td>\n",
       "      <td>CEP104</td>\n",
       "    </tr>\n",
       "    <tr>\n",
       "      <th>1</th>\n",
       "      <td>chr1</td>\n",
       "      <td>3774714</td>\n",
       "      <td>3775214</td>\n",
       "      <td>LRRC47|chr1:3691278-3691778:*</td>\n",
       "      <td>20941.0</td>\n",
       "      <td>37.911222</td>\n",
       "      <td>True</td>\n",
       "      <td>True</td>\n",
       "      <td>0.551024</td>\n",
       "      <td>0.166817</td>\n",
       "      <td>LRRC47</td>\n",
       "    </tr>\n",
       "  </tbody>\n",
       "</table>\n",
       "</div>"
      ],
      "text/plain": [
       "      chrom_pred  start_crispr  end_crispr  \\\n",
       "9600        chrX      49190908    49191428   \n",
       "10013       chrX      49190908    49191428   \n",
       "9805        chrX      49190908    49191428   \n",
       "10222       chrX      49190908    49191428   \n",
       "9353        chr9     120896697   120897631   \n",
       "79          chr1      26619808    26621780   \n",
       "100         chr1      26619808    26621780   \n",
       "8303        chr7      25862086    25862957   \n",
       "8306        chr7      25862086    25862957   \n",
       "8298        chr7      25862086    25862957   \n",
       "6554        chr3      14232367    14233112   \n",
       "6557        chr3      14232367    14233112   \n",
       "6552        chr3      14232367    14233112   \n",
       "6547        chr3      14232367    14233112   \n",
       "10176       chrX      48800418    48800918   \n",
       "9549        chrX      48800621    48800667   \n",
       "9760        chrX      48800621    48800667   \n",
       "9966        chrX      48800418    48800918   \n",
       "0           chr1       3774714     3775214   \n",
       "1           chr1       3774714     3775214   \n",
       "\n",
       "                              name_crispr  distance_pred  activity_base_pred  \\\n",
       "9600       GATA1|chrX:49047365-49047885:*       404676.0           63.199211   \n",
       "10013       PLP2|chrX:49047365-49047885:*        19413.0           63.199211   \n",
       "9805       HDAC6|chrX:49047365-49047885:*       389234.0           63.199211   \n",
       "10222      PQBP1|chrX:49047365-49047885:*       293338.0           63.199211   \n",
       "9353     PHF19|chr9:123658975-123659909:.        19876.5           52.776740   \n",
       "79         STMN1|chr1:26946299-26948271:.       714556.5           51.821692   \n",
       "100         PIGV|chr1:26946299-26948271:.       166903.5           51.821692   \n",
       "8303        CBX3|chr7:25901706-25902577:.       338662.5           44.471981   \n",
       "8306   HNRNPA2B1|chr7:25901706-25902577:.       338245.5           44.471981   \n",
       "8298        CYCS|chr7:25901706-25902577:.       737186.5           44.471981   \n",
       "6554      SLC6A6|chr3:14273867-14274612:.       169651.0           44.347410   \n",
       "6557      MRPS25|chr3:14273867-14274612:.       832413.0           44.347410   \n",
       "6552      CHCHD4|chr3:14273867-14274612:.       108053.0           44.347410   \n",
       "6547        LSM3|chr3:14273867-14274612:.        54197.0           44.347410   \n",
       "10176      PQBP1|chrX:48658825-48659325:*        97170.0           40.195031   \n",
       "9549       GATA1|chrX:48659028-48659074:*        14168.0           40.195031   \n",
       "9760       HDAC6|chrX:48659028-48659074:*         1274.0           40.195031   \n",
       "9966        PLP2|chrX:48658825-48659325:*       371095.0           40.195031   \n",
       "0           CEP104|chr1:3691278-3691778:*        81670.0           37.911222   \n",
       "1           LRRC47|chr1:3691278-3691778:*        20941.0           37.911222   \n",
       "\n",
       "      IsSignificant_crispr  IsSignificant_pred  ABC.Score.Numerator_pred  \\\n",
       "9600                 False               False                  0.044244   \n",
       "10013                False                True                  0.992694   \n",
       "9805                 False               False                  0.046042   \n",
       "10222                False               False                  0.061514   \n",
       "9353                  True                True                  0.809191   \n",
       "79                   False               False                  0.020265   \n",
       "100                  False                True                  0.089870   \n",
       "8303                 False               False                  0.037363   \n",
       "8306                 False               False                  0.037410   \n",
       "8298                 False               False                  0.016844   \n",
       "6554                  True                True                  0.075633   \n",
       "6557                 False               False                  0.014831   \n",
       "6552                 False                True                  0.120054   \n",
       "6547                  True                True                  0.243386   \n",
       "10176                False                True                  0.121311   \n",
       "9549                  True                True                  0.871700   \n",
       "9760                  True                True                  2.532866   \n",
       "9966                 False               False                  0.030750   \n",
       "0                     True                True                  0.136708   \n",
       "1                     True                True                  0.551024   \n",
       "\n",
       "       ABC.Score_pred TargetGene_crispr  \n",
       "9600         0.005082             GATA1  \n",
       "10013        0.138243              PLP2  \n",
       "9805         0.003737             HDAC6  \n",
       "10222        0.007651             PQBP1  \n",
       "9353         0.085098             PHF19  \n",
       "79           0.004736             STMN1  \n",
       "100          0.016023              PIGV  \n",
       "8303         0.011401              CBX3  \n",
       "8306         0.011399         HNRNPA2B1  \n",
       "8298         0.005663              CYCS  \n",
       "6554         0.024232            SLC6A6  \n",
       "6557         0.006977            MRPS25  \n",
       "6552         0.033920            CHCHD4  \n",
       "6547         0.091841              LSM3  \n",
       "10176        0.015088             PQBP1  \n",
       "9549         0.100123             GATA1  \n",
       "9760         0.205582             HDAC6  \n",
       "9966         0.004282              PLP2  \n",
       "0            0.048626            CEP104  \n",
       "1            0.166817            LRRC47  "
      ]
     },
     "execution_count": 23,
     "metadata": {},
     "output_type": "execute_result"
    }
   ],
   "source": [
    "overlaps[relevant_cols].sort_values(\"activity_base_pred\", ascending=False)[:20]"
   ]
  },
  {
   "cell_type": "code",
   "execution_count": 24,
   "metadata": {},
   "outputs": [
    {
     "data": {
      "text/plain": [
       "101"
      ]
     },
     "execution_count": 24,
     "metadata": {},
     "output_type": "execute_result"
    }
   ],
   "source": [
    "len(overlaps[overlaps[\"TargetGene_crispr\"] == \"COPZ1\"][relevant_cols])"
   ]
  },
  {
   "cell_type": "code",
   "execution_count": 25,
   "metadata": {},
   "outputs": [],
   "source": [
    "def get_pct_activity(df, in_pos=True):\n",
    "    col_name = \"activity_base_pred\"\n",
    "    filtered = df[df[\"IsSignificant_crispr\"] == in_pos]\n",
    "    return filtered[col_name].sum() / df[col_name].sum()"
   ]
  },
  {
   "cell_type": "code",
   "execution_count": 26,
   "metadata": {},
   "outputs": [
    {
     "data": {
      "text/plain": [
       "0.09015623509043992"
      ]
     },
     "execution_count": 26,
     "metadata": {},
     "output_type": "execute_result"
    }
   ],
   "source": [
    "get_pct_activity(overlaps,in_pos=True)"
   ]
  },
  {
   "cell_type": "code",
   "execution_count": 27,
   "metadata": {},
   "outputs": [
    {
     "data": {
      "text/plain": [
       "0.90984376490956"
      ]
     },
     "execution_count": 27,
     "metadata": {},
     "output_type": "execute_result"
    }
   ],
   "source": [
    "get_pct_activity(overlaps, in_pos=False)"
   ]
  },
  {
   "cell_type": "code",
   "execution_count": 28,
   "metadata": {},
   "outputs": [
    {
     "data": {
      "text/plain": [
       "0.08976787114135874"
      ]
     },
     "execution_count": 28,
     "metadata": {},
     "output_type": "execute_result"
    }
   ],
   "source": [
    "get_pct_activity(overlap_df, in_pos=True)"
   ]
  },
  {
   "cell_type": "code",
   "execution_count": 29,
   "metadata": {},
   "outputs": [
    {
     "data": {
      "image/png": "[encoded data removed]",
      "text/plain": [
       "<Figure size 432x288 with 1 Axes>"
      ]
     },
     "metadata": {
      "needs_background": "light"
     },
     "output_type": "display_data"
    }
   ],
   "source": [
    "activites = overlaps[overlaps[\"IsSignificant_crispr\"]][\"activity_base_pred\"].fillna(0)\n",
    "mean_value = np.mean(activites)\n",
    "median_value = np.median(activites)\n",
    "\n",
    "plt.hist(activites, bins=30, alpha=0.5, color='steelblue', edgecolor='black')\n",
    "plt.axvline(mean_value, color='r', linestyle='dashed', linewidth=2, label=f'Mean: {mean_value:.2f}')\n",
    "plt.axvline(median_value, color='g', linestyle='dotted', linewidth=2, label=f'Median: {median_value:.2f}')\n",
    "plt.legend()\n",
    "plt.xlabel('Value')\n",
    "plt.ylabel('Frequency')\n",
    "plt.show()"
   ]
  },
  {
   "cell_type": "code",
   "execution_count": null,
   "metadata": {},
   "outputs": [],
   "source": []
  },
  {
   "cell_type": "code",
   "execution_count": null,
   "metadata": {},
   "outputs": [],
   "source": []
  },
  {
   "cell_type": "code",
   "execution_count": null,
   "metadata": {},
   "outputs": [],
   "source": []
  },
  {
   "cell_type": "code",
   "execution_count": null,
   "metadata": {},
   "outputs": [],
   "source": []
  },
  {
   "cell_type": "code",
   "execution_count": null,
   "metadata": {},
   "outputs": [],
   "source": []
  },
  {
   "cell_type": "code",
   "execution_count": null,
   "metadata": {},
   "outputs": [],
   "source": []
  },
  {
   "cell_type": "code",
   "execution_count": null,
   "metadata": {},
   "outputs": [],
   "source": []
  },
  {
   "cell_type": "code",
   "execution_count": null,
   "metadata": {},
   "outputs": [],
   "source": []
  },
  {
   "cell_type": "code",
   "execution_count": 7,
   "metadata": {},
   "outputs": [
    {
     "name": "stdout",
     "output_type": "stream",
     "text": [
      "False pos large enhancers: 304\n",
      "False neg large enhancers: 96\n"
     ]
    }
   ],
   "source": [
    "false_pos = len(misclass_df[(misclass_df[\"EnhancerSize_Category\"] == \"Large\") & (misclass_df[\"FalsePos_Category\"] == True)])\n",
    "false_neg = len(misclass_df[(misclass_df[\"EnhancerSize_Category\"] == \"Large\") & (misclass_df[\"FalseNeg_Category\"] == True)])\n",
    "print(f\"False pos large enhancers: {false_pos}\\nFalse neg large enhancers: {false_neg}\")"
   ]
  },
  {
   "cell_type": "code",
   "execution_count": 8,
   "metadata": {},
   "outputs": [
    {
     "ename": "KeyError",
     "evalue": "\"['hic_contact_pl_scaled_adj_pred', 'ABC.Score_pred'] not in index\"",
     "output_type": "error",
     "traceback": [
      "\u001b[0;31m---------------------------------------------------------------------------\u001b[0m",
      "\u001b[0;31mKeyError\u001b[0m                                  Traceback (most recent call last)",
      "\u001b[0;32m/tmp/ipykernel_5979/4123608616.py\u001b[0m in \u001b[0;36m<module>\u001b[0;34m\u001b[0m\n\u001b[1;32m      1\u001b[0m \u001b[0mgata_1\u001b[0m \u001b[0;34m=\u001b[0m \u001b[0moverlap_df\u001b[0m\u001b[0;34m[\u001b[0m\u001b[0moverlap_df\u001b[0m\u001b[0;34m[\u001b[0m\u001b[0mDFSchema\u001b[0m\u001b[0;34m.\u001b[0m\u001b[0mTARGET_GENE\u001b[0m \u001b[0;34m+\u001b[0m \u001b[0mDFSchema\u001b[0m\u001b[0;34m.\u001b[0m\u001b[0mCRISPR_SUFFIX\u001b[0m\u001b[0;34m]\u001b[0m \u001b[0;34m==\u001b[0m \u001b[0;34m\"GATA1\"\u001b[0m\u001b[0;34m]\u001b[0m\u001b[0;34m\u001b[0m\u001b[0;34m\u001b[0m\u001b[0m\n\u001b[1;32m      2\u001b[0m \u001b[0mgata_1\u001b[0m \u001b[0;34m=\u001b[0m \u001b[0mgata_1\u001b[0m\u001b[0;34m.\u001b[0m\u001b[0msort_values\u001b[0m\u001b[0;34m(\u001b[0m\u001b[0mby\u001b[0m\u001b[0;34m=\u001b[0m\u001b[0;34m\"activity_base_pred\"\u001b[0m\u001b[0;34m,\u001b[0m \u001b[0mascending\u001b[0m\u001b[0;34m=\u001b[0m\u001b[0;32mFalse\u001b[0m\u001b[0;34m)\u001b[0m\u001b[0;34m\u001b[0m\u001b[0;34m\u001b[0m\u001b[0m\n\u001b[0;32m----> 3\u001b[0;31m \u001b[0mgata_1\u001b[0m\u001b[0;34m[\u001b[0m\u001b[0;34m[\u001b[0m\u001b[0;34m\"activity_base_pred\"\u001b[0m\u001b[0;34m,\u001b[0m \u001b[0;34m\"hic_contact_pl_scaled_adj_pred\"\u001b[0m\u001b[0;34m,\u001b[0m \u001b[0;34m\"ABC.Score_pred\"\u001b[0m\u001b[0;34m,\u001b[0m \u001b[0;34m\"Regulated_crispr\"\u001b[0m\u001b[0;34m]\u001b[0m\u001b[0;34m]\u001b[0m\u001b[0;34m[\u001b[0m\u001b[0;34m:\u001b[0m\u001b[0;36m50\u001b[0m\u001b[0;34m]\u001b[0m\u001b[0;34m\u001b[0m\u001b[0;34m\u001b[0m\u001b[0m\n\u001b[0m",
      "\u001b[0;32m/oak/stanford/groups/engreitz/Users/atan5133/.conda/envs/scripts/lib/python3.9/site-packages/pandas/core/frame.py\u001b[0m in \u001b[0;36m__getitem__\u001b[0;34m(self, key)\u001b[0m\n\u001b[1;32m   4094\u001b[0m             \u001b[0;32mif\u001b[0m \u001b[0mis_iterator\u001b[0m\u001b[0;34m(\u001b[0m\u001b[0mkey\u001b[0m\u001b[0;34m)\u001b[0m\u001b[0;34m:\u001b[0m\u001b[0;34m\u001b[0m\u001b[0;34m\u001b[0m\u001b[0m\n\u001b[1;32m   4095\u001b[0m                 \u001b[0mkey\u001b[0m \u001b[0;34m=\u001b[0m \u001b[0mlist\u001b[0m\u001b[0;34m(\u001b[0m\u001b[0mkey\u001b[0m\u001b[0;34m)\u001b[0m\u001b[0;34m\u001b[0m\u001b[0;34m\u001b[0m\u001b[0m\n\u001b[0;32m-> 4096\u001b[0;31m             \u001b[0mindexer\u001b[0m \u001b[0;34m=\u001b[0m \u001b[0mself\u001b[0m\u001b[0;34m.\u001b[0m\u001b[0mcolumns\u001b[0m\u001b[0;34m.\u001b[0m\u001b[0m_get_indexer_strict\u001b[0m\u001b[0;34m(\u001b[0m\u001b[0mkey\u001b[0m\u001b[0;34m,\u001b[0m \u001b[0;34m\"columns\"\u001b[0m\u001b[0;34m)\u001b[0m\u001b[0;34m[\u001b[0m\u001b[0;36m1\u001b[0m\u001b[0;34m]\u001b[0m\u001b[0;34m\u001b[0m\u001b[0;34m\u001b[0m\u001b[0m\n\u001b[0m\u001b[1;32m   4097\u001b[0m \u001b[0;34m\u001b[0m\u001b[0m\n\u001b[1;32m   4098\u001b[0m         \u001b[0;31m# take() does not accept boolean indexers\u001b[0m\u001b[0;34m\u001b[0m\u001b[0;34m\u001b[0m\u001b[0m\n",
      "\u001b[0;32m/oak/stanford/groups/engreitz/Users/atan5133/.conda/envs/scripts/lib/python3.9/site-packages/pandas/core/indexes/base.py\u001b[0m in \u001b[0;36m_get_indexer_strict\u001b[0;34m(self, key, axis_name)\u001b[0m\n\u001b[1;32m   6198\u001b[0m             \u001b[0mkeyarr\u001b[0m\u001b[0;34m,\u001b[0m \u001b[0mindexer\u001b[0m\u001b[0;34m,\u001b[0m \u001b[0mnew_indexer\u001b[0m \u001b[0;34m=\u001b[0m \u001b[0mself\u001b[0m\u001b[0;34m.\u001b[0m\u001b[0m_reindex_non_unique\u001b[0m\u001b[0;34m(\u001b[0m\u001b[0mkeyarr\u001b[0m\u001b[0;34m)\u001b[0m\u001b[0;34m\u001b[0m\u001b[0;34m\u001b[0m\u001b[0m\n\u001b[1;32m   6199\u001b[0m \u001b[0;34m\u001b[0m\u001b[0m\n\u001b[0;32m-> 6200\u001b[0;31m         \u001b[0mself\u001b[0m\u001b[0;34m.\u001b[0m\u001b[0m_raise_if_missing\u001b[0m\u001b[0;34m(\u001b[0m\u001b[0mkeyarr\u001b[0m\u001b[0;34m,\u001b[0m \u001b[0mindexer\u001b[0m\u001b[0;34m,\u001b[0m \u001b[0maxis_name\u001b[0m\u001b[0;34m)\u001b[0m\u001b[0;34m\u001b[0m\u001b[0;34m\u001b[0m\u001b[0m\n\u001b[0m\u001b[1;32m   6201\u001b[0m \u001b[0;34m\u001b[0m\u001b[0m\n\u001b[1;32m   6202\u001b[0m         \u001b[0mkeyarr\u001b[0m \u001b[0;34m=\u001b[0m \u001b[0mself\u001b[0m\u001b[0;34m.\u001b[0m\u001b[0mtake\u001b[0m\u001b[0;34m(\u001b[0m\u001b[0mindexer\u001b[0m\u001b[0;34m)\u001b[0m\u001b[0;34m\u001b[0m\u001b[0;34m\u001b[0m\u001b[0m\n",
      "\u001b[0;32m/oak/stanford/groups/engreitz/Users/atan5133/.conda/envs/scripts/lib/python3.9/site-packages/pandas/core/indexes/base.py\u001b[0m in \u001b[0;36m_raise_if_missing\u001b[0;34m(self, key, indexer, axis_name)\u001b[0m\n\u001b[1;32m   6250\u001b[0m \u001b[0;34m\u001b[0m\u001b[0m\n\u001b[1;32m   6251\u001b[0m             \u001b[0mnot_found\u001b[0m \u001b[0;34m=\u001b[0m \u001b[0mlist\u001b[0m\u001b[0;34m(\u001b[0m\u001b[0mensure_index\u001b[0m\u001b[0;34m(\u001b[0m\u001b[0mkey\u001b[0m\u001b[0;34m)\u001b[0m\u001b[0;34m[\u001b[0m\u001b[0mmissing_mask\u001b[0m\u001b[0;34m.\u001b[0m\u001b[0mnonzero\u001b[0m\u001b[0;34m(\u001b[0m\u001b[0;34m)\u001b[0m\u001b[0;34m[\u001b[0m\u001b[0;36m0\u001b[0m\u001b[0;34m]\u001b[0m\u001b[0;34m]\u001b[0m\u001b[0;34m.\u001b[0m\u001b[0munique\u001b[0m\u001b[0;34m(\u001b[0m\u001b[0;34m)\u001b[0m\u001b[0;34m)\u001b[0m\u001b[0;34m\u001b[0m\u001b[0;34m\u001b[0m\u001b[0m\n\u001b[0;32m-> 6252\u001b[0;31m             \u001b[0;32mraise\u001b[0m \u001b[0mKeyError\u001b[0m\u001b[0;34m(\u001b[0m\u001b[0;34mf\"{not_found} not in index\"\u001b[0m\u001b[0;34m)\u001b[0m\u001b[0;34m\u001b[0m\u001b[0;34m\u001b[0m\u001b[0m\n\u001b[0m\u001b[1;32m   6253\u001b[0m \u001b[0;34m\u001b[0m\u001b[0m\n\u001b[1;32m   6254\u001b[0m     \u001b[0;34m@\u001b[0m\u001b[0moverload\u001b[0m\u001b[0;34m\u001b[0m\u001b[0;34m\u001b[0m\u001b[0m\n",
      "\u001b[0;31mKeyError\u001b[0m: \"['hic_contact_pl_scaled_adj_pred', 'ABC.Score_pred'] not in index\""
     ]
    }
   ],
   "source": [
    "gata_1 = overlap_df[overlap_df[DFSchema.TARGET_GENE + DFSchema.CRISPR_SUFFIX] == \"GATA1\"]\n",
    "gata_1 = gata_1.sort_values(by=\"activity_base_pred\", ascending=False)\n",
    "gata_1[[\"activity_base_pred\", \"hic_contact_pl_scaled_adj_pred\", \"ABC.Score_pred\", \"Regulated_crispr\"]][:50]\n"
   ]
  },
  {
   "cell_type": "code",
   "execution_count": null,
   "metadata": {},
   "outputs": [],
   "source": [
    "# Look at GATA1 classification\n",
    "def print_target_gene_misclassification(target_gene):\n",
    "    incorrect = len(misclass_df[misclass_df[DFSchema.TARGET_GENE + DFSchema.CRISPR_SUFFIX] == target_gene])\n",
    "    total_pairs = len(overlaps[overlaps[DFSchema.TARGET_GENE + DFSchema.CRISPR_SUFFIX] == target_gene])\n",
    "    print(f\"Misclassified {incorrect}/{total_pairs} eg pairs for {target_gene}.\\n{int(100 * incorrect/total_pairs)}% incorrect\")\n",
    "\n",
    "print_target_gene_misclassification(\"GATA1\")\n",
    "print_target_gene_misclassification(\"PLP2\")"
   ]
  },
  {
   "cell_type": "code",
   "execution_count": null,
   "metadata": {},
   "outputs": [],
   "source": [
    "# Example queries\n",
    "print(misclass_df[\"FalsePos_Category\"].value_counts().filter([True]))\n",
    "print()\n",
    "print(len(misclass_df.query(\"FalseNeg_Category == True\")))"
   ]
  },
  {
   "cell_type": "code",
   "execution_count": null,
   "metadata": {},
   "outputs": [],
   "source": [
    "sizes = pred_df[\"end\"] - pred_df[\"start\"]\n",
    "num_normal = (sizes == 500).sum()\n",
    "num_large = (sizes > 500).sum()"
   ]
  },
  {
   "cell_type": "code",
   "execution_count": null,
   "metadata": {},
   "outputs": [],
   "source": [
    "num_normal"
   ]
  },
  {
   "cell_type": "code",
   "execution_count": null,
   "metadata": {},
   "outputs": [],
   "source": [
    "num_large"
   ]
  },
  {
   "cell_type": "code",
   "execution_count": null,
   "metadata": {},
   "outputs": [],
   "source": []
  }
 ],
 "metadata": {
  "kernelspec": {
   "display_name": "scripts",
   "language": "python",
   "name": "scripts"
  },
  "language_info": {
   "codemirror_mode": {
    "name": "ipython",
    "version": 3
   },
   "file_extension": ".py",
   "mimetype": "text/x-python",
   "name": "python",
   "nbconvert_exporter": "python",
   "pygments_lexer": "ipython3",
   "version": "3.9.18"
  }
 },
 "nbformat": 4,
 "nbformat_minor": 2
}
