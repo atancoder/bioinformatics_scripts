{
 "cells": [
  {
   "cell_type": "code",
   "execution_count": 1,
   "id": "23471b2c",
   "metadata": {},
   "outputs": [],
   "source": [
    "import bioframe as bf\n",
    "import pandas as pd\n",
    "import copy\n",
    "import numpy as np\n",
    "from schema import DFSchema\n",
    "from df_loader import CrisprDFLoader, PredDFLoader\n",
    "from overlaps import (\n",
    "    read_overlaps_from_file, merge_multiple_predictions\n",
    ")\n",
    "# pd.set_option('display.max_rows', 1000) "
   ]
  },
  {
   "cell_type": "code",
   "execution_count": 2,
   "id": "49867a18",
   "metadata": {},
   "outputs": [],
   "source": [
    "CRISPR_FILENAME = \"/oak/stanford/groups/engreitz/Projects/Benchmarking/CRISPR_data/EPCrisprBenchmark_ensemble_data_GRCh38.tsv.gz\"\n",
    "PRED_FILENAME = \"/oak/stanford/groups/engreitz/Users/rosaxma/ABC_single_cell_hg38/K562_ABC_pipeline_benchmark/ENCODE_ABC_output/Weilin_filtered_frag/Predictions/EnhancerPredictionsAllPutative.txt.gz\"\n",
    "OVERLAP_FILENAME = \"crispr_pred_overlaps.csv\"\n",
    "ABC_THRESHOLD = 0.02\n",
    "TSS_REF_FILE = \"resources/genome_annotations/RefSeqCurated.170308.bed.CollapsedGeneBounds.hg38.TSS500bp.bed\""
   ]
  },
  {
   "cell_type": "code",
   "execution_count": 3,
   "id": "eda13724",
   "metadata": {},
   "outputs": [],
   "source": [
    "overlap_df = read_overlaps_from_file(OVERLAP_FILENAME)"
   ]
  },
  {
   "cell_type": "code",
   "execution_count": 4,
   "id": "242c4043",
   "metadata": {},
   "outputs": [],
   "source": [
    "df = merge_multiple_predictions(overlap_df)"
   ]
  },
  {
   "cell_type": "code",
   "execution_count": 5,
   "id": "03dd6e75",
   "metadata": {},
   "outputs": [
    {
     "name": "stdout",
     "output_type": "stream",
     "text": [
      "10715 10375\n"
     ]
    }
   ],
   "source": [
    "print(len(overlap_df), len(df))"
   ]
  },
  {
   "cell_type": "code",
   "execution_count": 6,
   "id": "fcca564e",
   "metadata": {},
   "outputs": [],
   "source": [
    "from misclassifications import get_misclassifications, label_misclassifications, LABELERS, groupby_gene\n"
   ]
  },
  {
   "cell_type": "code",
   "execution_count": 7,
   "id": "3c34d6e4",
   "metadata": {},
   "outputs": [],
   "source": [
    "misclass_df = get_misclassifications(df)\n",
    "label_misclassifications(misclass_df)"
   ]
  },
  {
   "cell_type": "code",
   "execution_count": 8,
   "id": "dc74a307",
   "metadata": {},
   "outputs": [
    {
     "name": "stdout",
     "output_type": "stream",
     "text": [
      "FalsePos_Category\n",
      "True    344\n",
      "Name: count, dtype: int64\n",
      "\n",
      "FalseNeg_Category\n",
      "True    242\n",
      "Name: count, dtype: int64\n",
      "\n",
      "DistToTSSSize_Category\n",
      "medium (<= 100000 bp)    333\n",
      "large (> 100000 bp)      169\n",
      "small (<= 10000 bp)       84\n",
      "Name: count, dtype: int64\n",
      "\n",
      "Top5Gene_Category\n",
      "MYC      12\n",
      "PRDX2    10\n",
      "PQBP1    10\n",
      "PLP2      9\n",
      "ITGA5     9\n",
      "Name: count, dtype: int64\n",
      "\n",
      "from_multiple_predictions\n",
      "False    555\n",
      "True      31\n",
      "Name: count, dtype: int64\n",
      "\n"
     ]
    }
   ],
   "source": [
    "for labeler in LABELERS:\n",
    "    print(labeler.summarize_category_count(misclass_df))\n",
    "    print()"
   ]
  },
  {
   "cell_type": "code",
   "execution_count": null,
   "id": "288441c3",
   "metadata": {},
   "outputs": [],
   "source": []
  }
 ],
 "metadata": {
  "kernelspec": {
   "display_name": "error_analysis",
   "language": "python",
   "name": "error_analysis"
  },
  "language_info": {
   "codemirror_mode": {
    "name": "ipython",
    "version": 3
   },
   "file_extension": ".py",
   "mimetype": "text/x-python",
   "name": "python",
   "nbconvert_exporter": "python",
   "pygments_lexer": "ipython3",
   "version": "3.9.16"
  }
 },
 "nbformat": 4,
 "nbformat_minor": 5
}
