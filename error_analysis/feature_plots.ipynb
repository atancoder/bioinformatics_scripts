{
 "cells": [
  {
   "cell_type": "code",
   "execution_count": 48,
   "id": "25152418",
   "metadata": {},
   "outputs": [],
   "source": [
    "import numpy as np\n",
    "import pandas as pd\n",
    "import matplotlib.pyplot as plt"
   ]
  },
  {
   "cell_type": "code",
   "execution_count": 3,
   "id": "1718c3a2",
   "metadata": {},
   "outputs": [],
   "source": [
    "CRISPR_DATA_FILE = \"/oak/stanford/groups/engreitz/Users/atan5133/encode_e2g_features/results/K562_dnase_no_qnorm/EPCrisprBenchmark_ensemble_data_GRCh38.K562_ActivityOnly_features_NAfilled.tsv.gz\"\n",
    "TPM_FILE = \"/oak/stanford/groups/engreitz/Users/atan5133/encode_e2g_features/rna_tpm.tsv\""
   ]
  },
  {
   "cell_type": "code",
   "execution_count": 4,
   "id": "e9cb108e",
   "metadata": {},
   "outputs": [],
   "source": [
    "data_df = pd.read_csv(CRISPR_DATA_FILE, sep=\"\\t\")\n",
    "tpm_df = pd.read_csv(TPM_FILE, sep=\"\\t\", index_col=0)\n",
    "# merge DF based on measuredGeneSymbol and index\n",
    "data_df = data_df.merge(tpm_df, how='left', left_on='measuredGeneSymbol', right_index=True)\n",
    "data_df[\"TPM\"].fillna(0, inplace=True)"
   ]
  },
  {
   "cell_type": "code",
   "execution_count": 27,
   "id": "49cb3abd",
   "metadata": {},
   "outputs": [],
   "source": [
    "groups = data_df.groupby(\"measuredGeneSymbol\")"
   ]
  },
  {
   "cell_type": "code",
   "execution_count": 58,
   "id": "a7e21fa3",
   "metadata": {},
   "outputs": [],
   "source": [
    "x, y = [], []\n",
    "for gene, group in groups:\n",
    "    tpm = group.TPM.max()\n",
    "    num_enh = (group[\"Significant\"] == True).sum()\n",
    "    x.append(tpm)\n",
    "    y.append(num_enh)"
   ]
  },
  {
   "cell_type": "code",
   "execution_count": 59,
   "id": "22b363a9",
   "metadata": {},
   "outputs": [
    {
     "data": {
      "image/png": "[encoded data removed]",
      "text/plain": [
       "<Figure size 432x288 with 1 Axes>"
      ]
     },
     "metadata": {
      "needs_background": "light"
     },
     "output_type": "display_data"
    },
    {
     "name": "stdout",
     "output_type": "stream",
     "text": [
      "Plotted 2146 points\n"
     ]
    }
   ],
   "source": [
    "plt.scatter(x, y)\n",
    "plt.xlabel('TPM')\n",
    "plt.ylabel('Num Enhancers')\n",
    "plt.show()\n",
    "print(f\"Plotted {len(x)} points\")"
   ]
  },
  {
   "cell_type": "code",
   "execution_count": null,
   "id": "4c1ddfc4",
   "metadata": {},
   "outputs": [],
   "source": []
  }
 ],
 "metadata": {
  "kernelspec": {
   "display_name": "error_analysis",
   "language": "python",
   "name": "error_analysis"
  },
  "language_info": {
   "codemirror_mode": {
    "name": "ipython",
    "version": 3
   },
   "file_extension": ".py",
   "mimetype": "text/x-python",
   "name": "python",
   "nbconvert_exporter": "python",
   "pygments_lexer": "ipython3",
   "version": "3.9.18"
  }
 },
 "nbformat": 4,
 "nbformat_minor": 5
}
