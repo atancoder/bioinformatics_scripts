{
 "cells": [
  {
   "cell_type": "code",
   "execution_count": 42,
   "id": "23471b2c",
   "metadata": {},
   "outputs": [],
   "source": [
    "import bioframe as bf\n",
    "import pandas as pd\n",
    "import copy\n",
    "import numpy as np\n",
    "from schema import DFSchema\n",
    "from df_loader import CrisprDFLoader, PredDFLoader\n",
    "from overlaps import (\n",
    "    read_overlaps_from_file, merge_multiple_predictions, compute_crispr_overlaps\n",
    ")\n",
    "# pd.set_option('display.max_rows', 1000) "
   ]
  },
  {
   "cell_type": "code",
   "execution_count": 43,
   "id": "49867a18",
   "metadata": {},
   "outputs": [],
   "source": [
    "CRISPR_FILENAME = \"/oak/stanford/groups/engreitz/Projects/Benchmarking/CRISPR_data/EPCrisprBenchmark_ensemble_data_GRCh38.tsv.gz\"\n",
    "# PRED_FILENAME = \"/oak/stanford/groups/engreitz/Users/atan5133/abc_run_comparisons/results_no_qnorm_08_28_dev/Predictions/EnhancerPredictionsAllPutative.tsv.gz\"\n",
    "PRED_FILENAME = '/oak/stanford/groups/engreitz/Users/atan5133/abc_run_comparisons/results_10_26_dev_atac_k562_hic/Predictions/EnhancerPredictionsAllPutative.tsv.gz'\n",
    "OVERLAP_FILENAME = \"crispr_pred_overlaps_noqnorm.csv\"\n",
    "ABC_THRESHOLD = 0.026\n",
    "TSS_REF_FILE = \"resources/genome_annotations/RefSeqCurated.170308.bed.CollapsedGeneBounds.hg38.TSS500bp.bed\"\n",
    "TARGET_GENE = \"MYC\""
   ]
  },
  {
   "cell_type": "code",
   "execution_count": 44,
   "id": "1f4c5a17",
   "metadata": {},
   "outputs": [
    {
     "name": "stderr",
     "output_type": "stream",
     "text": [
      "/oak/stanford/groups/engreitz/Users/atan5133/.conda/envs/error_analysis/lib/python3.9/site-packages/bioframe/core/specs.py:150: FutureWarning: is_categorical_dtype is deprecated and will be removed in a future version. Use isinstance(dtype, CategoricalDtype) instead\n",
      "  pd.api.types.is_categorical_dtype(chrom_dtype),\n",
      "/oak/stanford/groups/engreitz/Users/atan5133/.conda/envs/error_analysis/lib/python3.9/site-packages/bioframe/core/specs.py:150: FutureWarning: is_categorical_dtype is deprecated and will be removed in a future version. Use isinstance(dtype, CategoricalDtype) instead\n",
      "  pd.api.types.is_categorical_dtype(chrom_dtype),\n",
      "/oak/stanford/groups/engreitz/Users/atan5133/.conda/envs/error_analysis/lib/python3.9/site-packages/bioframe/ops.py:514: FutureWarning: Setting an item of incompatible dtype is deprecated and will raise in a future error of pandas. Value 'nan' has dtype incompatible with bool, please explicitly cast to a compatible dtype first.\n",
      "  df_input_2[overlap_df_idxs[:, 1] == -1] = None\n"
     ]
    }
   ],
   "source": [
    "pred_df = PredDFLoader(PRED_FILENAME, TSS_REF_FILE, ABC_THRESHOLD).load()\n",
    "crispr_df = CrisprDFLoader(CRISPR_FILENAME, TSS_REF_FILE).load()\n",
    "overlap_df = compute_crispr_overlaps(\n",
    "    crispr_df, pred_df\n",
    ")\n",
    "# overlap_df = read_overlaps_from_file(OVERLAP_FILENAME)"
   ]
  },
  {
   "cell_type": "code",
   "execution_count": 45,
   "id": "bd97b18c",
   "metadata": {},
   "outputs": [],
   "source": [
    "df = merge_multiple_predictions(overlap_df, ABC_THRESHOLD)"
   ]
  },
  {
   "cell_type": "code",
   "execution_count": 46,
   "id": "bc61cb24",
   "metadata": {},
   "outputs": [],
   "source": [
    "def format_distance(bp):\n",
    "    kb = bp / 1000\n",
    "    mb = kb / 1000\n",
    "\n",
    "    if mb >= 1:\n",
    "        return f\"{mb:.2f} Mbp\"\n",
    "    elif kb >= 1:\n",
    "        return f\"{kb:.2f} Kbp\"\n",
    "    else:\n",
    "        return f\"{bp} bp\""
   ]
  },
  {
   "cell_type": "code",
   "execution_count": 47,
   "id": "1a50e7b2",
   "metadata": {},
   "outputs": [],
   "source": [
    "gene_df = df[df[\"TargetGene_crispr\"] == TARGET_GENE]\n",
    "# pretty print distance\n",
    "gene_df.loc[:,'distance_pred'] = gene_df['distance_pred'].apply(format_distance)"
   ]
  },
  {
   "cell_type": "code",
   "execution_count": 48,
   "id": "30a1464a",
   "metadata": {},
   "outputs": [
    {
     "ename": "KeyError",
     "evalue": "\"['normalized_dhs_pred'] not in index\"",
     "output_type": "error",
     "traceback": [
      "\u001b[0;31m---------------------------------------------------------------------------\u001b[0m",
      "\u001b[0;31mKeyError\u001b[0m                                  Traceback (most recent call last)",
      "\u001b[0;32m/tmp/ipykernel_15296/2603114643.py\u001b[0m in \u001b[0;36m<module>\u001b[0;34m\u001b[0m\n\u001b[1;32m      3\u001b[0m \u001b[0mcolumns_pred\u001b[0m \u001b[0;34m=\u001b[0m \u001b[0;34m[\u001b[0m\u001b[0;34m'name'\u001b[0m\u001b[0;34m,\u001b[0m \u001b[0;34m'distance'\u001b[0m\u001b[0;34m,\u001b[0m \u001b[0;34m'activity_base'\u001b[0m\u001b[0;34m,\u001b[0m \u001b[0;34m'hic_contact'\u001b[0m\u001b[0;34m,\u001b[0m \u001b[0;34m'hic_contact_pl_scaled_adj'\u001b[0m\u001b[0;34m,\u001b[0m \u001b[0;34m'ABC.Score'\u001b[0m\u001b[0;34m,\u001b[0m \u001b[0;34m'IsSignificant'\u001b[0m\u001b[0;34m,\u001b[0m \u001b[0;34m'ABC.Score.Numerator'\u001b[0m\u001b[0;34m,\u001b[0m \u001b[0;34m'normalized_dhs'\u001b[0m\u001b[0;34m,\u001b[0m \u001b[0;34m'isSelfPromoter'\u001b[0m\u001b[0;34m,\u001b[0m \u001b[0;34m'powerlaw_contact'\u001b[0m\u001b[0;34m,\u001b[0m \u001b[0;34m'powerlaw_contact_reference'\u001b[0m\u001b[0;34m,\u001b[0m\u001b[0;34m'hic_contact_pl_scaled'\u001b[0m\u001b[0;34m]\u001b[0m\u001b[0;34m\u001b[0m\u001b[0;34m\u001b[0m\u001b[0m\n\u001b[1;32m      4\u001b[0m \u001b[0mcolumns\u001b[0m \u001b[0;34m=\u001b[0m \u001b[0;34m[\u001b[0m\u001b[0;34m\"dataset_crispr\"\u001b[0m\u001b[0;34m,\u001b[0m \u001b[0;34m\"EffectSize_crispr\"\u001b[0m\u001b[0;34m,\u001b[0m \u001b[0;34m\"IsSignificant_crispr\"\u001b[0m\u001b[0;34m]\u001b[0m \u001b[0;34m+\u001b[0m \u001b[0;34m[\u001b[0m\u001b[0mcol\u001b[0m\u001b[0;34m+\u001b[0m\u001b[0;34m'_pred'\u001b[0m \u001b[0;32mfor\u001b[0m \u001b[0mcol\u001b[0m \u001b[0;32min\u001b[0m \u001b[0mcolumns_pred\u001b[0m\u001b[0;34m]\u001b[0m\u001b[0;34m\u001b[0m\u001b[0;34m\u001b[0m\u001b[0m\n\u001b[0;32m----> 5\u001b[0;31m \u001b[0mgene_df_sorted\u001b[0m\u001b[0;34m[\u001b[0m\u001b[0;34m:\u001b[0m\u001b[0;36m10\u001b[0m\u001b[0;34m]\u001b[0m\u001b[0;34m[\u001b[0m\u001b[0mcolumns\u001b[0m\u001b[0;34m]\u001b[0m\u001b[0;34m\u001b[0m\u001b[0;34m\u001b[0m\u001b[0m\n\u001b[0m",
      "\u001b[0;32m/oak/stanford/groups/engreitz/Users/atan5133/.conda/envs/error_analysis/lib/python3.9/site-packages/pandas/core/frame.py\u001b[0m in \u001b[0;36m__getitem__\u001b[0;34m(self, key)\u001b[0m\n\u001b[1;32m   3900\u001b[0m             \u001b[0;32mif\u001b[0m \u001b[0mis_iterator\u001b[0m\u001b[0;34m(\u001b[0m\u001b[0mkey\u001b[0m\u001b[0;34m)\u001b[0m\u001b[0;34m:\u001b[0m\u001b[0;34m\u001b[0m\u001b[0;34m\u001b[0m\u001b[0m\n\u001b[1;32m   3901\u001b[0m                 \u001b[0mkey\u001b[0m \u001b[0;34m=\u001b[0m \u001b[0mlist\u001b[0m\u001b[0;34m(\u001b[0m\u001b[0mkey\u001b[0m\u001b[0;34m)\u001b[0m\u001b[0;34m\u001b[0m\u001b[0;34m\u001b[0m\u001b[0m\n\u001b[0;32m-> 3902\u001b[0;31m             \u001b[0mindexer\u001b[0m \u001b[0;34m=\u001b[0m \u001b[0mself\u001b[0m\u001b[0;34m.\u001b[0m\u001b[0mcolumns\u001b[0m\u001b[0;34m.\u001b[0m\u001b[0m_get_indexer_strict\u001b[0m\u001b[0;34m(\u001b[0m\u001b[0mkey\u001b[0m\u001b[0;34m,\u001b[0m \u001b[0;34m\"columns\"\u001b[0m\u001b[0;34m)\u001b[0m\u001b[0;34m[\u001b[0m\u001b[0;36m1\u001b[0m\u001b[0;34m]\u001b[0m\u001b[0;34m\u001b[0m\u001b[0;34m\u001b[0m\u001b[0m\n\u001b[0m\u001b[1;32m   3903\u001b[0m \u001b[0;34m\u001b[0m\u001b[0m\n\u001b[1;32m   3904\u001b[0m         \u001b[0;31m# take() does not accept boolean indexers\u001b[0m\u001b[0;34m\u001b[0m\u001b[0;34m\u001b[0m\u001b[0m\n",
      "\u001b[0;32m/oak/stanford/groups/engreitz/Users/atan5133/.conda/envs/error_analysis/lib/python3.9/site-packages/pandas/core/indexes/base.py\u001b[0m in \u001b[0;36m_get_indexer_strict\u001b[0;34m(self, key, axis_name)\u001b[0m\n\u001b[1;32m   6112\u001b[0m             \u001b[0mkeyarr\u001b[0m\u001b[0;34m,\u001b[0m \u001b[0mindexer\u001b[0m\u001b[0;34m,\u001b[0m \u001b[0mnew_indexer\u001b[0m \u001b[0;34m=\u001b[0m \u001b[0mself\u001b[0m\u001b[0;34m.\u001b[0m\u001b[0m_reindex_non_unique\u001b[0m\u001b[0;34m(\u001b[0m\u001b[0mkeyarr\u001b[0m\u001b[0;34m)\u001b[0m\u001b[0;34m\u001b[0m\u001b[0;34m\u001b[0m\u001b[0m\n\u001b[1;32m   6113\u001b[0m \u001b[0;34m\u001b[0m\u001b[0m\n\u001b[0;32m-> 6114\u001b[0;31m         \u001b[0mself\u001b[0m\u001b[0;34m.\u001b[0m\u001b[0m_raise_if_missing\u001b[0m\u001b[0;34m(\u001b[0m\u001b[0mkeyarr\u001b[0m\u001b[0;34m,\u001b[0m \u001b[0mindexer\u001b[0m\u001b[0;34m,\u001b[0m \u001b[0maxis_name\u001b[0m\u001b[0;34m)\u001b[0m\u001b[0;34m\u001b[0m\u001b[0;34m\u001b[0m\u001b[0m\n\u001b[0m\u001b[1;32m   6115\u001b[0m \u001b[0;34m\u001b[0m\u001b[0m\n\u001b[1;32m   6116\u001b[0m         \u001b[0mkeyarr\u001b[0m \u001b[0;34m=\u001b[0m \u001b[0mself\u001b[0m\u001b[0;34m.\u001b[0m\u001b[0mtake\u001b[0m\u001b[0;34m(\u001b[0m\u001b[0mindexer\u001b[0m\u001b[0;34m)\u001b[0m\u001b[0;34m\u001b[0m\u001b[0;34m\u001b[0m\u001b[0m\n",
      "\u001b[0;32m/oak/stanford/groups/engreitz/Users/atan5133/.conda/envs/error_analysis/lib/python3.9/site-packages/pandas/core/indexes/base.py\u001b[0m in \u001b[0;36m_raise_if_missing\u001b[0;34m(self, key, indexer, axis_name)\u001b[0m\n\u001b[1;32m   6176\u001b[0m \u001b[0;34m\u001b[0m\u001b[0m\n\u001b[1;32m   6177\u001b[0m             \u001b[0mnot_found\u001b[0m \u001b[0;34m=\u001b[0m \u001b[0mlist\u001b[0m\u001b[0;34m(\u001b[0m\u001b[0mensure_index\u001b[0m\u001b[0;34m(\u001b[0m\u001b[0mkey\u001b[0m\u001b[0;34m)\u001b[0m\u001b[0;34m[\u001b[0m\u001b[0mmissing_mask\u001b[0m\u001b[0;34m.\u001b[0m\u001b[0mnonzero\u001b[0m\u001b[0;34m(\u001b[0m\u001b[0;34m)\u001b[0m\u001b[0;34m[\u001b[0m\u001b[0;36m0\u001b[0m\u001b[0;34m]\u001b[0m\u001b[0;34m]\u001b[0m\u001b[0;34m.\u001b[0m\u001b[0munique\u001b[0m\u001b[0;34m(\u001b[0m\u001b[0;34m)\u001b[0m\u001b[0;34m)\u001b[0m\u001b[0;34m\u001b[0m\u001b[0;34m\u001b[0m\u001b[0m\n\u001b[0;32m-> 6178\u001b[0;31m             \u001b[0;32mraise\u001b[0m \u001b[0mKeyError\u001b[0m\u001b[0;34m(\u001b[0m\u001b[0;34mf\"{not_found} not in index\"\u001b[0m\u001b[0;34m)\u001b[0m\u001b[0;34m\u001b[0m\u001b[0;34m\u001b[0m\u001b[0m\n\u001b[0m\u001b[1;32m   6179\u001b[0m \u001b[0;34m\u001b[0m\u001b[0m\n\u001b[1;32m   6180\u001b[0m     \u001b[0;34m@\u001b[0m\u001b[0moverload\u001b[0m\u001b[0;34m\u001b[0m\u001b[0;34m\u001b[0m\u001b[0m\n",
      "\u001b[0;31mKeyError\u001b[0m: \"['normalized_dhs_pred'] not in index\""
     ]
    }
   ],
   "source": [
    "# Sorted by top 10 contact\n",
    "gene_df_sorted = gene_df.sort_values(by=\"hic_contact_pl_scaled_adj_pred\", ascending=False)\n",
    "columns_pred = ['name', 'distance', 'activity_base', 'hic_contact', 'hic_contact_pl_scaled_adj', 'ABC.Score', 'IsSignificant', 'ABC.Score.Numerator', 'normalized_dhs', 'isSelfPromoter', 'powerlaw_contact', 'powerlaw_contact_reference','hic_contact_pl_scaled']\n",
    "columns = [\"dataset_crispr\", \"EffectSize_crispr\", \"IsSignificant_crispr\"] + [col+'_pred' for col in columns_pred]\n",
    "gene_df_sorted[:10][columns]"
   ]
  },
  {
   "cell_type": "code",
   "execution_count": null,
   "id": "358c565b",
   "metadata": {},
   "outputs": [],
   "source": [
    "\"\"\"\n",
    "Analysis:\n",
    "Highest contact isn't good as a metric by itself because you tend to see close (<10kb) very weak enhancers. \n",
    "Suprisingly, contact is still very high from large distances. 162Kbp is the 3rd most contacted with the gene\n",
    "But not all far enhancers with contact are strong enhancers. \n",
    "\n",
    "Questions:\n",
    "- how is activity bse calculated? normalized dhs?\n",
    "- I wonder where the CTCF sites are here?\n",
    "\"\"\""
   ]
  },
  {
   "cell_type": "code",
   "execution_count": null,
   "id": "e0c0ce19",
   "metadata": {},
   "outputs": [],
   "source": [
    "# top 15 effect sizes\n",
    "\"\"\"\n",
    "Analysis:\n",
    "Seems like we \n",
    "\"\"\"\n",
    "gene_df.sort_values(by=\"EffectSize_crispr\", ascending=True)[columns][:15]"
   ]
  },
  {
   "cell_type": "code",
   "execution_count": null,
   "id": "01a7b9b6",
   "metadata": {},
   "outputs": [],
   "source": [
    "\"\"\"\n",
    "Analysis:\n",
    "It looks like all of the enhancers for this gene are distant enhancers. Only 2/8 of the significant \n",
    "enhancers are in the top 10 for contact. \n",
    "\n",
    "Looking at the misses we get from this data, I wonder if normalizing the score across all E-G candidates makes\n",
    "sense. You end up penalizing many enhancers from being considered strong because it's 'saturated'.\n",
    "\n",
    "It may make more sense to normalize activity and contact by themselves, without normalization afterwards.\n",
    "The normalization should be similar to RNA normalization, with RPM/TPM. This may scale better to different\n",
    "cell types, as we can just look at the activity RPM and contact.\n",
    "\n",
    "\"\"\""
   ]
  },
  {
   "cell_type": "code",
   "execution_count": null,
   "id": "46e6dabd",
   "metadata": {},
   "outputs": [],
   "source": [
    "# Total Significant enhancers: 9\n",
    "print(len(gene_df[gene_df[\"IsSignificant_crispr\"]]))\n",
    "\n",
    "# Total predicted signficant enhancers: 3\n",
    "print(len(gene_df[gene_df[\"IsSignificant_pred\"]]))"
   ]
  },
  {
   "cell_type": "code",
   "execution_count": null,
   "id": "0c68d3a3",
   "metadata": {},
   "outputs": [],
   "source": [
    "crispr_df[crispr_df[\"TargetGene\"] == \"MYC\"].iloc[0]"
   ]
  },
  {
   "cell_type": "code",
   "execution_count": null,
   "id": "faf93f55",
   "metadata": {},
   "outputs": [],
   "source": [
    "gene_df.iloc[0]"
   ]
  },
  {
   "cell_type": "code",
   "execution_count": 49,
   "id": "2b951ce1",
   "metadata": {},
   "outputs": [
    {
     "name": "stderr",
     "output_type": "stream",
     "text": [
      "No artists with labels found to put in legend.  Note that artists whose label start with an underscore are ignored when legend() is called with no argument.\n"
     ]
    },
    {
     "data": {
      "image/png": "[encoded data removed]",
      "text/plain": [
       "<Figure size 432x288 with 1 Axes>"
      ]
     },
     "metadata": {
      "needs_background": "light"
     },
     "output_type": "display_data"
    }
   ],
   "source": [
    "import matplotlib.pyplot as plt\n",
    "plt.clf()\n",
    "X, Y = [], []\n",
    "put_X, put_Y = [], []\n",
    "for idx, row in gene_df.iterrows():\n",
    "    activity = row['activity_base_pred']\n",
    "    if row['IsSignificant_crispr']:\n",
    "        put_X.append(idx)\n",
    "        put_Y.append(activity)\n",
    "    else:\n",
    "        X.append(idx)\n",
    "        Y.append(activity)\n",
    "\n",
    "plt.scatter(X,Y)\n",
    "plt.scatter(put_X,put_Y, color='red')\n",
    "plt.xlabel('index')\n",
    "plt.ylabel('RPM')\n",
    "plt.legend()\n",
    "plt.show()"
   ]
  },
  {
   "cell_type": "code",
   "execution_count": null,
   "id": "ba511d4b",
   "metadata": {},
   "outputs": [],
   "source": []
  }
 ],
 "metadata": {
  "kernelspec": {
   "display_name": "error_analysis",
   "language": "python",
   "name": "error_analysis"
  },
  "language_info": {
   "codemirror_mode": {
    "name": "ipython",
    "version": 3
   },
   "file_extension": ".py",
   "mimetype": "text/x-python",
   "name": "python",
   "nbconvert_exporter": "python",
   "pygments_lexer": "ipython3",
   "version": "3.9.18"
  }
 },
 "nbformat": 4,
 "nbformat_minor": 5
}
